{
 "cells": [
  {
   "cell_type": "code",
   "execution_count": 118,
   "metadata": {},
   "outputs": [],
   "source": [
    "import pandas as pd\n",
    "import numpy as np\n",
    "import matplotlib.pyplot as plt\n",
    "from sklearn.model_selection import train_test_split\n",
    "from sklearn.metrics import confusion_matrix, classification_report\n",
    "from sklearn.cluster import KMeans\n",
    "from sklearn.decomposition import PCA\n",
    "from sklearn.preprocessing import StandardScaler\n",
    "import seaborn as sns\n",
    "from warnings import simplefilter\n",
    "\n",
    "simplefilter(action='ignore', category=FutureWarning)\n",
    "%matplotlib inline"
   ]
  },
  {
   "cell_type": "code",
   "execution_count": 119,
   "metadata": {},
   "outputs": [
    {
     "data": {
      "text/html": [
       "<div>\n",
       "<style scoped>\n",
       "    .dataframe tbody tr th:only-of-type {\n",
       "        vertical-align: middle;\n",
       "    }\n",
       "\n",
       "    .dataframe tbody tr th {\n",
       "        vertical-align: top;\n",
       "    }\n",
       "\n",
       "    .dataframe thead th {\n",
       "        text-align: right;\n",
       "    }\n",
       "</style>\n",
       "<table border=\"1\" class=\"dataframe\">\n",
       "  <thead>\n",
       "    <tr style=\"text-align: right;\">\n",
       "      <th></th>\n",
       "      <th>order_id</th>\n",
       "      <th>store_id</th>\n",
       "      <th>to_user_distance</th>\n",
       "      <th>to_user_elevation</th>\n",
       "      <th>total_earning</th>\n",
       "      <th>created_at</th>\n",
       "      <th>taken</th>\n",
       "    </tr>\n",
       "  </thead>\n",
       "  <tbody>\n",
       "    <tr>\n",
       "      <th>0</th>\n",
       "      <td>14364873</td>\n",
       "      <td>30000009</td>\n",
       "      <td>2.478101</td>\n",
       "      <td>-72.719360</td>\n",
       "      <td>4200</td>\n",
       "      <td>2017-09-07T20:02:17Z</td>\n",
       "      <td>0</td>\n",
       "    </tr>\n",
       "    <tr>\n",
       "      <th>1</th>\n",
       "      <td>14370123</td>\n",
       "      <td>30000058</td>\n",
       "      <td>0.451711</td>\n",
       "      <td>37.754761</td>\n",
       "      <td>4200</td>\n",
       "      <td>2017-09-07T20:13:16Z</td>\n",
       "      <td>0</td>\n",
       "    </tr>\n",
       "  </tbody>\n",
       "</table>\n",
       "</div>"
      ],
      "text/plain": [
       "   order_id  store_id  to_user_distance  to_user_elevation  total_earning  \\\n",
       "0  14364873  30000009          2.478101         -72.719360           4200   \n",
       "1  14370123  30000058          0.451711          37.754761           4200   \n",
       "\n",
       "             created_at  taken  \n",
       "0  2017-09-07T20:02:17Z      0  \n",
       "1  2017-09-07T20:13:16Z      0  "
      ]
     },
     "execution_count": 119,
     "metadata": {},
     "output_type": "execute_result"
    }
   ],
   "source": [
    "df = pd.read_csv('data/rappiorders.csv', encoding='utf-8')\n",
    "df.head(2)"
   ]
  },
  {
   "cell_type": "code",
   "execution_count": 120,
   "metadata": {},
   "outputs": [
    {
     "data": {
      "text/html": [
       "<div>\n",
       "<style scoped>\n",
       "    .dataframe tbody tr th:only-of-type {\n",
       "        vertical-align: middle;\n",
       "    }\n",
       "\n",
       "    .dataframe tbody tr th {\n",
       "        vertical-align: top;\n",
       "    }\n",
       "\n",
       "    .dataframe thead th {\n",
       "        text-align: right;\n",
       "    }\n",
       "</style>\n",
       "<table border=\"1\" class=\"dataframe\">\n",
       "  <thead>\n",
       "    <tr style=\"text-align: right;\">\n",
       "      <th></th>\n",
       "      <th>store_id</th>\n",
       "      <th>to_user_distance</th>\n",
       "      <th>to_user_elevation</th>\n",
       "      <th>total_earning</th>\n",
       "      <th>created_at</th>\n",
       "      <th>taken</th>\n",
       "    </tr>\n",
       "  </thead>\n",
       "  <tbody>\n",
       "    <tr>\n",
       "      <th>0</th>\n",
       "      <td>30000009</td>\n",
       "      <td>2.478101</td>\n",
       "      <td>-72.719360</td>\n",
       "      <td>4200</td>\n",
       "      <td>2017-09-07T20:02:17Z</td>\n",
       "      <td>0</td>\n",
       "    </tr>\n",
       "    <tr>\n",
       "      <th>1</th>\n",
       "      <td>30000058</td>\n",
       "      <td>0.451711</td>\n",
       "      <td>37.754761</td>\n",
       "      <td>4200</td>\n",
       "      <td>2017-09-07T20:13:16Z</td>\n",
       "      <td>0</td>\n",
       "    </tr>\n",
       "  </tbody>\n",
       "</table>\n",
       "</div>"
      ],
      "text/plain": [
       "   store_id  to_user_distance  to_user_elevation  total_earning  \\\n",
       "0  30000009          2.478101         -72.719360           4200   \n",
       "1  30000058          0.451711          37.754761           4200   \n",
       "\n",
       "             created_at  taken  \n",
       "0  2017-09-07T20:02:17Z      0  \n",
       "1  2017-09-07T20:13:16Z      0  "
      ]
     },
     "execution_count": 120,
     "metadata": {},
     "output_type": "execute_result"
    }
   ],
   "source": [
    "df.drop(['order_id'], axis=1, inplace=True)\n",
    "df.head(2)"
   ]
  },
  {
   "cell_type": "code",
   "execution_count": 121,
   "metadata": {},
   "outputs": [],
   "source": [
    "df['day'] = pd.DatetimeIndex(df['created_at']).day\n",
    "df['month'] = pd.DatetimeIndex(df['created_at']).month\n",
    "df['dayofweek'] = pd.DatetimeIndex(df['created_at']).dayofweek\n",
    "\n",
    "df.drop(['created_at'], axis=1, inplace=True)"
   ]
  },
  {
   "cell_type": "code",
   "execution_count": 122,
   "metadata": {},
   "outputs": [
    {
     "data": {
      "text/html": [
       "<div>\n",
       "<style scoped>\n",
       "    .dataframe tbody tr th:only-of-type {\n",
       "        vertical-align: middle;\n",
       "    }\n",
       "\n",
       "    .dataframe tbody tr th {\n",
       "        vertical-align: top;\n",
       "    }\n",
       "\n",
       "    .dataframe thead th {\n",
       "        text-align: right;\n",
       "    }\n",
       "</style>\n",
       "<table border=\"1\" class=\"dataframe\">\n",
       "  <thead>\n",
       "    <tr style=\"text-align: right;\">\n",
       "      <th></th>\n",
       "      <th>store_id</th>\n",
       "      <th>to_user_distance</th>\n",
       "      <th>to_user_elevation</th>\n",
       "      <th>total_earning</th>\n",
       "      <th>taken</th>\n",
       "      <th>day</th>\n",
       "      <th>month</th>\n",
       "      <th>dayofweek</th>\n",
       "    </tr>\n",
       "  </thead>\n",
       "  <tbody>\n",
       "    <tr>\n",
       "      <th>0</th>\n",
       "      <td>30000009</td>\n",
       "      <td>2.478101</td>\n",
       "      <td>-72.719360</td>\n",
       "      <td>4200</td>\n",
       "      <td>0</td>\n",
       "      <td>7</td>\n",
       "      <td>9</td>\n",
       "      <td>3</td>\n",
       "    </tr>\n",
       "    <tr>\n",
       "      <th>1</th>\n",
       "      <td>30000058</td>\n",
       "      <td>0.451711</td>\n",
       "      <td>37.754761</td>\n",
       "      <td>4200</td>\n",
       "      <td>0</td>\n",
       "      <td>7</td>\n",
       "      <td>9</td>\n",
       "      <td>3</td>\n",
       "    </tr>\n",
       "  </tbody>\n",
       "</table>\n",
       "</div>"
      ],
      "text/plain": [
       "   store_id  to_user_distance  to_user_elevation  total_earning  taken  day  \\\n",
       "0  30000009          2.478101         -72.719360           4200      0    7   \n",
       "1  30000058          0.451711          37.754761           4200      0    7   \n",
       "\n",
       "   month  dayofweek  \n",
       "0      9          3  \n",
       "1      9          3  "
      ]
     },
     "execution_count": 122,
     "metadata": {},
     "output_type": "execute_result"
    }
   ],
   "source": [
    "df.head(2)"
   ]
  },
  {
   "cell_type": "code",
   "execution_count": 123,
   "metadata": {},
   "outputs": [
    {
     "data": {
      "text/plain": [
       "[Text(0, 0.5, 'Counts')]"
      ]
     },
     "execution_count": 123,
     "metadata": {},
     "output_type": "execute_result"
    },
    {
     "data": {
      "image/png": "[encoded data removed]",
      "text/plain": [
       "<Figure size 432x288 with 1 Axes>"
      ]
     },
     "metadata": {
      "needs_background": "light"
     },
     "output_type": "display_data"
    }
   ],
   "source": [
    "data = df['total_earning']\n",
    "ax = sns.distplot(data, kde=False)\n",
    "ax.set(ylabel='Counts')"
   ]
  },
  {
   "cell_type": "code",
   "execution_count": 124,
   "metadata": {},
   "outputs": [
    {
     "data": {
      "text/plain": [
       "[Text(0, 0.5, 'Counts')]"
      ]
     },
     "execution_count": 124,
     "metadata": {},
     "output_type": "execute_result"
    },
    {
     "data": {
      "image/png": "[encoded data removed]",
      "text/plain": [
       "<Figure size 432x288 with 1 Axes>"
      ]
     },
     "metadata": {
      "needs_background": "light"
     },
     "output_type": "display_data"
    }
   ],
   "source": [
    "data = df['taken']\n",
    "ax = sns.distplot(data, kde=False)\n",
    "ax.set(ylabel='Counts')"
   ]
  },
  {
   "cell_type": "code",
   "execution_count": 125,
   "metadata": {},
   "outputs": [
    {
     "data": {
      "text/plain": [
       "[Text(0, 0.5, 'Counts')]"
      ]
     },
     "execution_count": 125,
     "metadata": {},
     "output_type": "execute_result"
    },
    {
     "data": {
      "image/png": "[encoded data removed]",
      "text/plain": [
       "<Figure size 432x288 with 1 Axes>"
      ]
     },
     "metadata": {
      "needs_background": "light"
     },
     "output_type": "display_data"
    }
   ],
   "source": [
    "data = df['day']\n",
    "ax = sns.distplot(data, kde=False)\n",
    "ax.set(ylabel='Counts')"
   ]
  },
  {
   "cell_type": "code",
   "execution_count": 126,
   "metadata": {},
   "outputs": [
    {
     "data": {
      "text/plain": [
       "[Text(0, 0.5, 'Counts')]"
      ]
     },
     "execution_count": 126,
     "metadata": {},
     "output_type": "execute_result"
    },
    {
     "data": {
      "image/png": "[encoded data removed]",
      "text/plain": [
       "<Figure size 432x288 with 1 Axes>"
      ]
     },
     "metadata": {
      "needs_background": "light"
     },
     "output_type": "display_data"
    }
   ],
   "source": [
    "data = df['dayofweek']\n",
    "ax = sns.distplot(data, kde=False)\n",
    "ax.set(ylabel='Counts')"
   ]
  },
  {
   "cell_type": "code",
   "execution_count": 127,
   "metadata": {},
   "outputs": [
    {
     "data": {
      "text/plain": [
       "<matplotlib.axes._subplots.AxesSubplot at 0x7f681c4e27f0>"
      ]
     },
     "execution_count": 127,
     "metadata": {},
     "output_type": "execute_result"
    },
    {
     "data": {
      "image/png": "[encoded data removed]",
      "text/plain": [
       "<Figure size 432x288 with 1 Axes>"
      ]
     },
     "metadata": {
      "needs_background": "light"
     },
     "output_type": "display_data"
    }
   ],
   "source": [
    "x = df['dayofweek']\n",
    "y = df['total_earning']\n",
    "\n",
    "sns.scatterplot(x,y)"
   ]
  },
  {
   "cell_type": "code",
   "execution_count": 128,
   "metadata": {},
   "outputs": [],
   "source": [
    "model = KMeans(n_clusters=2)\n",
    "model.fit(df);"
   ]
  },
  {
   "cell_type": "code",
   "execution_count": 129,
   "metadata": {},
   "outputs": [
    {
     "data": {
      "text/plain": [
       "<seaborn.axisgrid.FacetGrid at 0x7f681c49a358>"
      ]
     },
     "execution_count": 129,
     "metadata": {},
     "output_type": "execute_result"
    },
    {
     "data": {
      "image/png": "[encoded data removed]",
      "text/plain": [
       "<Figure size 441.75x360 with 1 Axes>"
      ]
     },
     "metadata": {
      "needs_background": "light"
     },
     "output_type": "display_data"
    }
   ],
   "source": [
    "df['kmeans_labels'] = model.labels_\n",
    "sns.lmplot(x ='day', y='total_earning', data=df, fit_reg=False, hue=\"kmeans_labels\",legend=True)"
   ]
  },
  {
   "cell_type": "code",
   "execution_count": 130,
   "metadata": {},
   "outputs": [],
   "source": [
    "k_values = range(1, 10)\n",
    "\n",
    "k_mean_models = [KMeans(n_clusters=i) for i in k_values]\n",
    "\n",
    "scores = [-k_mean_models[i].fit(df).score(df) for i, model in enumerate(k_mean_models)]"
   ]
  },
  {
   "cell_type": "code",
   "execution_count": 131,
   "metadata": {},
   "outputs": [
    {
     "data": {
      "image/png": "[encoded data removed]",
      "text/plain": [
       "<Figure size 432x288 with 1 Axes>"
      ]
     },
     "metadata": {
      "needs_background": "light"
     },
     "output_type": "display_data"
    }
   ],
   "source": [
    "ax = sns.pointplot(x=list(k_values),\n",
    "                   y=scores);\n",
    "ax.set(xlabel='k', \n",
    "       ylabel='Fit', \n",
    "       title='The Elbow Method choosing k');"
   ]
  },
  {
   "cell_type": "code",
   "execution_count": 132,
   "metadata": {},
   "outputs": [
    {
     "data": {
      "text/html": [
       "<div>\n",
       "<style scoped>\n",
       "    .dataframe tbody tr th:only-of-type {\n",
       "        vertical-align: middle;\n",
       "    }\n",
       "\n",
       "    .dataframe tbody tr th {\n",
       "        vertical-align: top;\n",
       "    }\n",
       "\n",
       "    .dataframe thead th {\n",
       "        text-align: right;\n",
       "    }\n",
       "</style>\n",
       "<table border=\"1\" class=\"dataframe\">\n",
       "  <thead>\n",
       "    <tr style=\"text-align: right;\">\n",
       "      <th></th>\n",
       "      <th>pc1</th>\n",
       "    </tr>\n",
       "  </thead>\n",
       "  <tbody>\n",
       "    <tr>\n",
       "      <th>0</th>\n",
       "      <td>3.104919</td>\n",
       "    </tr>\n",
       "    <tr>\n",
       "      <th>1</th>\n",
       "      <td>2.894861</td>\n",
       "    </tr>\n",
       "  </tbody>\n",
       "</table>\n",
       "</div>"
      ],
      "text/plain": [
       "        pc1\n",
       "0  3.104919\n",
       "1  2.894861"
      ]
     },
     "execution_count": 132,
     "metadata": {},
     "output_type": "execute_result"
    }
   ],
   "source": [
    "m = df.values\n",
    "m = StandardScaler().fit_transform(m)\n",
    "\n",
    "pca = PCA(n_components=1)\n",
    "principalComponents = pca.fit_transform(m)\n",
    "\n",
    "principalDf = pd.DataFrame(data = principalComponents, columns = ['pc1'])\n",
    "\n",
    "principalDf.head(2)"
   ]
  },
  {
   "cell_type": "code",
   "execution_count": 133,
   "metadata": {},
   "outputs": [
    {
     "data": {
      "text/html": [
       "<div>\n",
       "<style scoped>\n",
       "    .dataframe tbody tr th:only-of-type {\n",
       "        vertical-align: middle;\n",
       "    }\n",
       "\n",
       "    .dataframe tbody tr th {\n",
       "        vertical-align: top;\n",
       "    }\n",
       "\n",
       "    .dataframe thead th {\n",
       "        text-align: right;\n",
       "    }\n",
       "</style>\n",
       "<table border=\"1\" class=\"dataframe\">\n",
       "  <thead>\n",
       "    <tr style=\"text-align: right;\">\n",
       "      <th></th>\n",
       "      <th>store_id</th>\n",
       "      <th>to_user_distance</th>\n",
       "      <th>to_user_elevation</th>\n",
       "      <th>total_earning</th>\n",
       "      <th>taken</th>\n",
       "      <th>day</th>\n",
       "      <th>month</th>\n",
       "      <th>dayofweek</th>\n",
       "      <th>kmeans_labels</th>\n",
       "      <th>pc1</th>\n",
       "    </tr>\n",
       "  </thead>\n",
       "  <tbody>\n",
       "    <tr>\n",
       "      <th>0</th>\n",
       "      <td>30000009</td>\n",
       "      <td>2.478101</td>\n",
       "      <td>-72.719360</td>\n",
       "      <td>4200</td>\n",
       "      <td>0</td>\n",
       "      <td>7</td>\n",
       "      <td>9</td>\n",
       "      <td>3</td>\n",
       "      <td>1</td>\n",
       "      <td>3.104919</td>\n",
       "    </tr>\n",
       "    <tr>\n",
       "      <th>1</th>\n",
       "      <td>30000058</td>\n",
       "      <td>0.451711</td>\n",
       "      <td>37.754761</td>\n",
       "      <td>4200</td>\n",
       "      <td>0</td>\n",
       "      <td>7</td>\n",
       "      <td>9</td>\n",
       "      <td>3</td>\n",
       "      <td>1</td>\n",
       "      <td>2.894861</td>\n",
       "    </tr>\n",
       "  </tbody>\n",
       "</table>\n",
       "</div>"
      ],
      "text/plain": [
       "   store_id  to_user_distance  to_user_elevation  total_earning  taken  day  \\\n",
       "0  30000009          2.478101         -72.719360           4200      0    7   \n",
       "1  30000058          0.451711          37.754761           4200      0    7   \n",
       "\n",
       "   month  dayofweek  kmeans_labels       pc1  \n",
       "0      9          3              1  3.104919  \n",
       "1      9          3              1  2.894861  "
      ]
     },
     "execution_count": 133,
     "metadata": {},
     "output_type": "execute_result"
    }
   ],
   "source": [
    "data_pca_final = df.join(principalDf)\n",
    "data_pca_final.head(2)"
   ]
  },
  {
   "cell_type": "code",
   "execution_count": 134,
   "metadata": {},
   "outputs": [],
   "source": [
    "data_pca_final['total_earningt_standardized'] = pd.Series(data = m[:,3], name = 'total_earningt_standardized')\n",
    "data_pca_final['dayofweek_standardized'] = pd.Series(data = m[:,4], name = 'dayofweek_standardized')"
   ]
  },
  {
   "cell_type": "code",
   "execution_count": 135,
   "metadata": {},
   "outputs": [
    {
     "data": {
      "text/plain": [
       "<matplotlib.axes._subplots.AxesSubplot at 0x7f681c42da90>"
      ]
     },
     "execution_count": 135,
     "metadata": {},
     "output_type": "execute_result"
    },
    {
     "data": {
      "image/png": "[encoded data removed]",
      "text/plain": [
       "<Figure size 432x288 with 1 Axes>"
      ]
     },
     "metadata": {
      "needs_background": "light"
     },
     "output_type": "display_data"
    }
   ],
   "source": [
    "x = m[:,3]\n",
    "y = principalComponents[:,0]\n",
    "\n",
    "sns.scatterplot(x,y)"
   ]
  },
  {
   "cell_type": "code",
   "execution_count": 136,
   "metadata": {},
   "outputs": [
    {
     "data": {
      "text/plain": [
       "<matplotlib.axes._subplots.AxesSubplot at 0x7f681c3e9128>"
      ]
     },
     "execution_count": 136,
     "metadata": {},
     "output_type": "execute_result"
    },
    {
     "data": {
      "image/png": "[encoded data removed]",
      "text/plain": [
       "<Figure size 432x288 with 1 Axes>"
      ]
     },
     "metadata": {
      "needs_background": "light"
     },
     "output_type": "display_data"
    }
   ],
   "source": [
    "x = m[:,7]\n",
    "y = principalComponents[:,0]\n",
    "\n",
    "sns.scatterplot(x,y)"
   ]
  },
  {
   "cell_type": "code",
   "execution_count": 139,
   "metadata": {},
   "outputs": [
    {
     "data": {
      "text/html": [
       "<div>\n",
       "<style scoped>\n",
       "    .dataframe tbody tr th:only-of-type {\n",
       "        vertical-align: middle;\n",
       "    }\n",
       "\n",
       "    .dataframe tbody tr th {\n",
       "        vertical-align: top;\n",
       "    }\n",
       "\n",
       "    .dataframe thead th {\n",
       "        text-align: right;\n",
       "    }\n",
       "</style>\n",
       "<table border=\"1\" class=\"dataframe\">\n",
       "  <thead>\n",
       "    <tr style=\"text-align: right;\">\n",
       "      <th></th>\n",
       "      <th>total_earningt_standardized</th>\n",
       "      <th>dayofweek_standardized</th>\n",
       "      <th>pc1</th>\n",
       "    </tr>\n",
       "  </thead>\n",
       "  <tbody>\n",
       "    <tr>\n",
       "      <th>0</th>\n",
       "      <td>-0.650997</td>\n",
       "      <td>-3.419529</td>\n",
       "      <td>3.104919</td>\n",
       "    </tr>\n",
       "    <tr>\n",
       "      <th>1</th>\n",
       "      <td>-0.650997</td>\n",
       "      <td>-3.419529</td>\n",
       "      <td>2.894861</td>\n",
       "    </tr>\n",
       "    <tr>\n",
       "      <th>2</th>\n",
       "      <td>-0.763370</td>\n",
       "      <td>-3.419529</td>\n",
       "      <td>-0.762671</td>\n",
       "    </tr>\n",
       "    <tr>\n",
       "      <th>3</th>\n",
       "      <td>-0.538625</td>\n",
       "      <td>0.292438</td>\n",
       "      <td>-0.575621</td>\n",
       "    </tr>\n",
       "    <tr>\n",
       "      <th>4</th>\n",
       "      <td>-1.072394</td>\n",
       "      <td>0.292438</td>\n",
       "      <td>-0.817387</td>\n",
       "    </tr>\n",
       "    <tr>\n",
       "      <th>5</th>\n",
       "      <td>-0.089135</td>\n",
       "      <td>0.292438</td>\n",
       "      <td>-0.729170</td>\n",
       "    </tr>\n",
       "    <tr>\n",
       "      <th>6</th>\n",
       "      <td>-0.650997</td>\n",
       "      <td>-3.419529</td>\n",
       "      <td>-0.679551</td>\n",
       "    </tr>\n",
       "    <tr>\n",
       "      <th>7</th>\n",
       "      <td>-1.212860</td>\n",
       "      <td>0.292438</td>\n",
       "      <td>-0.803338</td>\n",
       "    </tr>\n",
       "    <tr>\n",
       "      <th>8</th>\n",
       "      <td>-0.650997</td>\n",
       "      <td>0.292438</td>\n",
       "      <td>-0.743806</td>\n",
       "    </tr>\n",
       "    <tr>\n",
       "      <th>9</th>\n",
       "      <td>-1.212860</td>\n",
       "      <td>-3.419529</td>\n",
       "      <td>-0.871934</td>\n",
       "    </tr>\n",
       "    <tr>\n",
       "      <th>10</th>\n",
       "      <td>-1.212860</td>\n",
       "      <td>-3.419529</td>\n",
       "      <td>-0.755985</td>\n",
       "    </tr>\n",
       "    <tr>\n",
       "      <th>11</th>\n",
       "      <td>-0.089135</td>\n",
       "      <td>0.292438</td>\n",
       "      <td>-0.678434</td>\n",
       "    </tr>\n",
       "    <tr>\n",
       "      <th>12</th>\n",
       "      <td>-0.931929</td>\n",
       "      <td>0.292438</td>\n",
       "      <td>2.961890</td>\n",
       "    </tr>\n",
       "    <tr>\n",
       "      <th>13</th>\n",
       "      <td>-0.650997</td>\n",
       "      <td>0.292438</td>\n",
       "      <td>-0.630120</td>\n",
       "    </tr>\n",
       "    <tr>\n",
       "      <th>14</th>\n",
       "      <td>-1.212860</td>\n",
       "      <td>-3.419529</td>\n",
       "      <td>-0.885787</td>\n",
       "    </tr>\n",
       "    <tr>\n",
       "      <th>15</th>\n",
       "      <td>-1.212860</td>\n",
       "      <td>0.292438</td>\n",
       "      <td>3.066143</td>\n",
       "    </tr>\n",
       "    <tr>\n",
       "      <th>16</th>\n",
       "      <td>0.360355</td>\n",
       "      <td>0.292438</td>\n",
       "      <td>-0.620498</td>\n",
       "    </tr>\n",
       "    <tr>\n",
       "      <th>17</th>\n",
       "      <td>-0.650997</td>\n",
       "      <td>-3.419529</td>\n",
       "      <td>-0.680499</td>\n",
       "    </tr>\n",
       "    <tr>\n",
       "      <th>18</th>\n",
       "      <td>-0.089135</td>\n",
       "      <td>0.292438</td>\n",
       "      <td>-0.729462</td>\n",
       "    </tr>\n",
       "    <tr>\n",
       "      <th>19</th>\n",
       "      <td>-0.931929</td>\n",
       "      <td>0.292438</td>\n",
       "      <td>-0.695111</td>\n",
       "    </tr>\n",
       "    <tr>\n",
       "      <th>20</th>\n",
       "      <td>-0.650997</td>\n",
       "      <td>-3.419529</td>\n",
       "      <td>3.020162</td>\n",
       "    </tr>\n",
       "    <tr>\n",
       "      <th>21</th>\n",
       "      <td>-0.763370</td>\n",
       "      <td>0.292438</td>\n",
       "      <td>-0.621058</td>\n",
       "    </tr>\n",
       "    <tr>\n",
       "      <th>22</th>\n",
       "      <td>-1.212860</td>\n",
       "      <td>0.292438</td>\n",
       "      <td>-0.857183</td>\n",
       "    </tr>\n",
       "    <tr>\n",
       "      <th>23</th>\n",
       "      <td>-0.089135</td>\n",
       "      <td>0.292438</td>\n",
       "      <td>-0.677796</td>\n",
       "    </tr>\n",
       "    <tr>\n",
       "      <th>24</th>\n",
       "      <td>-0.988115</td>\n",
       "      <td>-3.419529</td>\n",
       "      <td>-0.690577</td>\n",
       "    </tr>\n",
       "    <tr>\n",
       "      <th>25</th>\n",
       "      <td>-1.212860</td>\n",
       "      <td>0.292438</td>\n",
       "      <td>-0.781177</td>\n",
       "    </tr>\n",
       "    <tr>\n",
       "      <th>26</th>\n",
       "      <td>0.023238</td>\n",
       "      <td>0.292438</td>\n",
       "      <td>-0.640682</td>\n",
       "    </tr>\n",
       "    <tr>\n",
       "      <th>27</th>\n",
       "      <td>-0.426252</td>\n",
       "      <td>0.292438</td>\n",
       "      <td>-0.542204</td>\n",
       "    </tr>\n",
       "    <tr>\n",
       "      <th>28</th>\n",
       "      <td>-1.212860</td>\n",
       "      <td>0.292438</td>\n",
       "      <td>-0.648611</td>\n",
       "    </tr>\n",
       "    <tr>\n",
       "      <th>29</th>\n",
       "      <td>-0.089135</td>\n",
       "      <td>-3.419529</td>\n",
       "      <td>-0.704918</td>\n",
       "    </tr>\n",
       "    <tr>\n",
       "      <th>...</th>\n",
       "      <td>...</td>\n",
       "      <td>...</td>\n",
       "      <td>...</td>\n",
       "    </tr>\n",
       "    <tr>\n",
       "      <th>146957</th>\n",
       "      <td>-0.650997</td>\n",
       "      <td>0.292438</td>\n",
       "      <td>-0.729121</td>\n",
       "    </tr>\n",
       "    <tr>\n",
       "      <th>146958</th>\n",
       "      <td>-1.212860</td>\n",
       "      <td>0.292438</td>\n",
       "      <td>-0.803198</td>\n",
       "    </tr>\n",
       "    <tr>\n",
       "      <th>146959</th>\n",
       "      <td>-0.089135</td>\n",
       "      <td>0.292438</td>\n",
       "      <td>-0.679196</td>\n",
       "    </tr>\n",
       "    <tr>\n",
       "      <th>146960</th>\n",
       "      <td>-0.931929</td>\n",
       "      <td>0.292438</td>\n",
       "      <td>-0.793237</td>\n",
       "    </tr>\n",
       "    <tr>\n",
       "      <th>146961</th>\n",
       "      <td>-0.089135</td>\n",
       "      <td>0.292438</td>\n",
       "      <td>-0.586762</td>\n",
       "    </tr>\n",
       "    <tr>\n",
       "      <th>146962</th>\n",
       "      <td>-1.212860</td>\n",
       "      <td>0.292438</td>\n",
       "      <td>-0.689988</td>\n",
       "    </tr>\n",
       "    <tr>\n",
       "      <th>146963</th>\n",
       "      <td>-0.089135</td>\n",
       "      <td>0.292438</td>\n",
       "      <td>-0.531143</td>\n",
       "    </tr>\n",
       "    <tr>\n",
       "      <th>146964</th>\n",
       "      <td>-0.650997</td>\n",
       "      <td>0.292438</td>\n",
       "      <td>-0.621816</td>\n",
       "    </tr>\n",
       "    <tr>\n",
       "      <th>146965</th>\n",
       "      <td>-0.089135</td>\n",
       "      <td>0.292438</td>\n",
       "      <td>-0.605463</td>\n",
       "    </tr>\n",
       "    <tr>\n",
       "      <th>146966</th>\n",
       "      <td>-1.212860</td>\n",
       "      <td>-3.419529</td>\n",
       "      <td>-0.736431</td>\n",
       "    </tr>\n",
       "    <tr>\n",
       "      <th>146967</th>\n",
       "      <td>-0.650997</td>\n",
       "      <td>0.292438</td>\n",
       "      <td>-0.743707</td>\n",
       "    </tr>\n",
       "    <tr>\n",
       "      <th>146968</th>\n",
       "      <td>-1.212860</td>\n",
       "      <td>0.292438</td>\n",
       "      <td>-0.689008</td>\n",
       "    </tr>\n",
       "    <tr>\n",
       "      <th>146969</th>\n",
       "      <td>-0.089135</td>\n",
       "      <td>0.292438</td>\n",
       "      <td>-0.707328</td>\n",
       "    </tr>\n",
       "    <tr>\n",
       "      <th>146970</th>\n",
       "      <td>-0.201507</td>\n",
       "      <td>0.292438</td>\n",
       "      <td>-0.450620</td>\n",
       "    </tr>\n",
       "    <tr>\n",
       "      <th>146971</th>\n",
       "      <td>0.416541</td>\n",
       "      <td>0.292438</td>\n",
       "      <td>-0.363848</td>\n",
       "    </tr>\n",
       "    <tr>\n",
       "      <th>146972</th>\n",
       "      <td>-1.212860</td>\n",
       "      <td>0.292438</td>\n",
       "      <td>-0.817677</td>\n",
       "    </tr>\n",
       "    <tr>\n",
       "      <th>146973</th>\n",
       "      <td>-0.650997</td>\n",
       "      <td>0.292438</td>\n",
       "      <td>-0.746118</td>\n",
       "    </tr>\n",
       "    <tr>\n",
       "      <th>146974</th>\n",
       "      <td>-0.650997</td>\n",
       "      <td>0.292438</td>\n",
       "      <td>-0.727443</td>\n",
       "    </tr>\n",
       "    <tr>\n",
       "      <th>146975</th>\n",
       "      <td>-0.650997</td>\n",
       "      <td>0.292438</td>\n",
       "      <td>3.030488</td>\n",
       "    </tr>\n",
       "    <tr>\n",
       "      <th>146976</th>\n",
       "      <td>-1.212860</td>\n",
       "      <td>0.292438</td>\n",
       "      <td>-0.815069</td>\n",
       "    </tr>\n",
       "    <tr>\n",
       "      <th>146977</th>\n",
       "      <td>-1.212860</td>\n",
       "      <td>0.292438</td>\n",
       "      <td>-0.642730</td>\n",
       "    </tr>\n",
       "    <tr>\n",
       "      <th>146978</th>\n",
       "      <td>-0.650997</td>\n",
       "      <td>0.292438</td>\n",
       "      <td>-0.684917</td>\n",
       "    </tr>\n",
       "    <tr>\n",
       "      <th>146979</th>\n",
       "      <td>-1.212860</td>\n",
       "      <td>0.292438</td>\n",
       "      <td>-0.752438</td>\n",
       "    </tr>\n",
       "    <tr>\n",
       "      <th>146980</th>\n",
       "      <td>-1.212860</td>\n",
       "      <td>0.292438</td>\n",
       "      <td>-0.746990</td>\n",
       "    </tr>\n",
       "    <tr>\n",
       "      <th>146981</th>\n",
       "      <td>0.416541</td>\n",
       "      <td>0.292438</td>\n",
       "      <td>-0.373466</td>\n",
       "    </tr>\n",
       "    <tr>\n",
       "      <th>146982</th>\n",
       "      <td>0.557007</td>\n",
       "      <td>0.292438</td>\n",
       "      <td>-0.526915</td>\n",
       "    </tr>\n",
       "    <tr>\n",
       "      <th>146983</th>\n",
       "      <td>-0.510532</td>\n",
       "      <td>0.292438</td>\n",
       "      <td>-0.577100</td>\n",
       "    </tr>\n",
       "    <tr>\n",
       "      <th>146984</th>\n",
       "      <td>-0.089135</td>\n",
       "      <td>0.292438</td>\n",
       "      <td>-0.735459</td>\n",
       "    </tr>\n",
       "    <tr>\n",
       "      <th>146985</th>\n",
       "      <td>-0.931929</td>\n",
       "      <td>0.292438</td>\n",
       "      <td>3.135970</td>\n",
       "    </tr>\n",
       "    <tr>\n",
       "      <th>146986</th>\n",
       "      <td>-1.212860</td>\n",
       "      <td>0.292438</td>\n",
       "      <td>2.930197</td>\n",
       "    </tr>\n",
       "  </tbody>\n",
       "</table>\n",
       "<p>146987 rows × 3 columns</p>\n",
       "</div>"
      ],
      "text/plain": [
       "        total_earningt_standardized  dayofweek_standardized       pc1\n",
       "0                         -0.650997               -3.419529  3.104919\n",
       "1                         -0.650997               -3.419529  2.894861\n",
       "2                         -0.763370               -3.419529 -0.762671\n",
       "3                         -0.538625                0.292438 -0.575621\n",
       "4                         -1.072394                0.292438 -0.817387\n",
       "5                         -0.089135                0.292438 -0.729170\n",
       "6                         -0.650997               -3.419529 -0.679551\n",
       "7                         -1.212860                0.292438 -0.803338\n",
       "8                         -0.650997                0.292438 -0.743806\n",
       "9                         -1.212860               -3.419529 -0.871934\n",
       "10                        -1.212860               -3.419529 -0.755985\n",
       "11                        -0.089135                0.292438 -0.678434\n",
       "12                        -0.931929                0.292438  2.961890\n",
       "13                        -0.650997                0.292438 -0.630120\n",
       "14                        -1.212860               -3.419529 -0.885787\n",
       "15                        -1.212860                0.292438  3.066143\n",
       "16                         0.360355                0.292438 -0.620498\n",
       "17                        -0.650997               -3.419529 -0.680499\n",
       "18                        -0.089135                0.292438 -0.729462\n",
       "19                        -0.931929                0.292438 -0.695111\n",
       "20                        -0.650997               -3.419529  3.020162\n",
       "21                        -0.763370                0.292438 -0.621058\n",
       "22                        -1.212860                0.292438 -0.857183\n",
       "23                        -0.089135                0.292438 -0.677796\n",
       "24                        -0.988115               -3.419529 -0.690577\n",
       "25                        -1.212860                0.292438 -0.781177\n",
       "26                         0.023238                0.292438 -0.640682\n",
       "27                        -0.426252                0.292438 -0.542204\n",
       "28                        -1.212860                0.292438 -0.648611\n",
       "29                        -0.089135               -3.419529 -0.704918\n",
       "...                             ...                     ...       ...\n",
       "146957                    -0.650997                0.292438 -0.729121\n",
       "146958                    -1.212860                0.292438 -0.803198\n",
       "146959                    -0.089135                0.292438 -0.679196\n",
       "146960                    -0.931929                0.292438 -0.793237\n",
       "146961                    -0.089135                0.292438 -0.586762\n",
       "146962                    -1.212860                0.292438 -0.689988\n",
       "146963                    -0.089135                0.292438 -0.531143\n",
       "146964                    -0.650997                0.292438 -0.621816\n",
       "146965                    -0.089135                0.292438 -0.605463\n",
       "146966                    -1.212860               -3.419529 -0.736431\n",
       "146967                    -0.650997                0.292438 -0.743707\n",
       "146968                    -1.212860                0.292438 -0.689008\n",
       "146969                    -0.089135                0.292438 -0.707328\n",
       "146970                    -0.201507                0.292438 -0.450620\n",
       "146971                     0.416541                0.292438 -0.363848\n",
       "146972                    -1.212860                0.292438 -0.817677\n",
       "146973                    -0.650997                0.292438 -0.746118\n",
       "146974                    -0.650997                0.292438 -0.727443\n",
       "146975                    -0.650997                0.292438  3.030488\n",
       "146976                    -1.212860                0.292438 -0.815069\n",
       "146977                    -1.212860                0.292438 -0.642730\n",
       "146978                    -0.650997                0.292438 -0.684917\n",
       "146979                    -1.212860                0.292438 -0.752438\n",
       "146980                    -1.212860                0.292438 -0.746990\n",
       "146981                     0.416541                0.292438 -0.373466\n",
       "146982                     0.557007                0.292438 -0.526915\n",
       "146983                    -0.510532                0.292438 -0.577100\n",
       "146984                    -0.089135                0.292438 -0.735459\n",
       "146985                    -0.931929                0.292438  3.135970\n",
       "146986                    -1.212860                0.292438  2.930197\n",
       "\n",
       "[146987 rows x 3 columns]"
      ]
     },
     "execution_count": 139,
     "metadata": {},
     "output_type": "execute_result"
    }
   ],
   "source": [
    "# data_pca_final = data_pca_final[['total_earningt_standardized', 'dayofweek_standardized','pc1']]\n",
    "# kmeans = KMeans(n_clusters=2) \n",
    "# kmeans.fit(data_pca_final[['total_earningt_standardized', 'dayofweek_standardized']])\n",
    "\n",
    "# data_pca_final['kmeans_labels'] = kmeans.labels_\n",
    "\n",
    "# data_pca_final.head(2)\n",
    "\n",
    "data_pca_final[['total_earningt_standardized', 'dayofweek_standardized','pc1']]"
   ]
  },
  {
   "cell_type": "code",
   "execution_count": 138,
   "metadata": {},
   "outputs": [],
   "source": [
    "# kmeans_plot = sns.lmplot(x='pc1', \n",
    "#                        y='kmeans_labels', \n",
    "#                        data=data_pca_final, \n",
    "#                        fit_reg=False,        # Do not fit a regression line to the data\n",
    "#                        legend=True)"
   ]
  }
 ],
 "metadata": {
  "kernelspec": {
   "display_name": "Python 3",
   "language": "python",
   "name": "python3"
  },
  "language_info": {
   "codemirror_mode": {
    "name": "ipython",
    "version": 3
   },
   "file_extension": ".py",
   "mimetype": "text/x-python",
   "name": "python",
   "nbconvert_exporter": "python",
   "pygments_lexer": "ipython3",
   "version": "3.5.2"
  }
 },
 "nbformat": 4,
 "nbformat_minor": 2
}
