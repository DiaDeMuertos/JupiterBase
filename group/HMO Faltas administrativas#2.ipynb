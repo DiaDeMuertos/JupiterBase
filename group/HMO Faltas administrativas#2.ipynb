{
 "cells": [
  {
   "cell_type": "code",
   "execution_count": 1,
   "metadata": {
    "colab": {},
    "colab_type": "code",
    "id": "B94Ck5ws-Nn5"
   },
   "outputs": [],
   "source": [
    "#This are the most common imports\n",
    "import pandas as pd\n",
    "import numpy as np\n",
    "import seaborn as sns\n",
    "import matplotlib.pyplot as plt\n",
    "from datetime import datetime, timedelta\n",
    "%matplotlib inline"
   ]
  },
  {
   "cell_type": "code",
   "execution_count": null,
   "metadata": {
    "colab": {},
    "colab_type": "code",
    "id": "JOn33O4u-UED"
   },
   "outputs": [],
   "source": []
  },
  {
   "cell_type": "code",
   "execution_count": 51,
   "metadata": {
    "colab": {},
    "colab_type": "code",
    "id": "Rm5XcXOk-muH"
   },
   "outputs": [],
   "source": [
    "df = pd.read_csv('hmofaltasadministrativas.csv', encoding=\"latin1\")"
   ]
  },
  {
   "cell_type": "code",
   "execution_count": 3,
   "metadata": {
    "colab": {},
    "colab_type": "code",
    "id": "DuVdB0tZDxkS"
   },
   "outputs": [],
   "source": [
    "df = df.applymap(lambda s:s.upper() if type(s) == str else s)"
   ]
  },
  {
   "cell_type": "code",
   "execution_count": 4,
   "metadata": {
    "colab": {},
    "colab_type": "code",
    "id": "E2AgyO8q_WUN"
   },
   "outputs": [
    {
     "data": {
      "text/html": [
       "<div>\n",
       "<style scoped>\n",
       "    .dataframe tbody tr th:only-of-type {\n",
       "        vertical-align: middle;\n",
       "    }\n",
       "\n",
       "    .dataframe tbody tr th {\n",
       "        vertical-align: top;\n",
       "    }\n",
       "\n",
       "    .dataframe thead th {\n",
       "        text-align: right;\n",
       "    }\n",
       "</style>\n",
       "<table border=\"1\" class=\"dataframe\">\n",
       "  <thead>\n",
       "    <tr style=\"text-align: right;\">\n",
       "      <th></th>\n",
       "      <th>fecha_presentacion</th>\n",
       "      <th>zona</th>\n",
       "      <th>colonia_delito</th>\n",
       "      <th>motivo_remision</th>\n",
       "      <th>nacimiento</th>\n",
       "      <th>estatura</th>\n",
       "      <th>peso</th>\n",
       "      <th>sexo</th>\n",
       "      <th>colonia_detenido</th>\n",
       "    </tr>\n",
       "  </thead>\n",
       "  <tbody>\n",
       "    <tr>\n",
       "      <th>0</th>\n",
       "      <td>01/01/2015 00:39</td>\n",
       "      <td>COMANDANCIA NORTE</td>\n",
       "      <td>ALVARO OBREGON (N)</td>\n",
       "      <td>CAUSAR O PROVOCAR ESCANDALO EN LUGARES PUBLICO...</td>\n",
       "      <td>1990</td>\n",
       "      <td>1.75</td>\n",
       "      <td>60.0</td>\n",
       "      <td>M</td>\n",
       "      <td>SAHUARO AMPLIACION</td>\n",
       "    </tr>\n",
       "    <tr>\n",
       "      <th>1</th>\n",
       "      <td>01/01/2015 00:39</td>\n",
       "      <td>COMANDANCIA SUR</td>\n",
       "      <td>PALO VERDE INDEUR</td>\n",
       "      <td>CAUSAR O PROVOCAR ESCANDALO EN LUGARES PUBLICO...</td>\n",
       "      <td>1984</td>\n",
       "      <td>1.72</td>\n",
       "      <td>85.0</td>\n",
       "      <td>M</td>\n",
       "      <td>PALO VERDE INDEUR</td>\n",
       "    </tr>\n",
       "    <tr>\n",
       "      <th>2</th>\n",
       "      <td>01/01/2015 01:43</td>\n",
       "      <td>COMANDANCIA NORTE</td>\n",
       "      <td>CARMEN SERDAN (N)</td>\n",
       "      <td>DEAMBULAR EN LA VIA PUBLICA EN ESTADO DE EMBRI...</td>\n",
       "      <td>1980</td>\n",
       "      <td>1.65</td>\n",
       "      <td>65.0</td>\n",
       "      <td>M</td>\n",
       "      <td>FLOTANTE</td>\n",
       "    </tr>\n",
       "    <tr>\n",
       "      <th>3</th>\n",
       "      <td>01/01/2015 01:59</td>\n",
       "      <td>COMANDANCIA SUR</td>\n",
       "      <td>REAL DEL CARMEN</td>\n",
       "      <td>CAUSAR O PROVOCAR ESCANDALO EN LUGARES PUBLICO...</td>\n",
       "      <td>1979</td>\n",
       "      <td>1.69</td>\n",
       "      <td>68.0</td>\n",
       "      <td>M</td>\n",
       "      <td>REAL DEL CARMEN</td>\n",
       "    </tr>\n",
       "    <tr>\n",
       "      <th>4</th>\n",
       "      <td>01/01/2015 02:00</td>\n",
       "      <td>COMANDANCIA CENTRO</td>\n",
       "      <td>FUERA DEL MUNICIPIO</td>\n",
       "      <td>INGERIR BEBIDAS ALCOHOLICAS A BORDO DE UN VEHI...</td>\n",
       "      <td>1987</td>\n",
       "      <td>1.74</td>\n",
       "      <td>70.0</td>\n",
       "      <td>M</td>\n",
       "      <td>FUERA DEL MUNICIPIO</td>\n",
       "    </tr>\n",
       "  </tbody>\n",
       "</table>\n",
       "</div>"
      ],
      "text/plain": [
       "  fecha_presentacion                zona       colonia_delito  \\\n",
       "0   01/01/2015 00:39   COMANDANCIA NORTE   ALVARO OBREGON (N)   \n",
       "1   01/01/2015 00:39     COMANDANCIA SUR    PALO VERDE INDEUR   \n",
       "2   01/01/2015 01:43   COMANDANCIA NORTE    CARMEN SERDAN (N)   \n",
       "3   01/01/2015 01:59     COMANDANCIA SUR      REAL DEL CARMEN   \n",
       "4   01/01/2015 02:00  COMANDANCIA CENTRO  FUERA DEL MUNICIPIO   \n",
       "\n",
       "                                     motivo_remision  nacimiento  estatura  \\\n",
       "0  CAUSAR O PROVOCAR ESCANDALO EN LUGARES PUBLICO...        1990      1.75   \n",
       "1  CAUSAR O PROVOCAR ESCANDALO EN LUGARES PUBLICO...        1984      1.72   \n",
       "2  DEAMBULAR EN LA VIA PUBLICA EN ESTADO DE EMBRI...        1980      1.65   \n",
       "3  CAUSAR O PROVOCAR ESCANDALO EN LUGARES PUBLICO...        1979      1.69   \n",
       "4  INGERIR BEBIDAS ALCOHOLICAS A BORDO DE UN VEHI...        1987      1.74   \n",
       "\n",
       "   peso sexo     colonia_detenido  \n",
       "0  60.0    M   SAHUARO AMPLIACION  \n",
       "1  85.0    M    PALO VERDE INDEUR  \n",
       "2  65.0    M             FLOTANTE  \n",
       "3  68.0    M      REAL DEL CARMEN  \n",
       "4  70.0    M  FUERA DEL MUNICIPIO  "
      ]
     },
     "execution_count": 4,
     "metadata": {},
     "output_type": "execute_result"
    }
   ],
   "source": [
    "\n",
    "df.head()"
   ]
  },
  {
   "cell_type": "code",
   "execution_count": 5,
   "metadata": {
    "colab": {},
    "colab_type": "code",
    "id": "eCJ8qs3TAwG1"
   },
   "outputs": [
    {
     "data": {
      "text/html": [
       "<div>\n",
       "<style scoped>\n",
       "    .dataframe tbody tr th:only-of-type {\n",
       "        vertical-align: middle;\n",
       "    }\n",
       "\n",
       "    .dataframe tbody tr th {\n",
       "        vertical-align: top;\n",
       "    }\n",
       "\n",
       "    .dataframe thead th {\n",
       "        text-align: right;\n",
       "    }\n",
       "</style>\n",
       "<table border=\"1\" class=\"dataframe\">\n",
       "  <thead>\n",
       "    <tr style=\"text-align: right;\">\n",
       "      <th></th>\n",
       "      <th>nacimiento</th>\n",
       "      <th>estatura</th>\n",
       "      <th>peso</th>\n",
       "    </tr>\n",
       "  </thead>\n",
       "  <tbody>\n",
       "    <tr>\n",
       "      <th>count</th>\n",
       "      <td>122192.000000</td>\n",
       "      <td>122156.000000</td>\n",
       "      <td>122155.000000</td>\n",
       "    </tr>\n",
       "    <tr>\n",
       "      <th>mean</th>\n",
       "      <td>1984.647023</td>\n",
       "      <td>1.701958</td>\n",
       "      <td>70.110581</td>\n",
       "    </tr>\n",
       "    <tr>\n",
       "      <th>std</th>\n",
       "      <td>10.548520</td>\n",
       "      <td>0.081868</td>\n",
       "      <td>11.264983</td>\n",
       "    </tr>\n",
       "    <tr>\n",
       "      <th>min</th>\n",
       "      <td>1919.000000</td>\n",
       "      <td>0.560000</td>\n",
       "      <td>30.000000</td>\n",
       "    </tr>\n",
       "    <tr>\n",
       "      <th>25%</th>\n",
       "      <td>1978.000000</td>\n",
       "      <td>1.650000</td>\n",
       "      <td>63.000000</td>\n",
       "    </tr>\n",
       "    <tr>\n",
       "      <th>50%</th>\n",
       "      <td>1987.000000</td>\n",
       "      <td>1.700000</td>\n",
       "      <td>70.000000</td>\n",
       "    </tr>\n",
       "    <tr>\n",
       "      <th>75%</th>\n",
       "      <td>1993.000000</td>\n",
       "      <td>1.750000</td>\n",
       "      <td>75.000000</td>\n",
       "    </tr>\n",
       "    <tr>\n",
       "      <th>max</th>\n",
       "      <td>2017.000000</td>\n",
       "      <td>2.150000</td>\n",
       "      <td>245.000000</td>\n",
       "    </tr>\n",
       "  </tbody>\n",
       "</table>\n",
       "</div>"
      ],
      "text/plain": [
       "          nacimiento       estatura           peso\n",
       "count  122192.000000  122156.000000  122155.000000\n",
       "mean     1984.647023       1.701958      70.110581\n",
       "std        10.548520       0.081868      11.264983\n",
       "min      1919.000000       0.560000      30.000000\n",
       "25%      1978.000000       1.650000      63.000000\n",
       "50%      1987.000000       1.700000      70.000000\n",
       "75%      1993.000000       1.750000      75.000000\n",
       "max      2017.000000       2.150000     245.000000"
      ]
     },
     "execution_count": 5,
     "metadata": {},
     "output_type": "execute_result"
    }
   ],
   "source": [
    "df.describe()"
   ]
  },
  {
   "cell_type": "code",
   "execution_count": 6,
   "metadata": {
    "colab": {},
    "colab_type": "code",
    "id": "DNUyiuD8AwJl"
   },
   "outputs": [
    {
     "name": "stdout",
     "output_type": "stream",
     "text": [
      "<class 'pandas.core.frame.DataFrame'>\n",
      "RangeIndex: 122192 entries, 0 to 122191\n",
      "Data columns (total 9 columns):\n",
      "fecha_presentacion    122192 non-null object\n",
      "zona                  122192 non-null object\n",
      "colonia_delito        122192 non-null object\n",
      "motivo_remision       122192 non-null object\n",
      "nacimiento            122192 non-null int64\n",
      "estatura              122156 non-null float64\n",
      "peso                  122155 non-null float64\n",
      "sexo                  122192 non-null object\n",
      "colonia_detenido      122192 non-null object\n",
      "dtypes: float64(2), int64(1), object(6)\n",
      "memory usage: 8.4+ MB\n"
     ]
    }
   ],
   "source": [
    "df.info()"
   ]
  },
  {
   "cell_type": "code",
   "execution_count": 7,
   "metadata": {
    "colab": {},
    "colab_type": "code",
    "id": "t8H2hAHv_9LV"
   },
   "outputs": [
    {
     "data": {
      "text/plain": [
       "398"
      ]
     },
     "execution_count": 7,
     "metadata": {},
     "output_type": "execute_result"
    }
   ],
   "source": [
    "len(df['colonia_delito'].unique())"
   ]
  },
  {
   "cell_type": "code",
   "execution_count": 8,
   "metadata": {
    "scrolled": true
   },
   "outputs": [
    {
     "data": {
      "text/html": [
       "<div>\n",
       "<style scoped>\n",
       "    .dataframe tbody tr th:only-of-type {\n",
       "        vertical-align: middle;\n",
       "    }\n",
       "\n",
       "    .dataframe tbody tr th {\n",
       "        vertical-align: top;\n",
       "    }\n",
       "\n",
       "    .dataframe thead th {\n",
       "        text-align: right;\n",
       "    }\n",
       "</style>\n",
       "<table border=\"1\" class=\"dataframe\">\n",
       "  <thead>\n",
       "    <tr style=\"text-align: right;\">\n",
       "      <th></th>\n",
       "      <th>fecha_presentacion</th>\n",
       "      <th>zona</th>\n",
       "      <th>colonia_delito</th>\n",
       "      <th>motivo_remision</th>\n",
       "      <th>nacimiento</th>\n",
       "      <th>estatura</th>\n",
       "      <th>peso</th>\n",
       "      <th>sexo</th>\n",
       "      <th>colonia_detenido</th>\n",
       "    </tr>\n",
       "  </thead>\n",
       "  <tbody>\n",
       "    <tr>\n",
       "      <th>23</th>\n",
       "      <td>01/01/2015 07:13</td>\n",
       "      <td>COMANDANCIA CENTRO</td>\n",
       "      <td>CENTRO (N)</td>\n",
       "      <td>CAUSAR O PROVOCAR ESCANDALO EN LUGARES PUBLICO...</td>\n",
       "      <td>1989</td>\n",
       "      <td>1.73</td>\n",
       "      <td>100.0</td>\n",
       "      <td>M</td>\n",
       "      <td>BUGAMBILIAS</td>\n",
       "    </tr>\n",
       "    <tr>\n",
       "      <th>30</th>\n",
       "      <td>01/01/2015 10:45</td>\n",
       "      <td>COMANDANCIA CENTRO</td>\n",
       "      <td>CENTRO (N)</td>\n",
       "      <td>PERNOCTAR EN LA VIA PUBLICA A CONSECUENCIA DE ...</td>\n",
       "      <td>1981</td>\n",
       "      <td>1.65</td>\n",
       "      <td>60.0</td>\n",
       "      <td>M</td>\n",
       "      <td>FLOTANTE</td>\n",
       "    </tr>\n",
       "    <tr>\n",
       "      <th>39</th>\n",
       "      <td>01/01/2015 14:34</td>\n",
       "      <td>COMANDANCIA CENTRO</td>\n",
       "      <td>CENTRO (N)</td>\n",
       "      <td>CONDUCIR EDO.EBRIEDAD INFLUJO DROGAS O SUSTANC...</td>\n",
       "      <td>1975</td>\n",
       "      <td>1.72</td>\n",
       "      <td>75.0</td>\n",
       "      <td>M</td>\n",
       "      <td>OLIVARES (OTE)</td>\n",
       "    </tr>\n",
       "    <tr>\n",
       "      <th>52</th>\n",
       "      <td>01/01/2015 17:56</td>\n",
       "      <td>COMANDANCIA CENTRO</td>\n",
       "      <td>CENTRO (N)</td>\n",
       "      <td>PROVOCAR O PARTICIPAR EN RIÑAS EN LA VIA PUBLICA</td>\n",
       "      <td>1973</td>\n",
       "      <td>1.75</td>\n",
       "      <td>90.0</td>\n",
       "      <td>M</td>\n",
       "      <td>RANCHITO</td>\n",
       "    </tr>\n",
       "    <tr>\n",
       "      <th>74</th>\n",
       "      <td>02/01/2015 05:19</td>\n",
       "      <td>COMANDANCIA CENTRO</td>\n",
       "      <td>CENTRO (N)</td>\n",
       "      <td>CAUSAR O PROVOCAR ESCANDALO EN LUGARES PUBLICO...</td>\n",
       "      <td>1991</td>\n",
       "      <td>1.77</td>\n",
       "      <td>70.0</td>\n",
       "      <td>M</td>\n",
       "      <td>VILLA DE SERIS</td>\n",
       "    </tr>\n",
       "  </tbody>\n",
       "</table>\n",
       "</div>"
      ],
      "text/plain": [
       "   fecha_presentacion                zona colonia_delito  \\\n",
       "23   01/01/2015 07:13  COMANDANCIA CENTRO     CENTRO (N)   \n",
       "30   01/01/2015 10:45  COMANDANCIA CENTRO     CENTRO (N)   \n",
       "39   01/01/2015 14:34  COMANDANCIA CENTRO     CENTRO (N)   \n",
       "52   01/01/2015 17:56  COMANDANCIA CENTRO     CENTRO (N)   \n",
       "74   02/01/2015 05:19  COMANDANCIA CENTRO     CENTRO (N)   \n",
       "\n",
       "                                      motivo_remision  nacimiento  estatura  \\\n",
       "23  CAUSAR O PROVOCAR ESCANDALO EN LUGARES PUBLICO...        1989      1.73   \n",
       "30  PERNOCTAR EN LA VIA PUBLICA A CONSECUENCIA DE ...        1981      1.65   \n",
       "39  CONDUCIR EDO.EBRIEDAD INFLUJO DROGAS O SUSTANC...        1975      1.72   \n",
       "52   PROVOCAR O PARTICIPAR EN RIÑAS EN LA VIA PUBLICA        1973      1.75   \n",
       "74  CAUSAR O PROVOCAR ESCANDALO EN LUGARES PUBLICO...        1991      1.77   \n",
       "\n",
       "     peso sexo colonia_detenido  \n",
       "23  100.0    M      BUGAMBILIAS  \n",
       "30   60.0    M         FLOTANTE  \n",
       "39   75.0    M   OLIVARES (OTE)  \n",
       "52   90.0    M         RANCHITO  \n",
       "74   70.0    M   VILLA DE SERIS  "
      ]
     },
     "execution_count": 8,
     "metadata": {},
     "output_type": "execute_result"
    }
   ],
   "source": [
    "dfcentro = df[(df['colonia_delito'].str.contains(r'CENTRO') == True)]\n",
    "dfcentro.head()"
   ]
  },
  {
   "cell_type": "code",
   "execution_count": 9,
   "metadata": {
    "colab": {},
    "colab_type": "code",
    "id": "OG3lF0CeCC8v"
   },
   "outputs": [
    {
     "data": {
      "text/plain": [
       "418"
      ]
     },
     "execution_count": 9,
     "metadata": {},
     "output_type": "execute_result"
    }
   ],
   "source": [
    "len(df['colonia_detenido'].unique())"
   ]
  },
  {
   "cell_type": "code",
   "execution_count": 10,
   "metadata": {
    "colab": {},
    "colab_type": "code",
    "id": "DVVrXCZiKTNL"
   },
   "outputs": [
    {
     "data": {
      "text/plain": [
       "CENTRO (N)                  9630\n",
       "PUEBLITOS                   4642\n",
       "SOLIDARIDAD I               3910\n",
       "LA CHOYA FRACC              3006\n",
       "INSURGENTES                 2648\n",
       "MIGUEL HIDALGO (N)          2380\n",
       "LOPEZ PORTILLO              2166\n",
       "VILLA DEL REAL FRACC.       2165\n",
       "REAL DEL CARMEN             2120\n",
       "SAHUARO AMPLIACION          2106\n",
       "VILLA VERDE                 2095\n",
       "CHOYAL                      1908\n",
       "SAN BENITO (CUADRO ALFA)    1894\n",
       "NUEVO HERMOSILLO            1837\n",
       "SAHUARO FINAL               1718\n",
       "Name: colonia_delito, dtype: int64"
      ]
     },
     "execution_count": 10,
     "metadata": {},
     "output_type": "execute_result"
    }
   ],
   "source": [
    "colonias_afectadas = df['colonia_delito'].value_counts()[0:15]\n",
    "colonias_afectadas\n",
    "#sns.countplot(colonias_afectadas)"
   ]
  },
  {
   "cell_type": "code",
   "execution_count": 11,
   "metadata": {
    "colab": {},
    "colab_type": "code",
    "id": "NUAI_u27KdKD"
   },
   "outputs": [
    {
     "data": {
      "image/png": "[encoded data removed]",
      "text/plain": [
       "<Figure size 1008x576 with 1 Axes>"
      ]
     },
     "metadata": {
      "needs_background": "light"
     },
     "output_type": "display_data"
    }
   ],
   "source": [
    "colonias_afectadas_plt = colonias_afectadas.plot(kind='barh',figsize = (14,8))\n",
    "colonias_afectadas_plt.set_alpha(0.8)\n",
    "colonias_afectadas_plt.set_title(\"Colonias con mas delitos\", fontsize=18)\n",
    "\n",
    "\n",
    "# create a list to collect the data\n",
    "totals = []\n",
    "\n",
    "# find the values and append to list\n",
    "for i in colonias_afectadas_plt.patches:\n",
    "    totals.append(i.get_width())\n",
    "\n",
    "# set individual bar lables using above list\n",
    "total = sum(totals)\n",
    "\n",
    "# set individual bar lables using above list\n",
    "for i in colonias_afectadas_plt.patches:\n",
    "    # get_width pulls left or right; get_y pushes up or down\n",
    "    colonias_afectadas_plt.text(i.get_width()+.3, i.get_y()+.38, \\\n",
    "            str(round((i.get_width()/total)*100, 2))+'%', fontsize=10,\n",
    "color='black')\n",
    "\n",
    "#Invert the direction of the plot\n",
    "colonias_afectadas_plt.invert_yaxis()"
   ]
  },
  {
   "cell_type": "code",
   "execution_count": 12,
   "metadata": {
    "colab": {},
    "colab_type": "code",
    "id": "FaOgCyW4MpqX"
   },
   "outputs": [
    {
     "data": {
      "text/plain": [
       "68"
      ]
     },
     "execution_count": 12,
     "metadata": {},
     "output_type": "execute_result"
    }
   ],
   "source": [
    "len(df['motivo_remision'].unique())"
   ]
  },
  {
   "cell_type": "code",
   "execution_count": 13,
   "metadata": {
    "colab": {
     "base_uri": "https://localhost:8080/",
     "height": 1000
    },
    "colab_type": "code",
    "executionInfo": {
     "elapsed": 18820,
     "status": "error",
     "timestamp": 1567282505524,
     "user": {
      "displayName": "Daniel Ramirez Rios",
      "photoUrl": "https://lh3.googleusercontent.com/a-/AAuE7mC957dFF_San4_44Jn9J7Gui5l2Gvxth2iEqWrKZw=s64",
      "userId": "16809089177157616231"
     },
     "user_tz": 420
    },
    "id": "bNqxm4q6Lu9s",
    "outputId": "3739d998-ba2b-496a-9add-896d047a1bde"
   },
   "outputs": [
    {
     "data": {
      "image/png": "[encoded data removed]",
      "text/plain": [
       "<Figure size 1152x720 with 1 Axes>"
      ]
     },
     "metadata": {
      "needs_background": "light"
     },
     "output_type": "display_data"
    }
   ],
   "source": [
    "motivo_remision = df['motivo_remision'].value_counts()[0:10]\n",
    "motivo_remision_plt = motivo_remision.plot(kind='barh',figsize = (16,10))\n",
    "motivo_remision_plt.set_alpha(0.8)\n",
    "motivo_remision_plt.set_title(\"Motivos de remision en todas las colonias\", fontsize=18)\n",
    "\n",
    "\n",
    "# create a list to collect the data\n",
    "totals = []\n",
    "\n",
    "# find the values and append to list\n",
    "for i in motivo_remision_plt.patches:\n",
    "    totals.append(i.get_width())\n",
    "\n",
    "# set individual bar lables using above list\n",
    "total = sum(totals)\n",
    "\n",
    "# set individual bar lables using above list\n",
    "for i in motivo_remision_plt.patches:\n",
    "    # get_width pulls left or right; get_y pushes up or down\n",
    "    motivo_remision_plt.text(i.get_width()+.3, i.get_y()+.38, \\\n",
    "            str(round((i.get_width()/total)*100, 2))+'%', fontsize=10,\n",
    "color='black')\n",
    "\n",
    "#Invert the direction of the plot\n",
    "motivo_remision_plt.invert_yaxis()"
   ]
  },
  {
   "cell_type": "code",
   "execution_count": 122,
   "metadata": {
    "colab": {
     "base_uri": "https://localhost:8080/",
     "height": 284
    },
    "colab_type": "code",
    "executionInfo": {
     "elapsed": 13291,
     "status": "ok",
     "timestamp": 1567282505527,
     "user": {
      "displayName": "Daniel Ramirez Rios",
      "photoUrl": "https://lh3.googleusercontent.com/a-/AAuE7mC957dFF_San4_44Jn9J7Gui5l2Gvxth2iEqWrKZw=s64",
      "userId": "16809089177157616231"
     },
     "user_tz": 420
    },
    "id": "Nr3OynV9QsfP",
    "outputId": "c979f4a6-a0eb-412b-a00e-b97ceaf7cef5"
   },
   "outputs": [
    {
     "data": {
      "text/plain": [
       "DEAMBULAR EN LA VIA PUBLICA EN ESTADO DE EMBRIAGUEZ O DROGADO                                          42224\n",
       "CAUSAR O PROVOCAR ESCANDALO EN LUGARES PUBLICOS O PRIVADOS                                             25768\n",
       "ESPIAR EN EL INTERIOR DE  PATIOS Y CASAS FALTANDO A LA PRIVACIDAD DE LAS PERSONAS                      25195\n",
       "CONDUCIR EDO.EBRIEDAD INFLUJO DROGAS O SUSTANCIAS TOXICAS  AFECTADO DE SUS FACULTADES PSICOMOTRICES     8347\n",
       "INGERIR BEBIDAS ALCOHOLICAS A BORDO DE UN VEHICULO O EN VIA PUBLICA                                     4480\n",
       "POR INHALAR THINER RESISTOL  PINTURA O CUALQUIER OTRA SUSTANCIA QUE ALTERE LA CONDUCTA EN PUBLICO.      3724\n",
       "NEGARSE A CUMPLIR UNA INDICACION JUSTIFICADA HECHA POR UN POLICIA EN FUNCION                            3601\n",
       "PROVOCAR O PARTICIPAR EN RIÑAS EN LA VIA PUBLICA                                                        3217\n",
       "PERNOCTAR EN LA VIA PUBLICA A CONSECUENCIA DE INGESTA DE ALCOHOL O CONSUMO DE DROGAS .                  1926\n",
       "DEFECAR U ORINAR EN LA VIA PUBLICA                                                                       872\n",
       "Name: motivo_remision, dtype: int64"
      ]
     },
     "execution_count": 122,
     "metadata": {},
     "output_type": "execute_result"
    }
   ],
   "source": [
    "motivo_remision"
   ]
  },
  {
   "cell_type": "markdown",
   "metadata": {},
   "source": [
    "# Motivos de remision en la colonia CENTRO (N)"
   ]
  },
  {
   "cell_type": "code",
   "execution_count": 15,
   "metadata": {
    "colab": {
     "base_uri": "https://localhost:8080/",
     "height": 1000
    },
    "colab_type": "code",
    "executionInfo": {
     "elapsed": 14037,
     "status": "ok",
     "timestamp": 1567282506281,
     "user": {
      "displayName": "Daniel Ramirez Rios",
      "photoUrl": "https://lh3.googleusercontent.com/a-/AAuE7mC957dFF_San4_44Jn9J7Gui5l2Gvxth2iEqWrKZw=s64",
      "userId": "16809089177157616231"
     },
     "user_tz": 420
    },
    "id": "UYkqooAKMng1",
    "outputId": "40053ff9-921f-4fe9-d16b-a58bdfca1aaa"
   },
   "outputs": [
    {
     "data": {
      "image/png": "[encoded data removed]",
      "text/plain": [
       "<Figure size 1152x720 with 1 Axes>"
      ]
     },
     "metadata": {
      "needs_background": "light"
     },
     "output_type": "display_data"
    }
   ],
   "source": [
    "colonias_afectadas = df[df['colonia_delito'] == 'CENTRO (N)']\n",
    "colonia_centro_motivo_remision = colonias_afectadas['motivo_remision'].value_counts()[0:10]\n",
    "colonia_centro_motivo_remision_plt = colonia_centro_motivo_remision.plot(kind='barh',figsize = (16,10))\n",
    "colonia_centro_motivo_remision_plt.set_alpha(0.8)\n",
    "colonia_centro_motivo_remision_plt.set_title(\"Motivos de remision en colonia CENTRO (N)\", fontsize=18)\n",
    "\n",
    "\n",
    "# create a list to collect the data\n",
    "totals = []\n",
    "\n",
    "# find the values and append to list\n",
    "for i in colonia_centro_motivo_remision_plt.patches:\n",
    "    totals.append(i.get_width())\n",
    "\n",
    "# set individual bar lables using above list\n",
    "total = sum(totals)\n",
    "\n",
    "# set individual bar lables using above list\n",
    "for i in colonia_centro_motivo_remision_plt.patches:\n",
    "    # get_width pulls left or right; get_y pushes up or down\n",
    "    colonia_centro_motivo_remision_plt.text(i.get_width()+.3, i.get_y()+.38, \\\n",
    "            str(round((i.get_width()/total)*100, 2))+'%', fontsize=10,\n",
    "color='black')\n",
    "\n",
    "#Invert the direction of the plot\n",
    "colonia_centro_motivo_remision_plt.invert_yaxis()"
   ]
  },
  {
   "cell_type": "code",
   "execution_count": 121,
   "metadata": {},
   "outputs": [
    {
     "data": {
      "text/plain": [
       "CAUSAR O PROVOCAR ESCANDALO EN LUGARES PUBLICOS O PRIVADOS                                2817\n",
       "DEAMBULAR EN LA VIA PUBLICA EN ESTADO DE EMBRIAGUEZ O DROGADO                             2390\n",
       "INGERIR BEBIDAS ALCOHOLICAS A BORDO DE UN VEHICULO O EN VIA PUBLICA                        984\n",
       "PERNOCTAR EN LA VIA PUBLICA A CONSECUENCIA DE INGESTA DE ALCOHOL O CONSUMO DE DROGAS .     686\n",
       "ESPIAR EN EL INTERIOR DE  PATIOS Y CASAS FALTANDO A LA PRIVACIDAD DE LAS PERSONAS          587\n",
       "Name: motivo_remision, dtype: int64"
      ]
     },
     "execution_count": 121,
     "metadata": {},
     "output_type": "execute_result"
    }
   ],
   "source": [
    "colonia_centro_motivo_remision.head()"
   ]
  },
  {
   "cell_type": "code",
   "execution_count": 16,
   "metadata": {},
   "outputs": [
    {
     "data": {
      "text/plain": [
       "CAUSAR O PROVOCAR ESCANDALO EN LUGARES PUBLICOS O PRIVADOS                                             2817\n",
       "DEAMBULAR EN LA VIA PUBLICA EN ESTADO DE EMBRIAGUEZ O DROGADO                                          2390\n",
       "INGERIR BEBIDAS ALCOHOLICAS A BORDO DE UN VEHICULO O EN VIA PUBLICA                                     984\n",
       "PERNOCTAR EN LA VIA PUBLICA A CONSECUENCIA DE INGESTA DE ALCOHOL O CONSUMO DE DROGAS .                  686\n",
       "ESPIAR EN EL INTERIOR DE  PATIOS Y CASAS FALTANDO A LA PRIVACIDAD DE LAS PERSONAS                       587\n",
       "CONDUCIR EDO.EBRIEDAD INFLUJO DROGAS O SUSTANCIAS TOXICAS  AFECTADO DE SUS FACULTADES PSICOMOTRICES     553\n",
       "NEGARSE A CUMPLIR UNA INDICACION JUSTIFICADA HECHA POR UN POLICIA EN FUNCION                            379\n",
       "POR INHALAR THINER RESISTOL  PINTURA O CUALQUIER OTRA SUSTANCIA QUE ALTERE LA CONDUCTA EN PUBLICO.      331\n",
       "PROVOCAR O PARTICIPAR EN RIÑAS EN LA VIA PUBLICA                                                        269\n",
       "DEFECAR U ORINAR EN LA VIA PUBLICA                                                                      181\n",
       "Name: motivo_remision, dtype: int64"
      ]
     },
     "execution_count": 16,
     "metadata": {},
     "output_type": "execute_result"
    }
   ],
   "source": [
    "colonia_centro_motivo_remision"
   ]
  },
  {
   "cell_type": "markdown",
   "metadata": {},
   "source": [
    "# Espiar en el interior de patios y casas faltando la privacidad en la colonia CENTRO (N)"
   ]
  },
  {
   "cell_type": "code",
   "execution_count": 17,
   "metadata": {
    "colab": {
     "base_uri": "https://localhost:8080/",
     "height": 721
    },
    "colab_type": "code",
    "executionInfo": {
     "elapsed": 14030,
     "status": "ok",
     "timestamp": 1567282506282,
     "user": {
      "displayName": "Daniel Ramirez Rios",
      "photoUrl": "https://lh3.googleusercontent.com/a-/AAuE7mC957dFF_San4_44Jn9J7Gui5l2Gvxth2iEqWrKZw=s64",
      "userId": "16809089177157616231"
     },
     "user_tz": 420
    },
    "id": "SVaYnd5vPhp3",
    "outputId": "68a1381a-317d-4916-c9ec-4082b8d994a5"
   },
   "outputs": [
    {
     "data": {
      "image/png": "[encoded data removed]",
      "text/plain": [
       "<Figure size 1152x720 with 1 Axes>"
      ]
     },
     "metadata": {
      "needs_background": "light"
     },
     "output_type": "display_data"
    }
   ],
   "source": [
    "df_espiar = df[df['motivo_remision'] == 'ESPIAR EN EL INTERIOR DE  PATIOS Y CASAS FALTANDO A LA PRIVACIDAD DE LAS PERSONAS']\n",
    "df_espiar_colonia = df_espiar['colonia_delito'].value_counts()[0:10]\n",
    "df_espiar_colonia_plt = df_espiar_colonia.plot(kind='barh',figsize = (16,10))\n",
    "df_espiar_colonia_plt.set_alpha(0.8)\n",
    "df_espiar_colonia_plt.set_title(\"Motivo de remision 'ESPIAR' en colonia CENTRO (N)\", fontsize=18)\n",
    "\n",
    "# create a list to collect the data\n",
    "totals = []\n",
    "\n",
    "# find the values and append to list\n",
    "for i in df_espiar_colonia_plt.patches:\n",
    "    totals.append(i.get_width())\n",
    "\n",
    "# set individual bar lables using above list\n",
    "total = sum(totals)\n",
    "\n",
    "# set individual bar lables using above list\n",
    "for i in df_espiar_colonia_plt.patches:\n",
    "    # get_width pulls left or right; get_y pushes up or down\n",
    "    df_espiar_colonia_plt.text(i.get_width()+.3, i.get_y()+.38, \\\n",
    "            str(round((i.get_width()/total)*100, 2))+'%', fontsize=10,\n",
    "color='black')\n",
    "\n",
    "#Invert the direction of the plot\n",
    "df_espiar_colonia_plt.invert_yaxis()"
   ]
  },
  {
   "cell_type": "markdown",
   "metadata": {},
   "source": [
    "# Cuando se dio mas el motivo de 'ESPIAR' En el año"
   ]
  },
  {
   "cell_type": "code",
   "execution_count": 52,
   "metadata": {
    "colab": {
     "base_uri": "https://localhost:8080/",
     "height": 1000
    },
    "colab_type": "code",
    "executionInfo": {
     "elapsed": 108456,
     "status": "ok",
     "timestamp": 1567282600715,
     "user": {
      "displayName": "Daniel Ramirez Rios",
      "photoUrl": "https://lh3.googleusercontent.com/a-/AAuE7mC957dFF_San4_44Jn9J7Gui5l2Gvxth2iEqWrKZw=s64",
      "userId": "16809089177157616231"
     },
     "user_tz": 420
    },
    "id": "mSeZZnZMSo2_",
    "outputId": "498755b2-6713-4018-be84-48ef6d9de88e"
   },
   "outputs": [
    {
     "data": {
      "text/html": [
       "<div>\n",
       "<style scoped>\n",
       "    .dataframe tbody tr th:only-of-type {\n",
       "        vertical-align: middle;\n",
       "    }\n",
       "\n",
       "    .dataframe tbody tr th {\n",
       "        vertical-align: top;\n",
       "    }\n",
       "\n",
       "    .dataframe thead th {\n",
       "        text-align: right;\n",
       "    }\n",
       "</style>\n",
       "<table border=\"1\" class=\"dataframe\">\n",
       "  <thead>\n",
       "    <tr style=\"text-align: right;\">\n",
       "      <th></th>\n",
       "      <th>zona</th>\n",
       "      <th>colonia_delito</th>\n",
       "      <th>motivo_remision</th>\n",
       "      <th>nacimiento</th>\n",
       "      <th>estatura</th>\n",
       "      <th>peso</th>\n",
       "      <th>sexo</th>\n",
       "      <th>colonia_detenido</th>\n",
       "      <th>AÑO</th>\n",
       "      <th>MES</th>\n",
       "      <th>DIA</th>\n",
       "      <th>HORA</th>\n",
       "      <th>MINUTE</th>\n",
       "    </tr>\n",
       "  </thead>\n",
       "  <tbody>\n",
       "    <tr>\n",
       "      <th>0</th>\n",
       "      <td>Comandancia Norte</td>\n",
       "      <td>ALVARO OBREGON (N)</td>\n",
       "      <td>CAUSAR O PROVOCAR ESCANDALO EN LUGARES PUBLICO...</td>\n",
       "      <td>1990</td>\n",
       "      <td>1.75</td>\n",
       "      <td>60.0</td>\n",
       "      <td>M</td>\n",
       "      <td>SAHUARO AMPLIACION</td>\n",
       "      <td>2015</td>\n",
       "      <td>1</td>\n",
       "      <td>1</td>\n",
       "      <td>0</td>\n",
       "      <td>39</td>\n",
       "    </tr>\n",
       "    <tr>\n",
       "      <th>1</th>\n",
       "      <td>Comandancia Sur</td>\n",
       "      <td>PALO VERDE INDEUR</td>\n",
       "      <td>CAUSAR O PROVOCAR ESCANDALO EN LUGARES PUBLICO...</td>\n",
       "      <td>1984</td>\n",
       "      <td>1.72</td>\n",
       "      <td>85.0</td>\n",
       "      <td>M</td>\n",
       "      <td>PALO VERDE INDEUR</td>\n",
       "      <td>2015</td>\n",
       "      <td>1</td>\n",
       "      <td>1</td>\n",
       "      <td>0</td>\n",
       "      <td>39</td>\n",
       "    </tr>\n",
       "    <tr>\n",
       "      <th>2</th>\n",
       "      <td>Comandancia Norte</td>\n",
       "      <td>CARMEN SERDAN (N)</td>\n",
       "      <td>DEAMBULAR EN LA VIA PUBLICA EN ESTADO DE EMBRI...</td>\n",
       "      <td>1980</td>\n",
       "      <td>1.65</td>\n",
       "      <td>65.0</td>\n",
       "      <td>M</td>\n",
       "      <td>FLOTANTE</td>\n",
       "      <td>2015</td>\n",
       "      <td>1</td>\n",
       "      <td>1</td>\n",
       "      <td>1</td>\n",
       "      <td>43</td>\n",
       "    </tr>\n",
       "    <tr>\n",
       "      <th>3</th>\n",
       "      <td>Comandancia Sur</td>\n",
       "      <td>REAL DEL CARMEN</td>\n",
       "      <td>CAUSAR O PROVOCAR ESCANDALO EN LUGARES PUBLICO...</td>\n",
       "      <td>1979</td>\n",
       "      <td>1.69</td>\n",
       "      <td>68.0</td>\n",
       "      <td>M</td>\n",
       "      <td>REAL DEL CARMEN</td>\n",
       "      <td>2015</td>\n",
       "      <td>1</td>\n",
       "      <td>1</td>\n",
       "      <td>1</td>\n",
       "      <td>59</td>\n",
       "    </tr>\n",
       "    <tr>\n",
       "      <th>4</th>\n",
       "      <td>Comandancia Centro</td>\n",
       "      <td>FUERA DEL MUNICIPIO</td>\n",
       "      <td>INGERIR BEBIDAS ALCOHOLICAS A BORDO DE UN VEHI...</td>\n",
       "      <td>1987</td>\n",
       "      <td>1.74</td>\n",
       "      <td>70.0</td>\n",
       "      <td>M</td>\n",
       "      <td>FUERA DEL MUNICIPIO</td>\n",
       "      <td>2015</td>\n",
       "      <td>1</td>\n",
       "      <td>1</td>\n",
       "      <td>2</td>\n",
       "      <td>0</td>\n",
       "    </tr>\n",
       "  </tbody>\n",
       "</table>\n",
       "</div>"
      ],
      "text/plain": [
       "                 zona       colonia_delito  \\\n",
       "0   Comandancia Norte   ALVARO OBREGON (N)   \n",
       "1     Comandancia Sur    PALO VERDE INDEUR   \n",
       "2   Comandancia Norte    CARMEN SERDAN (N)   \n",
       "3     Comandancia Sur      REAL DEL CARMEN   \n",
       "4  Comandancia Centro  FUERA DEL MUNICIPIO   \n",
       "\n",
       "                                     motivo_remision  nacimiento  estatura  \\\n",
       "0  CAUSAR O PROVOCAR ESCANDALO EN LUGARES PUBLICO...        1990      1.75   \n",
       "1  CAUSAR O PROVOCAR ESCANDALO EN LUGARES PUBLICO...        1984      1.72   \n",
       "2  DEAMBULAR EN LA VIA PUBLICA EN ESTADO DE EMBRI...        1980      1.65   \n",
       "3  CAUSAR O PROVOCAR ESCANDALO EN LUGARES PUBLICO...        1979      1.69   \n",
       "4  INGERIR BEBIDAS ALCOHOLICAS A BORDO DE UN VEHI...        1987      1.74   \n",
       "\n",
       "   peso sexo     colonia_detenido   AÑO  MES  DIA  HORA  MINUTE  \n",
       "0  60.0    M   SAHUARO AMPLIACION  2015    1    1     0      39  \n",
       "1  85.0    M    PALO VERDE INDEUR  2015    1    1     0      39  \n",
       "2  65.0    M             FLOTANTE  2015    1    1     1      43  \n",
       "3  68.0    M      REAL DEL CARMEN  2015    1    1     1      59  \n",
       "4  70.0    M  FUERA DEL MUNICIPIO  2015    1    1     2       0  "
      ]
     },
     "execution_count": 52,
     "metadata": {},
     "output_type": "execute_result"
    }
   ],
   "source": [
    "#Obtenemos dia, mes y año de la columna de fecha_presentación del dataframe\n",
    "df['AÑO'] = pd.DatetimeIndex(df['fecha_presentacion']).year\n",
    "df['MES'] = pd.DatetimeIndex(df['fecha_presentacion']).month\n",
    "df['DIA'] = pd.DatetimeIndex(df['fecha_presentacion']).day\n",
    "df['HORA'] = pd.DatetimeIndex(df['fecha_presentacion']).hour\n",
    "df['MINUTE'] = pd.DatetimeIndex(df['fecha_presentacion']).minute\n",
    "df.drop('fecha_presentacion', axis= 1, inplace = True)\n",
    "df.head()"
   ]
  },
  {
   "cell_type": "code",
   "execution_count": 54,
   "metadata": {
    "colab": {
     "base_uri": "https://localhost:8080/",
     "height": 614
    },
    "colab_type": "code",
    "executionInfo": {
     "elapsed": 2235,
     "status": "ok",
     "timestamp": 1567282790851,
     "user": {
      "displayName": "Daniel Ramirez Rios",
      "photoUrl": "https://lh3.googleusercontent.com/a-/AAuE7mC957dFF_San4_44Jn9J7Gui5l2Gvxth2iEqWrKZw=s64",
      "userId": "16809089177157616231"
     },
     "user_tz": 420
    },
    "id": "Uf0K4aWaRlt9",
    "outputId": "89713ce8-a833-46f3-e1ac-c72fd3430c99"
   },
   "outputs": [
    {
     "data": {
      "image/png": "[encoded data removed]",
      "text/plain": [
       "<Figure size 1152x720 with 1 Axes>"
      ]
     },
     "metadata": {
      "needs_background": "light"
     },
     "output_type": "display_data"
    }
   ],
   "source": [
    "df1 = df.copy()\n",
    "df_espiar = df1[df1['motivo_remision'] == 'ESPIAR EN EL INTERIOR DE  PATIOS Y CASAS FALTANDO A LA PRIVACIDAD DE LAS PERSONAS']\n",
    "df_espiar_mes = df_espiar['MES'].value_counts()\n",
    "df_espiar_mes_plt = df_espiar_mes.plot(kind='barh',figsize = (16,10))\n",
    "df_espiar_mes_plt.set_alpha(0.8)\n",
    "df_espiar_mes_plt.set_title(\"Frecuencia de motivo de remision 'ESPIAR' por mes\", fontsize=18)\n",
    "\n",
    "\n",
    "# create a list to collect the data\n",
    "totals = []\n",
    "\n",
    "# find the values and append to list\n",
    "for i in df_espiar_mes_plt.patches:\n",
    "    totals.append(i.get_width())\n",
    "\n",
    "# set individual bar lables using above list\n",
    "total = sum(totals)\n",
    "\n",
    "# set individual bar lables using above list\n",
    "for i in df_espiar_mes_plt.patches:\n",
    "    # get_width pulls left or right; get_y pushes up or down\n",
    "    df_espiar_mes_plt.text(i.get_width()+.3, i.get_y()+.38, \\\n",
    "            str(round((i.get_width()/total)*100, 2))+'%', fontsize=10,\n",
    "color='black')\n",
    "\n",
    "\n",
    "#Invert the direction of the plot\n",
    "df_espiar_mes_plt.invert_yaxis()"
   ]
  },
  {
   "cell_type": "code",
   "execution_count": 55,
   "metadata": {},
   "outputs": [
    {
     "data": {
      "image/png": "[encoded data removed]",
      "text/plain": [
       "<Figure size 1152x576 with 1 Axes>"
      ]
     },
     "metadata": {
      "needs_background": "light"
     },
     "output_type": "display_data"
    }
   ],
   "source": [
    "plt.figure(figsize=(16,8))\n",
    "motivo_remision_mes_plt = sns.countplot(x='MES',data=df_espiar, palette=\"muted\")\n",
    "plt.title('Frecuencia de Motivo de remision \"Espiar\" por Mes' )\n",
    "plt.xlabel('Number of Axles')\n",
    "plt.ylabel('Frequency [%]')\n",
    "\n",
    "labels = [\"Enero\", \"Febrero\", \"Marzo\", \"Abril\", \"Mayo\", 'Junio', 'Julio', 'Agosto', 'Septiembre',\n",
    "          \"Octubre\", 'Noviembre', 'Diciembre']\n",
    "motivo_remision_mes_plt.set_xticklabels(labels, rotation = 45 , fontsize=11)\n",
    "\n",
    "i=0\n",
    "for p in motivo_remision_mes_plt.patches:\n",
    "    height = p.get_height() + 15\n",
    "    motivo_remision_mes_plt.text(p.get_x()+p.get_width()/2., height,\n",
    "    df1['motivo_remision'].value_counts()[i], ha=\"center\")\n",
    "    i += 1"
   ]
  },
  {
   "cell_type": "code",
   "execution_count": 168,
   "metadata": {},
   "outputs": [
    {
     "data": {
      "text/html": [
       "<div>\n",
       "<style scoped>\n",
       "    .dataframe tbody tr th:only-of-type {\n",
       "        vertical-align: middle;\n",
       "    }\n",
       "\n",
       "    .dataframe tbody tr th {\n",
       "        vertical-align: top;\n",
       "    }\n",
       "\n",
       "    .dataframe thead th {\n",
       "        text-align: right;\n",
       "    }\n",
       "</style>\n",
       "<table border=\"1\" class=\"dataframe\">\n",
       "  <thead>\n",
       "    <tr style=\"text-align: right;\">\n",
       "      <th></th>\n",
       "      <th>nacimiento</th>\n",
       "      <th>estatura</th>\n",
       "      <th>peso</th>\n",
       "    </tr>\n",
       "  </thead>\n",
       "  <tbody>\n",
       "    <tr>\n",
       "      <th>count</th>\n",
       "      <td>8033.000000</td>\n",
       "      <td>8023.000000</td>\n",
       "      <td>8023.000000</td>\n",
       "    </tr>\n",
       "    <tr>\n",
       "      <th>mean</th>\n",
       "      <td>1984.393502</td>\n",
       "      <td>1.691868</td>\n",
       "      <td>71.063567</td>\n",
       "    </tr>\n",
       "    <tr>\n",
       "      <th>std</th>\n",
       "      <td>7.686761</td>\n",
       "      <td>0.097481</td>\n",
       "      <td>11.939302</td>\n",
       "    </tr>\n",
       "    <tr>\n",
       "      <th>min</th>\n",
       "      <td>1971.000000</td>\n",
       "      <td>0.600000</td>\n",
       "      <td>30.000000</td>\n",
       "    </tr>\n",
       "    <tr>\n",
       "      <th>25%</th>\n",
       "      <td>1978.000000</td>\n",
       "      <td>1.650000</td>\n",
       "      <td>64.000000</td>\n",
       "    </tr>\n",
       "    <tr>\n",
       "      <th>50%</th>\n",
       "      <td>1984.000000</td>\n",
       "      <td>1.700000</td>\n",
       "      <td>70.000000</td>\n",
       "    </tr>\n",
       "    <tr>\n",
       "      <th>75%</th>\n",
       "      <td>1991.000000</td>\n",
       "      <td>1.750000</td>\n",
       "      <td>78.000000</td>\n",
       "    </tr>\n",
       "    <tr>\n",
       "      <th>max</th>\n",
       "      <td>2003.000000</td>\n",
       "      <td>1.990000</td>\n",
       "      <td>165.000000</td>\n",
       "    </tr>\n",
       "  </tbody>\n",
       "</table>\n",
       "</div>"
      ],
      "text/plain": [
       "        nacimiento     estatura         peso\n",
       "count  8033.000000  8023.000000  8023.000000\n",
       "mean   1984.393502     1.691868    71.063567\n",
       "std       7.686761     0.097481    11.939302\n",
       "min    1971.000000     0.600000    30.000000\n",
       "25%    1978.000000     1.650000    64.000000\n",
       "50%    1984.000000     1.700000    70.000000\n",
       "75%    1991.000000     1.750000    78.000000\n",
       "max    2003.000000     1.990000   165.000000"
      ]
     },
     "execution_count": 168,
     "metadata": {},
     "output_type": "execute_result"
    }
   ],
   "source": [
    "dfcentro.head()\n",
    "dfcentro_año = dfcentro[dfcentro['nacimiento'] > 1970 ] #& dfcentro['nacimieto']<2000\n",
    "dfcentro_año.describe()"
   ]
  },
  {
   "cell_type": "code",
   "execution_count": 173,
   "metadata": {},
   "outputs": [
    {
     "data": {
      "text/plain": [
       "Text(0, 0.5, 'Frequency')"
      ]
     },
     "execution_count": 173,
     "metadata": {},
     "output_type": "execute_result"
    },
    {
     "data": {
      "image/png": "[encoded data removed]",
      "text/plain": [
       "<Figure size 1152x576 with 1 Axes>"
      ]
     },
     "metadata": {
      "needs_background": "light"
     },
     "output_type": "display_data"
    }
   ],
   "source": [
    "plt.figure(figsize=(16,8))\n",
    "dfcentro_nacimiento_plt = sns.countplot(x='nacimiento',data=dfcentro_año, palette=\"muted\", hue='sexo')\n",
    "plt.title('Frecuencia de año de nacimiento en la colonia centro /n Comparación mujeres y hombres')\n",
    "plt.xlabel('Año de nacimiento')\n",
    "plt.ylabel('Frequency')\n"
   ]
  },
  {
   "cell_type": "code",
   "execution_count": 174,
   "metadata": {},
   "outputs": [
    {
     "data": {
      "text/html": [
       "<div>\n",
       "<style scoped>\n",
       "    .dataframe tbody tr th:only-of-type {\n",
       "        vertical-align: middle;\n",
       "    }\n",
       "\n",
       "    .dataframe tbody tr th {\n",
       "        vertical-align: top;\n",
       "    }\n",
       "\n",
       "    .dataframe thead th {\n",
       "        text-align: right;\n",
       "    }\n",
       "</style>\n",
       "<table border=\"1\" class=\"dataframe\">\n",
       "  <thead>\n",
       "    <tr style=\"text-align: right;\">\n",
       "      <th></th>\n",
       "      <th>zona</th>\n",
       "      <th>colonia_delito</th>\n",
       "      <th>motivo_remision</th>\n",
       "      <th>nacimiento</th>\n",
       "      <th>estatura</th>\n",
       "      <th>peso</th>\n",
       "      <th>sexo</th>\n",
       "      <th>colonia_detenido</th>\n",
       "      <th>AÑO</th>\n",
       "      <th>MES</th>\n",
       "      <th>DIA</th>\n",
       "      <th>HORA</th>\n",
       "      <th>MINUTE</th>\n",
       "    </tr>\n",
       "  </thead>\n",
       "  <tbody>\n",
       "    <tr>\n",
       "      <th>0</th>\n",
       "      <td>Comandancia Norte</td>\n",
       "      <td>ALVARO OBREGON (N)</td>\n",
       "      <td>CAUSAR O PROVOCAR ESCANDALO EN LUGARES PUBLICO...</td>\n",
       "      <td>1990</td>\n",
       "      <td>1.75</td>\n",
       "      <td>60.0</td>\n",
       "      <td>M</td>\n",
       "      <td>SAHUARO AMPLIACION</td>\n",
       "      <td>2015</td>\n",
       "      <td>1</td>\n",
       "      <td>1</td>\n",
       "      <td>0</td>\n",
       "      <td>39</td>\n",
       "    </tr>\n",
       "    <tr>\n",
       "      <th>1</th>\n",
       "      <td>Comandancia Sur</td>\n",
       "      <td>PALO VERDE INDEUR</td>\n",
       "      <td>CAUSAR O PROVOCAR ESCANDALO EN LUGARES PUBLICO...</td>\n",
       "      <td>1984</td>\n",
       "      <td>1.72</td>\n",
       "      <td>85.0</td>\n",
       "      <td>M</td>\n",
       "      <td>PALO VERDE INDEUR</td>\n",
       "      <td>2015</td>\n",
       "      <td>1</td>\n",
       "      <td>1</td>\n",
       "      <td>0</td>\n",
       "      <td>39</td>\n",
       "    </tr>\n",
       "    <tr>\n",
       "      <th>2</th>\n",
       "      <td>Comandancia Norte</td>\n",
       "      <td>CARMEN SERDAN (N)</td>\n",
       "      <td>DEAMBULAR EN LA VIA PUBLICA EN ESTADO DE EMBRI...</td>\n",
       "      <td>1980</td>\n",
       "      <td>1.65</td>\n",
       "      <td>65.0</td>\n",
       "      <td>M</td>\n",
       "      <td>FLOTANTE</td>\n",
       "      <td>2015</td>\n",
       "      <td>1</td>\n",
       "      <td>1</td>\n",
       "      <td>1</td>\n",
       "      <td>43</td>\n",
       "    </tr>\n",
       "    <tr>\n",
       "      <th>3</th>\n",
       "      <td>Comandancia Sur</td>\n",
       "      <td>REAL DEL CARMEN</td>\n",
       "      <td>CAUSAR O PROVOCAR ESCANDALO EN LUGARES PUBLICO...</td>\n",
       "      <td>1979</td>\n",
       "      <td>1.69</td>\n",
       "      <td>68.0</td>\n",
       "      <td>M</td>\n",
       "      <td>REAL DEL CARMEN</td>\n",
       "      <td>2015</td>\n",
       "      <td>1</td>\n",
       "      <td>1</td>\n",
       "      <td>1</td>\n",
       "      <td>59</td>\n",
       "    </tr>\n",
       "    <tr>\n",
       "      <th>4</th>\n",
       "      <td>Comandancia Centro</td>\n",
       "      <td>FUERA DEL MUNICIPIO</td>\n",
       "      <td>INGERIR BEBIDAS ALCOHOLICAS A BORDO DE UN VEHI...</td>\n",
       "      <td>1987</td>\n",
       "      <td>1.74</td>\n",
       "      <td>70.0</td>\n",
       "      <td>M</td>\n",
       "      <td>FUERA DEL MUNICIPIO</td>\n",
       "      <td>2015</td>\n",
       "      <td>1</td>\n",
       "      <td>1</td>\n",
       "      <td>2</td>\n",
       "      <td>0</td>\n",
       "    </tr>\n",
       "  </tbody>\n",
       "</table>\n",
       "</div>"
      ],
      "text/plain": [
       "                 zona       colonia_delito  \\\n",
       "0   Comandancia Norte   ALVARO OBREGON (N)   \n",
       "1     Comandancia Sur    PALO VERDE INDEUR   \n",
       "2   Comandancia Norte    CARMEN SERDAN (N)   \n",
       "3     Comandancia Sur      REAL DEL CARMEN   \n",
       "4  Comandancia Centro  FUERA DEL MUNICIPIO   \n",
       "\n",
       "                                     motivo_remision  nacimiento  estatura  \\\n",
       "0  CAUSAR O PROVOCAR ESCANDALO EN LUGARES PUBLICO...        1990      1.75   \n",
       "1  CAUSAR O PROVOCAR ESCANDALO EN LUGARES PUBLICO...        1984      1.72   \n",
       "2  DEAMBULAR EN LA VIA PUBLICA EN ESTADO DE EMBRI...        1980      1.65   \n",
       "3  CAUSAR O PROVOCAR ESCANDALO EN LUGARES PUBLICO...        1979      1.69   \n",
       "4  INGERIR BEBIDAS ALCOHOLICAS A BORDO DE UN VEHI...        1987      1.74   \n",
       "\n",
       "   peso sexo     colonia_detenido   AÑO  MES  DIA  HORA  MINUTE  \n",
       "0  60.0    M   SAHUARO AMPLIACION  2015    1    1     0      39  \n",
       "1  85.0    M    PALO VERDE INDEUR  2015    1    1     0      39  \n",
       "2  65.0    M             FLOTANTE  2015    1    1     1      43  \n",
       "3  68.0    M      REAL DEL CARMEN  2015    1    1     1      59  \n",
       "4  70.0    M  FUERA DEL MUNICIPIO  2015    1    1     2       0  "
      ]
     },
     "execution_count": 174,
     "metadata": {},
     "output_type": "execute_result"
    }
   ],
   "source": [
    "df.head()\n",
    "#dfcentro_año = dfcentro[dfcentro['nacimiento'] > 1970 ] #& dfcentro['nacimieto']<2000\n",
    "#dfcentro_año.describe()"
   ]
  },
  {
   "cell_type": "code",
   "execution_count": null,
   "metadata": {},
   "outputs": [],
   "source": []
  },
  {
   "cell_type": "code",
   "execution_count": null,
   "metadata": {},
   "outputs": [],
   "source": []
  },
  {
   "cell_type": "code",
   "execution_count": 57,
   "metadata": {
    "colab": {},
    "colab_type": "code",
    "id": "vRdyChbzWmUO"
   },
   "outputs": [
    {
     "name": "stdout",
     "output_type": "stream",
     "text": [
      "<class 'pandas.core.frame.DataFrame'>\n",
      "RangeIndex: 122192 entries, 0 to 122191\n",
      "Data columns (total 13 columns):\n",
      "zona                122192 non-null object\n",
      "colonia_delito      122192 non-null object\n",
      "motivo_remision     122192 non-null object\n",
      "nacimiento          122192 non-null int64\n",
      "estatura            122156 non-null float64\n",
      "peso                122155 non-null float64\n",
      "sexo                122192 non-null object\n",
      "colonia_detenido    122192 non-null object\n",
      "AÑO                 122192 non-null int64\n",
      "MES                 122192 non-null int64\n",
      "DIA                 122192 non-null int64\n",
      "HORA                122192 non-null int64\n",
      "MINUTE              122192 non-null int64\n",
      "dtypes: float64(2), int64(6), object(5)\n",
      "memory usage: 12.1+ MB\n"
     ]
    }
   ],
   "source": [
    "df1.info()"
   ]
  },
  {
   "cell_type": "code",
   "execution_count": 61,
   "metadata": {},
   "outputs": [
    {
     "data": {
      "text/plain": [
       "zona                 0\n",
       "colonia_delito       0\n",
       "motivo_remision      0\n",
       "nacimiento           0\n",
       "estatura             0\n",
       "peso                37\n",
       "sexo                 0\n",
       "colonia_detenido     0\n",
       "AÑO                  0\n",
       "MES                  0\n",
       "DIA                  0\n",
       "HORA                 0\n",
       "MINUTE               0\n",
       "dtype: int64"
      ]
     },
     "execution_count": 61,
     "metadata": {},
     "output_type": "execute_result"
    }
   ],
   "source": [
    "df1.isna().sum()"
   ]
  },
  {
   "cell_type": "code",
   "execution_count": 62,
   "metadata": {
    "scrolled": true
   },
   "outputs": [
    {
     "data": {
      "text/plain": [
       "zona                0\n",
       "colonia_delito      0\n",
       "motivo_remision     0\n",
       "nacimiento          0\n",
       "estatura            0\n",
       "peso                0\n",
       "sexo                0\n",
       "colonia_detenido    0\n",
       "AÑO                 0\n",
       "MES                 0\n",
       "DIA                 0\n",
       "HORA                0\n",
       "MINUTE              0\n",
       "dtype: int64"
      ]
     },
     "execution_count": 62,
     "metadata": {},
     "output_type": "execute_result"
    }
   ],
   "source": [
    "df1.estatura = df1.estatura.fillna(df1.estatura.mean())\n",
    "df1.peso = df1.peso.fillna(df1.peso.mean())\n",
    "df1.isna().sum()"
   ]
  },
  {
   "cell_type": "code",
   "execution_count": null,
   "metadata": {},
   "outputs": [],
   "source": []
  },
  {
   "cell_type": "code",
   "execution_count": null,
   "metadata": {},
   "outputs": [],
   "source": []
  },
  {
   "cell_type": "code",
   "execution_count": null,
   "metadata": {},
   "outputs": [],
   "source": []
  },
  {
   "cell_type": "markdown",
   "metadata": {
    "colab_type": "text",
    "id": "XsqL3V-iVxUY"
   },
   "source": [
    "# hacer dummies motivo de remision y colonia del retenido"
   ]
  },
  {
   "cell_type": "code",
   "execution_count": 176,
   "metadata": {
    "colab": {
     "base_uri": "https://localhost:8080/",
     "height": 196
    },
    "colab_type": "code",
    "executionInfo": {
     "elapsed": 514,
     "status": "ok",
     "timestamp": 1567283238209,
     "user": {
      "displayName": "Daniel Ramirez Rios",
      "photoUrl": "https://lh3.googleusercontent.com/a-/AAuE7mC957dFF_San4_44Jn9J7Gui5l2Gvxth2iEqWrKZw=s64",
      "userId": "16809089177157616231"
     },
     "user_tz": 420
    },
    "id": "DJmnYd0TU9Oh",
    "outputId": "c10603a1-dd51-47cd-a011-cb77847adcd4"
   },
   "outputs": [
    {
     "data": {
      "text/html": [
       "<div>\n",
       "<style scoped>\n",
       "    .dataframe tbody tr th:only-of-type {\n",
       "        vertical-align: middle;\n",
       "    }\n",
       "\n",
       "    .dataframe tbody tr th {\n",
       "        vertical-align: top;\n",
       "    }\n",
       "\n",
       "    .dataframe thead th {\n",
       "        text-align: right;\n",
       "    }\n",
       "</style>\n",
       "<table border=\"1\" class=\"dataframe\">\n",
       "  <thead>\n",
       "    <tr style=\"text-align: right;\">\n",
       "      <th></th>\n",
       "      <th>zona</th>\n",
       "      <th>colonia_delito</th>\n",
       "      <th>motivo_remision</th>\n",
       "      <th>nacimiento</th>\n",
       "      <th>estatura</th>\n",
       "      <th>peso</th>\n",
       "      <th>sexo</th>\n",
       "      <th>AÑO</th>\n",
       "      <th>MES</th>\n",
       "      <th>DIA</th>\n",
       "      <th>HORA</th>\n",
       "      <th>MINUTE</th>\n",
       "    </tr>\n",
       "  </thead>\n",
       "  <tbody>\n",
       "    <tr>\n",
       "      <th>0</th>\n",
       "      <td>5</td>\n",
       "      <td>18</td>\n",
       "      <td>9</td>\n",
       "      <td>1990</td>\n",
       "      <td>1.75</td>\n",
       "      <td>60.0</td>\n",
       "      <td>2</td>\n",
       "      <td>2015</td>\n",
       "      <td>1</td>\n",
       "      <td>1</td>\n",
       "      <td>0</td>\n",
       "      <td>39</td>\n",
       "    </tr>\n",
       "    <tr>\n",
       "      <th>1</th>\n",
       "      <td>6</td>\n",
       "      <td>223</td>\n",
       "      <td>9</td>\n",
       "      <td>1984</td>\n",
       "      <td>1.72</td>\n",
       "      <td>85.0</td>\n",
       "      <td>2</td>\n",
       "      <td>2015</td>\n",
       "      <td>1</td>\n",
       "      <td>1</td>\n",
       "      <td>0</td>\n",
       "      <td>39</td>\n",
       "    </tr>\n",
       "    <tr>\n",
       "      <th>2</th>\n",
       "      <td>5</td>\n",
       "      <td>50</td>\n",
       "      <td>18</td>\n",
       "      <td>1980</td>\n",
       "      <td>1.65</td>\n",
       "      <td>65.0</td>\n",
       "      <td>2</td>\n",
       "      <td>2015</td>\n",
       "      <td>1</td>\n",
       "      <td>1</td>\n",
       "      <td>1</td>\n",
       "      <td>43</td>\n",
       "    </tr>\n",
       "    <tr>\n",
       "      <th>3</th>\n",
       "      <td>6</td>\n",
       "      <td>284</td>\n",
       "      <td>9</td>\n",
       "      <td>1979</td>\n",
       "      <td>1.69</td>\n",
       "      <td>68.0</td>\n",
       "      <td>2</td>\n",
       "      <td>2015</td>\n",
       "      <td>1</td>\n",
       "      <td>1</td>\n",
       "      <td>1</td>\n",
       "      <td>59</td>\n",
       "    </tr>\n",
       "    <tr>\n",
       "      <th>4</th>\n",
       "      <td>4</td>\n",
       "      <td>114</td>\n",
       "      <td>33</td>\n",
       "      <td>1987</td>\n",
       "      <td>1.74</td>\n",
       "      <td>70.0</td>\n",
       "      <td>2</td>\n",
       "      <td>2015</td>\n",
       "      <td>1</td>\n",
       "      <td>1</td>\n",
       "      <td>2</td>\n",
       "      <td>0</td>\n",
       "    </tr>\n",
       "  </tbody>\n",
       "</table>\n",
       "</div>"
      ],
      "text/plain": [
       "   zona  colonia_delito  motivo_remision  nacimiento  estatura  peso  sexo  \\\n",
       "0     5              18                9        1990      1.75  60.0     2   \n",
       "1     6             223                9        1984      1.72  85.0     2   \n",
       "2     5              50               18        1980      1.65  65.0     2   \n",
       "3     6             284                9        1979      1.69  68.0     2   \n",
       "4     4             114               33        1987      1.74  70.0     2   \n",
       "\n",
       "    AÑO  MES  DIA  HORA  MINUTE  \n",
       "0  2015    1    1     0      39  \n",
       "1  2015    1    1     0      39  \n",
       "2  2015    1    1     1      43  \n",
       "3  2015    1    1     1      59  \n",
       "4  2015    1    1     2       0  "
      ]
     },
     "execution_count": 176,
     "metadata": {},
     "output_type": "execute_result"
    }
   ],
   "source": [
    "new_df = df1.copy()\n",
    "#new_df['motivo_remision'] = pd.factorize(new_df['motivo_remision'], sort=True)[0] + 1\n",
    "new_df['colonia_delito'] = pd.factorize(new_df['colonia_delito'], sort=True)[0] + 1\n",
    "new_df['sexo'] = pd.factorize(new_df['sexo'], sort=True)[0] + 1\n",
    "new_df['zona'] = pd.factorize(new_df['zona'], sort=True)[0] + 1\n",
    "new_df['motivo_remision'] = pd.factorize(new_df['motivo_remision'], sort=True)[0] + 1\n",
    "new_df.drop('colonia_detenido', axis = 1, inplace=True)\n",
    "\n",
    "new_df.head()"
   ]
  },
  {
   "cell_type": "code",
   "execution_count": 64,
   "metadata": {
    "colab": {
     "base_uri": "https://localhost:8080/",
     "height": 764
    },
    "colab_type": "code",
    "executionInfo": {
     "elapsed": 2535,
     "status": "ok",
     "timestamp": 1567283660672,
     "user": {
      "displayName": "Daniel Ramirez Rios",
      "photoUrl": "https://lh3.googleusercontent.com/a-/AAuE7mC957dFF_San4_44Jn9J7Gui5l2Gvxth2iEqWrKZw=s64",
      "userId": "16809089177157616231"
     },
     "user_tz": 420
    },
    "id": "efw0Px2GW4VC",
    "outputId": "c8ac57da-a191-4079-87e1-d16e33bed76a",
    "scrolled": true
   },
   "outputs": [
    {
     "data": {
      "text/html": [
       "<div>\n",
       "<style scoped>\n",
       "    .dataframe tbody tr th:only-of-type {\n",
       "        vertical-align: middle;\n",
       "    }\n",
       "\n",
       "    .dataframe tbody tr th {\n",
       "        vertical-align: top;\n",
       "    }\n",
       "\n",
       "    .dataframe thead th {\n",
       "        text-align: right;\n",
       "    }\n",
       "</style>\n",
       "<table border=\"1\" class=\"dataframe\">\n",
       "  <thead>\n",
       "    <tr style=\"text-align: right;\">\n",
       "      <th></th>\n",
       "      <th>zona</th>\n",
       "      <th>colonia_delito</th>\n",
       "      <th>motivo_remision</th>\n",
       "      <th>nacimiento</th>\n",
       "      <th>estatura</th>\n",
       "      <th>peso</th>\n",
       "      <th>sexo</th>\n",
       "      <th>AÑO</th>\n",
       "      <th>MES</th>\n",
       "      <th>DIA</th>\n",
       "      <th>...</th>\n",
       "      <th>PROFERIR PALABRAS OBSCENAS O HACER ALGO QUE FALTE AL RESPETO EN ACTOS CIVICOS</th>\n",
       "      <th>PROVOCAR O PARTICIPAR EN RIÑAS EN LA VIA PUBLICA</th>\n",
       "      <th>RAYAR  PINTAR  RASPAR O MALTRATAR UN BIEN MUEBLE O INMUEBLE AJENO.</th>\n",
       "      <th>REALIZAR MARCHAS EN VIA PUBLICA SIN AUTORIZACION SI INTERFIEREN CON EL TRANSITO</th>\n",
       "      <th>REGISTRO O PADRON SANITARIO DE PERSONAS DEDICADAS AL SEXO SERVICIO</th>\n",
       "      <th>SANCION DE FALTA CON REFERENCIA EN EL ART. 21 DE LA CONSTITUCION</th>\n",
       "      <th>SANCIONES POR FALTAS AL BUEN GOBIERNO DISPOSICIONES GENERALES</th>\n",
       "      <th>SE REQUIERE AUTORIZACION  LICENCIA O PERMISO PARA CELEBRACION DE BAILES O FESTIVIDADES</th>\n",
       "      <th>UTILIZAR RADIO  LUCES  CLAVES  SIRENAS  UNIFORMES  ETC  EXCLUSIVO PARA CORPORACIONES MUNICIPALES</th>\n",
       "      <th>VENDER  BEBIDAS ALCOHOLICAS SIN LA ANUENCIA MUNICIPAL</th>\n",
       "    </tr>\n",
       "  </thead>\n",
       "  <tbody>\n",
       "    <tr>\n",
       "      <th>0</th>\n",
       "      <td>5</td>\n",
       "      <td>18</td>\n",
       "      <td>CAUSAR O PROVOCAR ESCANDALO EN LUGARES PUBLICO...</td>\n",
       "      <td>1990</td>\n",
       "      <td>1.75</td>\n",
       "      <td>60.0</td>\n",
       "      <td>2</td>\n",
       "      <td>2015</td>\n",
       "      <td>1</td>\n",
       "      <td>1</td>\n",
       "      <td>...</td>\n",
       "      <td>0</td>\n",
       "      <td>0</td>\n",
       "      <td>0</td>\n",
       "      <td>0</td>\n",
       "      <td>0</td>\n",
       "      <td>0</td>\n",
       "      <td>0</td>\n",
       "      <td>0</td>\n",
       "      <td>0</td>\n",
       "      <td>0</td>\n",
       "    </tr>\n",
       "    <tr>\n",
       "      <th>1</th>\n",
       "      <td>6</td>\n",
       "      <td>223</td>\n",
       "      <td>CAUSAR O PROVOCAR ESCANDALO EN LUGARES PUBLICO...</td>\n",
       "      <td>1984</td>\n",
       "      <td>1.72</td>\n",
       "      <td>85.0</td>\n",
       "      <td>2</td>\n",
       "      <td>2015</td>\n",
       "      <td>1</td>\n",
       "      <td>1</td>\n",
       "      <td>...</td>\n",
       "      <td>0</td>\n",
       "      <td>0</td>\n",
       "      <td>0</td>\n",
       "      <td>0</td>\n",
       "      <td>0</td>\n",
       "      <td>0</td>\n",
       "      <td>0</td>\n",
       "      <td>0</td>\n",
       "      <td>0</td>\n",
       "      <td>0</td>\n",
       "    </tr>\n",
       "    <tr>\n",
       "      <th>2</th>\n",
       "      <td>5</td>\n",
       "      <td>50</td>\n",
       "      <td>DEAMBULAR EN LA VIA PUBLICA EN ESTADO DE EMBRI...</td>\n",
       "      <td>1980</td>\n",
       "      <td>1.65</td>\n",
       "      <td>65.0</td>\n",
       "      <td>2</td>\n",
       "      <td>2015</td>\n",
       "      <td>1</td>\n",
       "      <td>1</td>\n",
       "      <td>...</td>\n",
       "      <td>0</td>\n",
       "      <td>0</td>\n",
       "      <td>0</td>\n",
       "      <td>0</td>\n",
       "      <td>0</td>\n",
       "      <td>0</td>\n",
       "      <td>0</td>\n",
       "      <td>0</td>\n",
       "      <td>0</td>\n",
       "      <td>0</td>\n",
       "    </tr>\n",
       "    <tr>\n",
       "      <th>3</th>\n",
       "      <td>6</td>\n",
       "      <td>284</td>\n",
       "      <td>CAUSAR O PROVOCAR ESCANDALO EN LUGARES PUBLICO...</td>\n",
       "      <td>1979</td>\n",
       "      <td>1.69</td>\n",
       "      <td>68.0</td>\n",
       "      <td>2</td>\n",
       "      <td>2015</td>\n",
       "      <td>1</td>\n",
       "      <td>1</td>\n",
       "      <td>...</td>\n",
       "      <td>0</td>\n",
       "      <td>0</td>\n",
       "      <td>0</td>\n",
       "      <td>0</td>\n",
       "      <td>0</td>\n",
       "      <td>0</td>\n",
       "      <td>0</td>\n",
       "      <td>0</td>\n",
       "      <td>0</td>\n",
       "      <td>0</td>\n",
       "    </tr>\n",
       "    <tr>\n",
       "      <th>4</th>\n",
       "      <td>4</td>\n",
       "      <td>114</td>\n",
       "      <td>INGERIR BEBIDAS ALCOHOLICAS A BORDO DE UN VEHI...</td>\n",
       "      <td>1987</td>\n",
       "      <td>1.74</td>\n",
       "      <td>70.0</td>\n",
       "      <td>2</td>\n",
       "      <td>2015</td>\n",
       "      <td>1</td>\n",
       "      <td>1</td>\n",
       "      <td>...</td>\n",
       "      <td>0</td>\n",
       "      <td>0</td>\n",
       "      <td>0</td>\n",
       "      <td>0</td>\n",
       "      <td>0</td>\n",
       "      <td>0</td>\n",
       "      <td>0</td>\n",
       "      <td>0</td>\n",
       "      <td>0</td>\n",
       "      <td>0</td>\n",
       "    </tr>\n",
       "  </tbody>\n",
       "</table>\n",
       "<p>5 rows × 80 columns</p>\n",
       "</div>"
      ],
      "text/plain": [
       "   zona  colonia_delito                                    motivo_remision  \\\n",
       "0     5              18  CAUSAR O PROVOCAR ESCANDALO EN LUGARES PUBLICO...   \n",
       "1     6             223  CAUSAR O PROVOCAR ESCANDALO EN LUGARES PUBLICO...   \n",
       "2     5              50  DEAMBULAR EN LA VIA PUBLICA EN ESTADO DE EMBRI...   \n",
       "3     6             284  CAUSAR O PROVOCAR ESCANDALO EN LUGARES PUBLICO...   \n",
       "4     4             114  INGERIR BEBIDAS ALCOHOLICAS A BORDO DE UN VEHI...   \n",
       "\n",
       "   nacimiento  estatura  peso  sexo   AÑO  MES  DIA  ...  \\\n",
       "0        1990      1.75  60.0     2  2015    1    1  ...   \n",
       "1        1984      1.72  85.0     2  2015    1    1  ...   \n",
       "2        1980      1.65  65.0     2  2015    1    1  ...   \n",
       "3        1979      1.69  68.0     2  2015    1    1  ...   \n",
       "4        1987      1.74  70.0     2  2015    1    1  ...   \n",
       "\n",
       "   PROFERIR PALABRAS OBSCENAS O HACER ALGO QUE FALTE AL RESPETO EN ACTOS CIVICOS  \\\n",
       "0                                                  0                               \n",
       "1                                                  0                               \n",
       "2                                                  0                               \n",
       "3                                                  0                               \n",
       "4                                                  0                               \n",
       "\n",
       "   PROVOCAR O PARTICIPAR EN RIÑAS EN LA VIA PUBLICA  \\\n",
       "0                                                 0   \n",
       "1                                                 0   \n",
       "2                                                 0   \n",
       "3                                                 0   \n",
       "4                                                 0   \n",
       "\n",
       "   RAYAR  PINTAR  RASPAR O MALTRATAR UN BIEN MUEBLE O INMUEBLE AJENO.  \\\n",
       "0                                                  0                    \n",
       "1                                                  0                    \n",
       "2                                                  0                    \n",
       "3                                                  0                    \n",
       "4                                                  0                    \n",
       "\n",
       "   REALIZAR MARCHAS EN VIA PUBLICA SIN AUTORIZACION SI INTERFIEREN CON EL TRANSITO  \\\n",
       "0                                                  0                                 \n",
       "1                                                  0                                 \n",
       "2                                                  0                                 \n",
       "3                                                  0                                 \n",
       "4                                                  0                                 \n",
       "\n",
       "   REGISTRO O PADRON SANITARIO DE PERSONAS DEDICADAS AL SEXO SERVICIO  \\\n",
       "0                                                  0                    \n",
       "1                                                  0                    \n",
       "2                                                  0                    \n",
       "3                                                  0                    \n",
       "4                                                  0                    \n",
       "\n",
       "   SANCION DE FALTA CON REFERENCIA EN EL ART. 21 DE LA CONSTITUCION  \\\n",
       "0                                                  0                  \n",
       "1                                                  0                  \n",
       "2                                                  0                  \n",
       "3                                                  0                  \n",
       "4                                                  0                  \n",
       "\n",
       "   SANCIONES POR FALTAS AL BUEN GOBIERNO DISPOSICIONES GENERALES  \\\n",
       "0                                                  0               \n",
       "1                                                  0               \n",
       "2                                                  0               \n",
       "3                                                  0               \n",
       "4                                                  0               \n",
       "\n",
       "   SE REQUIERE AUTORIZACION  LICENCIA O PERMISO PARA CELEBRACION DE BAILES O FESTIVIDADES  \\\n",
       "0                                                  0                                        \n",
       "1                                                  0                                        \n",
       "2                                                  0                                        \n",
       "3                                                  0                                        \n",
       "4                                                  0                                        \n",
       "\n",
       "   UTILIZAR RADIO  LUCES  CLAVES  SIRENAS  UNIFORMES  ETC  EXCLUSIVO PARA CORPORACIONES MUNICIPALES  \\\n",
       "0                                                  0                                                  \n",
       "1                                                  0                                                  \n",
       "2                                                  0                                                  \n",
       "3                                                  0                                                  \n",
       "4                                                  0                                                  \n",
       "\n",
       "   VENDER  BEBIDAS ALCOHOLICAS SIN LA ANUENCIA MUNICIPAL  \n",
       "0                                                  0      \n",
       "1                                                  0      \n",
       "2                                                  0      \n",
       "3                                                  0      \n",
       "4                                                  0      \n",
       "\n",
       "[5 rows x 80 columns]"
      ]
     },
     "execution_count": 64,
     "metadata": {},
     "output_type": "execute_result"
    }
   ],
   "source": [
    "new_df_dummies = pd.get_dummies(new_df['motivo_remision'])\n",
    "#new_df['motivo_remision'].get_dummies()\n",
    "new_df2 = pd.concat([new_df, new_df_dummies], axis = 1)\n",
    "new_df2.drop('motivo_remision', axis = 1, inplace= True)\n",
    "new_df2.head()"
   ]
  },
  {
   "cell_type": "code",
   "execution_count": 97,
   "metadata": {},
   "outputs": [
    {
     "data": {
      "text/plain": [
       "872"
      ]
     },
     "execution_count": 97,
     "metadata": {},
     "output_type": "execute_result"
    }
   ],
   "source": [
    "new_df2['DEFECAR U ORINAR EN LA VIA PUBLICA'].sum()"
   ]
  },
  {
   "cell_type": "code",
   "execution_count": 175,
   "metadata": {},
   "outputs": [
    {
     "data": {
      "text/html": [
       "<div>\n",
       "<style scoped>\n",
       "    .dataframe tbody tr th:only-of-type {\n",
       "        vertical-align: middle;\n",
       "    }\n",
       "\n",
       "    .dataframe tbody tr th {\n",
       "        vertical-align: top;\n",
       "    }\n",
       "\n",
       "    .dataframe thead th {\n",
       "        text-align: right;\n",
       "    }\n",
       "</style>\n",
       "<table border=\"1\" class=\"dataframe\">\n",
       "  <thead>\n",
       "    <tr style=\"text-align: right;\">\n",
       "      <th></th>\n",
       "      <th>zona</th>\n",
       "      <th>colonia_delito</th>\n",
       "      <th>motivo_remision</th>\n",
       "      <th>nacimiento</th>\n",
       "      <th>estatura</th>\n",
       "      <th>peso</th>\n",
       "      <th>sexo</th>\n",
       "      <th>AÑO</th>\n",
       "      <th>MES</th>\n",
       "      <th>DIA</th>\n",
       "      <th>HORA</th>\n",
       "      <th>MINUTE</th>\n",
       "    </tr>\n",
       "  </thead>\n",
       "  <tbody>\n",
       "    <tr>\n",
       "      <th>0</th>\n",
       "      <td>5</td>\n",
       "      <td>18</td>\n",
       "      <td>9</td>\n",
       "      <td>1990</td>\n",
       "      <td>1.75</td>\n",
       "      <td>60.0</td>\n",
       "      <td>2</td>\n",
       "      <td>2015</td>\n",
       "      <td>1</td>\n",
       "      <td>1</td>\n",
       "      <td>0</td>\n",
       "      <td>39</td>\n",
       "    </tr>\n",
       "    <tr>\n",
       "      <th>1</th>\n",
       "      <td>6</td>\n",
       "      <td>223</td>\n",
       "      <td>9</td>\n",
       "      <td>1984</td>\n",
       "      <td>1.72</td>\n",
       "      <td>85.0</td>\n",
       "      <td>2</td>\n",
       "      <td>2015</td>\n",
       "      <td>1</td>\n",
       "      <td>1</td>\n",
       "      <td>0</td>\n",
       "      <td>39</td>\n",
       "    </tr>\n",
       "    <tr>\n",
       "      <th>2</th>\n",
       "      <td>5</td>\n",
       "      <td>50</td>\n",
       "      <td>18</td>\n",
       "      <td>1980</td>\n",
       "      <td>1.65</td>\n",
       "      <td>65.0</td>\n",
       "      <td>2</td>\n",
       "      <td>2015</td>\n",
       "      <td>1</td>\n",
       "      <td>1</td>\n",
       "      <td>1</td>\n",
       "      <td>43</td>\n",
       "    </tr>\n",
       "    <tr>\n",
       "      <th>3</th>\n",
       "      <td>6</td>\n",
       "      <td>284</td>\n",
       "      <td>9</td>\n",
       "      <td>1979</td>\n",
       "      <td>1.69</td>\n",
       "      <td>68.0</td>\n",
       "      <td>2</td>\n",
       "      <td>2015</td>\n",
       "      <td>1</td>\n",
       "      <td>1</td>\n",
       "      <td>1</td>\n",
       "      <td>59</td>\n",
       "    </tr>\n",
       "    <tr>\n",
       "      <th>4</th>\n",
       "      <td>4</td>\n",
       "      <td>114</td>\n",
       "      <td>33</td>\n",
       "      <td>1987</td>\n",
       "      <td>1.74</td>\n",
       "      <td>70.0</td>\n",
       "      <td>2</td>\n",
       "      <td>2015</td>\n",
       "      <td>1</td>\n",
       "      <td>1</td>\n",
       "      <td>2</td>\n",
       "      <td>0</td>\n",
       "    </tr>\n",
       "  </tbody>\n",
       "</table>\n",
       "</div>"
      ],
      "text/plain": [
       "   zona  colonia_delito  motivo_remision  nacimiento  estatura  peso  sexo  \\\n",
       "0     5              18                9        1990      1.75  60.0     2   \n",
       "1     6             223                9        1984      1.72  85.0     2   \n",
       "2     5              50               18        1980      1.65  65.0     2   \n",
       "3     6             284                9        1979      1.69  68.0     2   \n",
       "4     4             114               33        1987      1.74  70.0     2   \n",
       "\n",
       "    AÑO  MES  DIA  HORA  MINUTE  \n",
       "0  2015    1    1     0      39  \n",
       "1  2015    1    1     0      39  \n",
       "2  2015    1    1     1      43  \n",
       "3  2015    1    1     1      59  \n",
       "4  2015    1    1     2       0  "
      ]
     },
     "execution_count": 175,
     "metadata": {},
     "output_type": "execute_result"
    }
   ],
   "source": [
    "new_df.head()"
   ]
  },
  {
   "cell_type": "code",
   "execution_count": null,
   "metadata": {},
   "outputs": [],
   "source": []
  },
  {
   "cell_type": "code",
   "execution_count": 67,
   "metadata": {
    "colab": {},
    "colab_type": "code",
    "id": "MIyiUkeAZNAw"
   },
   "outputs": [],
   "source": [
    "#This is for splitting the train data vs the test data\n",
    "from sklearn.model_selection import train_test_split\n",
    "#X_train, X_test, y_train, y_test = train_test_split(X,y, test_size=0.3, random_state = 101)\n",
    "\n",
    "# This is for Logistic Regression\n",
    "from sklearn.linear_model import LogisticRegression\n",
    "\n",
    "#This is for Linear Regression\n",
    "\n",
    "from sklearn.linear_model import LinearRegression\n",
    "\n",
    "#This is a import for classification_report, it will show the accuracy of the training model\n",
    "\n",
    "from sklearn.metrics import classification_report, confusion_matrix\n",
    "\n",
    "#This is a import for Random Forest\n",
    "from sklearn.tree import DecisionTreeClassifier\n",
    "from sklearn.ensemble import RandomForestClassifier\n",
    "\n",
    "#Steps to predict \n",
    "from sklearn.ensemble import RandomForestRegressor\n",
    "from IPython.display import display"
   ]
  },
  {
   "cell_type": "code",
   "execution_count": 109,
   "metadata": {
    "colab": {},
    "colab_type": "code",
    "id": "7H-aspK-Y2w8"
   },
   "outputs": [],
   "source": [
    "X = new_df.drop('motivo_remision', \n",
    "                 axis = 1)\n",
    "y = new_df['motivo_remision']\n",
    "X_train, X_test, y_train, y_test = train_test_split(X,y, test_size=0.3, random_state = 101)"
   ]
  },
  {
   "cell_type": "code",
   "execution_count": 110,
   "metadata": {
    "colab": {},
    "colab_type": "code",
    "id": "Z5ah8E68ZU6T"
   },
   "outputs": [],
   "source": [
    "# Escalar los datos\n",
    "from sklearn.preprocessing import StandardScaler\n",
    "standardScaler = StandardScaler()\n",
    "X_train = standardScaler.fit_transform(X_train)\n",
    "X_test = standardScaler.transform(X_test)"
   ]
  },
  {
   "cell_type": "markdown",
   "metadata": {
    "colab_type": "text",
    "id": "xYgLAB_dZc1z"
   },
   "source": [
    "# Random Forest"
   ]
  },
  {
   "cell_type": "code",
   "execution_count": 111,
   "metadata": {
    "colab": {
     "base_uri": "https://localhost:8080/",
     "height": 134
    },
    "colab_type": "code",
    "executionInfo": {
     "elapsed": 1158,
     "status": "ok",
     "timestamp": 1567284587085,
     "user": {
      "displayName": "Daniel Ramirez Rios",
      "photoUrl": "https://lh3.googleusercontent.com/a-/AAuE7mC957dFF_San4_44Jn9J7Gui5l2Gvxth2iEqWrKZw=s64",
      "userId": "16809089177157616231"
     },
     "user_tz": 420
    },
    "id": "OD8rYq6iZe54",
    "outputId": "b2b33f6a-47e9-483d-8f33-050ec815eacf"
   },
   "outputs": [
    {
     "data": {
      "text/plain": [
       "RandomForestClassifier(bootstrap=True, class_weight=None, criterion='gini',\n",
       "                       max_depth=None, max_features='auto', max_leaf_nodes=None,\n",
       "                       min_impurity_decrease=0.0, min_impurity_split=None,\n",
       "                       min_samples_leaf=1, min_samples_split=2,\n",
       "                       min_weight_fraction_leaf=0.0, n_estimators=10,\n",
       "                       n_jobs=None, oob_score=False, random_state=None,\n",
       "                       verbose=0, warm_start=False)"
      ]
     },
     "execution_count": 111,
     "metadata": {},
     "output_type": "execute_result"
    }
   ],
   "source": [
    "rfc = RandomForestClassifier(n_estimators = 10,criterion = 'gini')\n",
    "rfc.fit(X_train, y_train)"
   ]
  },
  {
   "cell_type": "code",
   "execution_count": 112,
   "metadata": {
    "colab": {},
    "colab_type": "code",
    "id": "wi0uJtpCZeRm"
   },
   "outputs": [],
   "source": [
    "prediction = rfc.predict(X_test)"
   ]
  },
  {
   "cell_type": "code",
   "execution_count": 113,
   "metadata": {
    "colab": {
     "base_uri": "https://localhost:8080/",
     "height": 234
    },
    "colab_type": "code",
    "executionInfo": {
     "elapsed": 428,
     "status": "ok",
     "timestamp": 1567284589694,
     "user": {
      "displayName": "Daniel Ramirez Rios",
      "photoUrl": "https://lh3.googleusercontent.com/a-/AAuE7mC957dFF_San4_44Jn9J7Gui5l2Gvxth2iEqWrKZw=s64",
      "userId": "16809089177157616231"
     },
     "user_tz": 420
    },
    "id": "NJb3B-YmaQLI",
    "outputId": "0a5117f7-b808-4011-c9ac-ec4e1203ca20"
   },
   "outputs": [
    {
     "name": "stdout",
     "output_type": "stream",
     "text": [
      "[[0 0 0 ... 0 0 0]\n",
      " [0 0 0 ... 0 0 0]\n",
      " [0 0 0 ... 0 0 0]\n",
      " ...\n",
      " [0 0 0 ... 0 0 0]\n",
      " [0 0 0 ... 0 0 1]\n",
      " [0 0 0 ... 0 0 1]]\n",
      "\n",
      "\n",
      "              precision    recall  f1-score   support\n",
      "\n",
      "           2       0.00      0.00      0.00        17\n",
      "           3       0.00      0.00      0.00        10\n",
      "           4       0.00      0.00      0.00         1\n",
      "           5       0.37      0.08      0.14       156\n",
      "           6       0.00      0.00      0.00         1\n",
      "           7       0.00      0.00      0.00         2\n",
      "           8       0.00      0.00      0.00         3\n",
      "           9       0.28      0.35      0.31      7574\n",
      "          11       0.00      0.00      0.00         1\n",
      "          12       0.00      0.00      0.00         0\n",
      "          13       0.00      0.00      0.00        12\n",
      "          14       0.38      0.33      0.35      2489\n",
      "          15       0.00      0.00      0.00         0\n",
      "          18       0.43      0.53      0.47     12745\n",
      "          19       0.05      0.01      0.01       245\n",
      "          20       0.00      0.00      0.00         1\n",
      "          21       0.00      0.00      0.00         1\n",
      "          22       0.00      0.00      0.00         8\n",
      "          23       0.00      0.00      0.00         1\n",
      "          24       0.10      0.04      0.05       108\n",
      "          25       0.37      0.35      0.36      7635\n",
      "          26       0.00      0.00      0.00       101\n",
      "          27       0.00      0.00      0.00         1\n",
      "          28       0.00      0.00      0.00         1\n",
      "          29       0.00      0.00      0.00         4\n",
      "          30       0.00      0.00      0.00         2\n",
      "          31       0.00      0.00      0.00         4\n",
      "          32       0.00      0.00      0.00        49\n",
      "          33       0.31      0.11      0.16      1388\n",
      "          34       0.00      0.00      0.00         1\n",
      "          35       0.00      0.00      0.00         2\n",
      "          37       0.00      0.00      0.00         5\n",
      "          38       0.00      0.00      0.00         1\n",
      "          39       0.33      0.10      0.15        10\n",
      "          40       0.00      0.00      0.00         2\n",
      "          41       0.09      0.03      0.05      1088\n",
      "          42       0.10      0.02      0.03        58\n",
      "          43       0.17      0.02      0.03        65\n",
      "          44       0.00      0.00      0.00        25\n",
      "          45       0.00      0.00      0.00        28\n",
      "          46       0.00      0.00      0.00         2\n",
      "          47       0.00      0.00      0.00         2\n",
      "          49       0.00      0.00      0.00         1\n",
      "          50       0.20      0.04      0.07       561\n",
      "          51       0.00      0.00      0.00         0\n",
      "          52       0.61      0.22      0.33        49\n",
      "          53       0.25      0.08      0.12      1109\n",
      "          54       0.00      0.00      0.00         1\n",
      "          55       0.00      0.00      0.00        30\n",
      "          56       0.00      0.00      0.00         1\n",
      "          58       0.00      0.00      0.00        24\n",
      "          59       0.00      0.00      0.00        10\n",
      "          60       0.10      0.03      0.05      1000\n",
      "          61       0.00      0.00      0.00         3\n",
      "          62       0.00      0.00      0.00         0\n",
      "          63       0.00      0.00      0.00         3\n",
      "          64       0.00      0.00      0.00         9\n",
      "          65       0.25      0.12      0.17         8\n",
      "\n",
      "    accuracy                           0.36     36658\n",
      "   macro avg       0.08      0.04      0.05     36658\n",
      "weighted avg       0.34      0.36      0.34     36658\n",
      "\n"
     ]
    },
    {
     "name": "stderr",
     "output_type": "stream",
     "text": [
      "C:\\Users\\Daniel Ramirez\\Anaconda3\\lib\\site-packages\\sklearn\\metrics\\classification.py:1437: UndefinedMetricWarning: Precision and F-score are ill-defined and being set to 0.0 in labels with no predicted samples.\n",
      "  'precision', 'predicted', average, warn_for)\n",
      "C:\\Users\\Daniel Ramirez\\Anaconda3\\lib\\site-packages\\sklearn\\metrics\\classification.py:1439: UndefinedMetricWarning: Recall and F-score are ill-defined and being set to 0.0 in labels with no true samples.\n",
      "  'recall', 'true', average, warn_for)\n"
     ]
    }
   ],
   "source": [
    "#prediction = rfc.predict(X_test)\n",
    "print(confusion_matrix(y_test, prediction))\n",
    "print('\\n')\n",
    "print(classification_report(y_test, prediction))"
   ]
  },
  {
   "cell_type": "code",
   "execution_count": 114,
   "metadata": {
    "colab": {},
    "colab_type": "code",
    "id": "wTJXLMdDaSFv"
   },
   "outputs": [],
   "source": [
    "# Create the parameter grid to optimize\n",
    "param_frst = [\n",
    "    {\n",
    "        'criterion': ['gini', 'entropy'],\n",
    "        'bootstrap': [True, False],\n",
    "        'n_estimators': [50, 100], \n",
    "        'max_depth': [2, 5],\n",
    "        'max_leaf_nodes': [10, 20]\n",
    "    }\n",
    "  ]"
   ]
  },
  {
   "cell_type": "code",
   "execution_count": 115,
   "metadata": {
    "colab": {},
    "colab_type": "code",
    "id": "_236IZ_gagcj"
   },
   "outputs": [
    {
     "name": "stderr",
     "output_type": "stream",
     "text": [
      "C:\\Users\\Daniel Ramirez\\Anaconda3\\lib\\site-packages\\sklearn\\model_selection\\_split.py:657: Warning: The least populated class in y has only 1 members, which is too few. The minimum number of members in any class cannot be less than n_splits=3.\n",
      "  % (min_groups, self.n_splits)), Warning)\n"
     ]
    }
   ],
   "source": [
    "# Escoger hiperparametros para modelo Random Forest\n",
    "from sklearn.model_selection import GridSearchCV\n",
    "#param_frst = [{\"n_estimators\": [100,500,750,1000], \"criterion\": [\"gini\", \"entropy\"]}]\n",
    "grid_search_frst = GridSearchCV(estimator=rfc,\n",
    "                          param_grid=param_frst,\n",
    "                          scoring = 'accuracy',\n",
    "                          cv=3,\n",
    "                          n_jobs=-1)\n",
    "grid_search_frst = grid_search_frst.fit(X_train, y_train)"
   ]
  },
  {
   "cell_type": "code",
   "execution_count": 116,
   "metadata": {
    "colab": {
     "base_uri": "https://localhost:8080/",
     "height": 33
    },
    "colab_type": "code",
    "executionInfo": {
     "elapsed": 449,
     "status": "ok",
     "timestamp": 1567284967154,
     "user": {
      "displayName": "Daniel Ramirez Rios",
      "photoUrl": "https://lh3.googleusercontent.com/a-/AAuE7mC957dFF_San4_44Jn9J7Gui5l2Gvxth2iEqWrKZw=s64",
      "userId": "16809089177157616231"
     },
     "user_tz": 420
    },
    "id": "hkrmFFRIankE",
    "outputId": "d7a7bb8c-beb3-4267-af17-6de69ee00f12"
   },
   "outputs": [
    {
     "data": {
      "text/plain": [
       "0.3753828886758482"
      ]
     },
     "execution_count": 116,
     "metadata": {},
     "output_type": "execute_result"
    }
   ],
   "source": [
    "# Calcular accuracy para Random Forest \n",
    "best_acc_frst = grid_search_frst.best_score_\n",
    "best_acc_frst"
   ]
  },
  {
   "cell_type": "code",
   "execution_count": 117,
   "metadata": {
    "colab": {
     "base_uri": "https://localhost:8080/",
     "height": 100
    },
    "colab_type": "code",
    "executionInfo": {
     "elapsed": 490,
     "status": "ok",
     "timestamp": 1567284969252,
     "user": {
      "displayName": "Daniel Ramirez Rios",
      "photoUrl": "https://lh3.googleusercontent.com/a-/AAuE7mC957dFF_San4_44Jn9J7Gui5l2Gvxth2iEqWrKZw=s64",
      "userId": "16809089177157616231"
     },
     "user_tz": 420
    },
    "id": "IljXOWqgauFy",
    "outputId": "2be7f536-9810-4171-b71e-8b72b78a289b"
   },
   "outputs": [
    {
     "data": {
      "text/plain": [
       "{'bootstrap': True,\n",
       " 'criterion': 'gini',\n",
       " 'max_depth': 5,\n",
       " 'max_leaf_nodes': 20,\n",
       " 'n_estimators': 100}"
      ]
     },
     "execution_count": 117,
     "metadata": {},
     "output_type": "execute_result"
    }
   ],
   "source": [
    "# Calcular los mejores parametros para el modelo Random Forest\n",
    "best_params_frst = grid_search_frst.best_params_\n",
    "best_params_frst"
   ]
  },
  {
   "cell_type": "code",
   "execution_count": 118,
   "metadata": {
    "colab": {
     "base_uri": "https://localhost:8080/",
     "height": 134
    },
    "colab_type": "code",
    "executionInfo": {
     "elapsed": 1568,
     "status": "ok",
     "timestamp": 1567284973844,
     "user": {
      "displayName": "Daniel Ramirez Rios",
      "photoUrl": "https://lh3.googleusercontent.com/a-/AAuE7mC957dFF_San4_44Jn9J7Gui5l2Gvxth2iEqWrKZw=s64",
      "userId": "16809089177157616231"
     },
     "user_tz": 420
    },
    "id": "lQsARIXHbsN1",
    "outputId": "9136488a-d13b-4112-f35a-06557fad2ba5"
   },
   "outputs": [
    {
     "data": {
      "text/plain": [
       "RandomForestClassifier(bootstrap=True, class_weight=None, criterion='gini',\n",
       "                       max_depth=5, max_features='auto', max_leaf_nodes=20,\n",
       "                       min_impurity_decrease=0.0, min_impurity_split=None,\n",
       "                       min_samples_leaf=1, min_samples_split=2,\n",
       "                       min_weight_fraction_leaf=0.0, n_estimators=100,\n",
       "                       n_jobs=None, oob_score=False, random_state=None,\n",
       "                       verbose=0, warm_start=False)"
      ]
     },
     "execution_count": 118,
     "metadata": {},
     "output_type": "execute_result"
    }
   ],
   "source": [
    "rfc = RandomForestClassifier(bootstrap= True,\n",
    " criterion= 'gini',\n",
    " max_depth= 5,\n",
    " max_leaf_nodes = 20,\n",
    " n_estimators= 100)\n",
    "rfc.fit(X_train, y_train)"
   ]
  },
  {
   "cell_type": "code",
   "execution_count": 119,
   "metadata": {
    "colab": {},
    "colab_type": "code",
    "id": "cAE8xQ4Kb5fd"
   },
   "outputs": [],
   "source": [
    "prediction = rfc.predict(X_test)"
   ]
  },
  {
   "cell_type": "code",
   "execution_count": 120,
   "metadata": {
    "colab": {
     "base_uri": "https://localhost:8080/",
     "height": 288
    },
    "colab_type": "code",
    "executionInfo": {
     "elapsed": 582,
     "status": "ok",
     "timestamp": 1567284978573,
     "user": {
      "displayName": "Daniel Ramirez Rios",
      "photoUrl": "https://lh3.googleusercontent.com/a-/AAuE7mC957dFF_San4_44Jn9J7Gui5l2Gvxth2iEqWrKZw=s64",
      "userId": "16809089177157616231"
     },
     "user_tz": 420
    },
    "id": "2muqYFoab5hs",
    "outputId": "8932f847-4925-4e56-c55c-e58f3cbd1885"
   },
   "outputs": [
    {
     "name": "stdout",
     "output_type": "stream",
     "text": [
      "[[0 0 0 ... 0 0 0]\n",
      " [0 0 0 ... 0 0 0]\n",
      " [0 0 0 ... 0 0 0]\n",
      " ...\n",
      " [0 0 0 ... 0 0 0]\n",
      " [0 0 0 ... 0 0 0]\n",
      " [0 0 0 ... 0 0 0]]\n",
      "\n",
      "\n",
      "              precision    recall  f1-score   support\n",
      "\n",
      "           2       0.00      0.00      0.00        17\n",
      "           3       0.00      0.00      0.00        10\n",
      "           4       0.00      0.00      0.00         1\n",
      "           5       0.00      0.00      0.00       156\n",
      "           6       0.00      0.00      0.00         1\n",
      "           7       0.00      0.00      0.00         2\n",
      "           8       0.00      0.00      0.00         3\n",
      "           9       0.35      0.08      0.14      7574\n",
      "          11       0.00      0.00      0.00         1\n",
      "          13       0.00      0.00      0.00        12\n",
      "          14       0.41      0.19      0.26      2489\n",
      "          18       0.37      0.91      0.53     12745\n",
      "          19       0.00      0.00      0.00       245\n",
      "          20       0.00      0.00      0.00         1\n",
      "          21       0.00      0.00      0.00         1\n",
      "          22       0.00      0.00      0.00         8\n",
      "          23       0.00      0.00      0.00         1\n",
      "          24       0.00      0.00      0.00       108\n",
      "          25       0.46      0.15      0.22      7635\n",
      "          26       0.00      0.00      0.00       101\n",
      "          27       0.00      0.00      0.00         1\n",
      "          28       0.00      0.00      0.00         1\n",
      "          29       0.00      0.00      0.00         4\n",
      "          30       0.00      0.00      0.00         2\n",
      "          31       0.00      0.00      0.00         4\n",
      "          32       0.00      0.00      0.00        49\n",
      "          33       0.00      0.00      0.00      1388\n",
      "          34       0.00      0.00      0.00         1\n",
      "          35       0.00      0.00      0.00         2\n",
      "          37       0.00      0.00      0.00         5\n",
      "          38       0.00      0.00      0.00         1\n",
      "          39       0.00      0.00      0.00        10\n",
      "          40       0.00      0.00      0.00         2\n",
      "          41       0.00      0.00      0.00      1088\n",
      "          42       0.00      0.00      0.00        58\n",
      "          43       0.00      0.00      0.00        65\n",
      "          44       0.00      0.00      0.00        25\n",
      "          45       0.00      0.00      0.00        28\n",
      "          46       0.00      0.00      0.00         2\n",
      "          47       0.00      0.00      0.00         2\n",
      "          49       0.00      0.00      0.00         1\n",
      "          50       0.00      0.00      0.00       561\n",
      "          52       0.00      0.00      0.00        49\n",
      "          53       0.00      0.00      0.00      1109\n",
      "          54       0.00      0.00      0.00         1\n",
      "          55       0.00      0.00      0.00        30\n",
      "          56       0.00      0.00      0.00         1\n",
      "          58       0.00      0.00      0.00        24\n",
      "          59       0.00      0.00      0.00        10\n",
      "          60       0.00      0.00      0.00      1000\n",
      "          61       0.00      0.00      0.00         3\n",
      "          63       0.00      0.00      0.00         3\n",
      "          64       0.00      0.00      0.00         9\n",
      "          65       0.00      0.00      0.00         8\n",
      "\n",
      "    accuracy                           0.38     36658\n",
      "   macro avg       0.03      0.02      0.02     36658\n",
      "weighted avg       0.32      0.38      0.27     36658\n",
      "\n"
     ]
    },
    {
     "name": "stderr",
     "output_type": "stream",
     "text": [
      "C:\\Users\\Daniel Ramirez\\Anaconda3\\lib\\site-packages\\sklearn\\metrics\\classification.py:1437: UndefinedMetricWarning: Precision and F-score are ill-defined and being set to 0.0 in labels with no predicted samples.\n",
      "  'precision', 'predicted', average, warn_for)\n"
     ]
    }
   ],
   "source": [
    "#prediction = rfc.predict(X_test)\n",
    "print(confusion_matrix(y_test, prediction))\n",
    "print('\\n')\n",
    "print(classification_report(y_test, prediction))"
   ]
  },
  {
   "cell_type": "code",
   "execution_count": null,
   "metadata": {
    "colab": {},
    "colab_type": "code",
    "id": "bUJkpSJgcE2t"
   },
   "outputs": [],
   "source": []
  },
  {
   "cell_type": "markdown",
   "metadata": {
    "colab_type": "text",
    "id": "ULVlFWuzeCSa"
   },
   "source": [
    "Naive Bayes"
   ]
  },
  {
   "cell_type": "code",
   "execution_count": 91,
   "metadata": {
    "colab": {},
    "colab_type": "code",
    "id": "FM-b5fuyeDTE"
   },
   "outputs": [],
   "source": [
    "# Iniciar y ajustar el modelo de Naive Bayes al dataset de entrenamiento.\n",
    "from sklearn.naive_bayes import GaussianNB\n",
    "naive_b = GaussianNB()\n",
    "naive_b.fit(X_train, y_train)\n",
    "\n",
    "#Predicción\n",
    "y_naive = naive_b.predict(X_test)"
   ]
  },
  {
   "cell_type": "code",
   "execution_count": 92,
   "metadata": {
    "colab": {
     "base_uri": "https://localhost:8080/",
     "height": 300
    },
    "colab_type": "code",
    "executionInfo": {
     "elapsed": 782,
     "status": "ok",
     "timestamp": 1567285077145,
     "user": {
      "displayName": "Daniel Ramirez Rios",
      "photoUrl": "https://lh3.googleusercontent.com/a-/AAuE7mC957dFF_San4_44Jn9J7Gui5l2Gvxth2iEqWrKZw=s64",
      "userId": "16809089177157616231"
     },
     "user_tz": 420
    },
    "id": "kXEa8qZneD9H",
    "outputId": "b62502b5-f932-4488-e078-978be6289e2c"
   },
   "outputs": [
    {
     "data": {
      "text/plain": [
       "Text(0.5, 1.05, 'Confusion matrix para Naive Bayes')"
      ]
     },
     "execution_count": 92,
     "metadata": {},
     "output_type": "execute_result"
    },
    {
     "data": {
      "image/png": "[encoded data removed]",
      "text/plain": [
       "<Figure size 432x288 with 2 Axes>"
      ]
     },
     "metadata": {
      "needs_background": "light"
     },
     "output_type": "display_data"
    }
   ],
   "source": [
    "#Confusion matrix\n",
    "from sklearn.metrics import confusion_matrix\n",
    "naive_cm = confusion_matrix(y_test, y_naive)\n",
    "sns.heatmap(naive_cm,annot=True,fmt='3.0f',cmap=\"Blues\")\n",
    "plt.title('Confusion matrix para Naive Bayes', y=1.05, size=15)"
   ]
  },
  {
   "cell_type": "code",
   "execution_count": 93,
   "metadata": {
    "colab": {
     "base_uri": "https://localhost:8080/",
     "height": 167
    },
    "colab_type": "code",
    "executionInfo": {
     "elapsed": 1018,
     "status": "ok",
     "timestamp": 1567285085830,
     "user": {
      "displayName": "Daniel Ramirez Rios",
      "photoUrl": "https://lh3.googleusercontent.com/a-/AAuE7mC957dFF_San4_44Jn9J7Gui5l2Gvxth2iEqWrKZw=s64",
      "userId": "16809089177157616231"
     },
     "user_tz": 420
    },
    "id": "f7V7J4-ceGFL",
    "outputId": "022d97c3-827c-4520-b47a-9557ef77834c"
   },
   "outputs": [
    {
     "name": "stdout",
     "output_type": "stream",
     "text": [
      "              precision    recall  f1-score   support\n",
      "\n",
      "           0       1.00      1.00      1.00     43579\n",
      "           1       1.00      1.00      1.00     11408\n",
      "\n",
      "    accuracy                           1.00     54987\n",
      "   macro avg       1.00      1.00      1.00     54987\n",
      "weighted avg       1.00      1.00      1.00     54987\n",
      "\n"
     ]
    }
   ],
   "source": [
    "# Reporte de Clasificación\n",
    "from sklearn.metrics import classification_report\n",
    "naive_cr = classification_report(y_test, y_naive)\n",
    "print(naive_cr)"
   ]
  },
  {
   "cell_type": "code",
   "execution_count": null,
   "metadata": {
    "colab": {},
    "colab_type": "code",
    "id": "TsWMlDPreII4"
   },
   "outputs": [],
   "source": []
  },
  {
   "cell_type": "markdown",
   "metadata": {
    "colab_type": "text",
    "id": "xIeAbScoeOtN"
   },
   "source": [
    "Regresion logistica"
   ]
  },
  {
   "cell_type": "code",
   "execution_count": null,
   "metadata": {
    "colab": {
     "base_uri": "https://localhost:8080/",
     "height": 70
    },
    "colab_type": "code",
    "executionInfo": {
     "elapsed": 2244,
     "status": "ok",
     "timestamp": 1567285122026,
     "user": {
      "displayName": "Daniel Ramirez Rios",
      "photoUrl": "https://lh3.googleusercontent.com/a-/AAuE7mC957dFF_San4_44Jn9J7Gui5l2Gvxth2iEqWrKZw=s64",
      "userId": "16809089177157616231"
     },
     "user_tz": 420
    },
    "id": "KX16xBV6eQSc",
    "outputId": "2c97b009-8fc4-479c-ac9f-6890aec7b425"
   },
   "outputs": [],
   "source": [
    "# iniciar y ajustar el modelo de regresión logistica en el dataset de entrenamiento.\n",
    "\n",
    "# primero importamos la libreria de Regresion Logistica de SkLearn\n",
    "from sklearn.linear_model import LogisticRegression\n",
    "log_rg = LogisticRegression()\n",
    "log_rg.fit(X_train, y_train)\n",
    "\n",
    "# Predicción\n",
    "y_log_rg = log_rg.predict(X_test)"
   ]
  },
  {
   "cell_type": "code",
   "execution_count": null,
   "metadata": {
    "colab": {
     "base_uri": "https://localhost:8080/",
     "height": 300
    },
    "colab_type": "code",
    "executionInfo": {
     "elapsed": 2290,
     "status": "ok",
     "timestamp": 1567285129337,
     "user": {
      "displayName": "Daniel Ramirez Rios",
      "photoUrl": "https://lh3.googleusercontent.com/a-/AAuE7mC957dFF_San4_44Jn9J7Gui5l2Gvxth2iEqWrKZw=s64",
      "userId": "16809089177157616231"
     },
     "user_tz": 420
    },
    "id": "ea2n_TTZeQrZ",
    "outputId": "5066edc3-0bd1-4502-b754-9a08b168415d"
   },
   "outputs": [],
   "source": [
    "# Confusion matrix\n",
    "from sklearn.metrics import confusion_matrix\n",
    "cm = confusion_matrix(y_test, y_log_rg)\n",
    "sns.heatmap(cm,annot=True,fmt='3.0f',cmap=\"Greens\")\n",
    "plt.title('Confusion matrix para Regresión Logistica', y=1.05, size=15)"
   ]
  },
  {
   "cell_type": "code",
   "execution_count": null,
   "metadata": {
    "colab": {
     "base_uri": "https://localhost:8080/",
     "height": 167
    },
    "colab_type": "code",
    "executionInfo": {
     "elapsed": 581,
     "status": "ok",
     "timestamp": 1567285136352,
     "user": {
      "displayName": "Daniel Ramirez Rios",
      "photoUrl": "https://lh3.googleusercontent.com/a-/AAuE7mC957dFF_San4_44Jn9J7Gui5l2Gvxth2iEqWrKZw=s64",
      "userId": "16809089177157616231"
     },
     "user_tz": 420
    },
    "id": "Cm7NuLB3eScy",
    "outputId": "735c935f-2de5-494b-dd61-b37d0911f058"
   },
   "outputs": [],
   "source": [
    "# Reporte de Clasificación\n",
    "from sklearn.metrics import classification_report\n",
    "cr = classification_report(y_test, y_log_rg)\n",
    "print(cr)"
   ]
  },
  {
   "cell_type": "code",
   "execution_count": null,
   "metadata": {
    "colab": {
     "base_uri": "https://localhost:8080/",
     "height": 1000
    },
    "colab_type": "code",
    "executionInfo": {
     "elapsed": 185654,
     "status": "ok",
     "timestamp": 1567285625413,
     "user": {
      "displayName": "Daniel Ramirez Rios",
      "photoUrl": "https://lh3.googleusercontent.com/a-/AAuE7mC957dFF_San4_44Jn9J7Gui5l2Gvxth2iEqWrKZw=s64",
      "userId": "16809089177157616231"
     },
     "user_tz": 420
    },
    "id": "PkQddJqveUlJ",
    "outputId": "042392bb-4bf6-4735-f652-655f44c62ff0"
   },
   "outputs": [],
   "source": [
    "# Grid search cross validation\n",
    "from sklearn.model_selection import GridSearchCV\n",
    "from sklearn.linear_model import LogisticRegression\n",
    "grid={\"C\":np.logspace(-3,3,7), \"penalty\":[\"l1\",\"l2\"]}# l1 lasso l2 ridge\n",
    "logreg=LogisticRegression()\n",
    "logreg_cv=GridSearchCV(logreg,grid,cv=10)\n",
    "logreg_cv.fit(X_train,y_train)\n",
    "\n",
    "print(\"tuned hpyerparameters :(best parameters) \",logreg_cv.best_params_)\n",
    "print(\"accuracy :\",logreg_cv.best_score_)"
   ]
  },
  {
   "cell_type": "code",
   "execution_count": null,
   "metadata": {
    "colab": {},
    "colab_type": "code",
    "id": "8gcyqi69ewog"
   },
   "outputs": [],
   "source": []
  }
 ],
 "metadata": {
  "colab": {
   "name": "HMO Faltas administrativas.ipynb",
   "provenance": [],
   "version": "0.3.2"
  },
  "kernelspec": {
   "display_name": "Python 3",
   "language": "python",
   "name": "python3"
  },
  "language_info": {
   "codemirror_mode": {
    "name": "ipython",
    "version": 3
   },
   "file_extension": ".py",
   "mimetype": "text/x-python",
   "name": "python",
   "nbconvert_exporter": "python",
   "pygments_lexer": "ipython3",
   "version": "3.5.2"
  }
 },
 "nbformat": 4,
 "nbformat_minor": 1
}
