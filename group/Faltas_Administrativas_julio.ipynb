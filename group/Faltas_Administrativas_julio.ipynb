{
 "cells": [
  {
   "cell_type": "markdown",
   "metadata": {},
   "source": [
    "# Faltas Administrativas"
   ]
  },
  {
   "cell_type": "markdown",
   "metadata": {},
   "source": [
    "## imports"
   ]
  },
  {
   "cell_type": "code",
   "execution_count": 84,
   "metadata": {},
   "outputs": [],
   "source": [
    "import pandas as pd\n",
    "import numpy as np\n",
    "import matplotlib.pyplot as plt\n",
    "import seaborn as sns\n",
    "from sklearn.model_selection import train_test_split\n",
    "from sklearn.metrics import confusion_matrix, classification_report\n",
    "from sklearn.linear_model import LogisticRegression\n",
    "from sklearn.model_selection import GridSearchCV\n",
    "\n",
    "from warnings import simplefilter\n",
    "simplefilter(action=\"ignore\", category=FutureWarning)\n",
    "%matplotlib inline"
   ]
  },
  {
   "cell_type": "markdown",
   "metadata": {},
   "source": [
    "## Leer archivo"
   ]
  },
  {
   "cell_type": "code",
   "execution_count": 59,
   "metadata": {},
   "outputs": [
    {
     "data": {
      "text/html": [
       "<div>\n",
       "<style scoped>\n",
       "    .dataframe tbody tr th:only-of-type {\n",
       "        vertical-align: middle;\n",
       "    }\n",
       "\n",
       "    .dataframe tbody tr th {\n",
       "        vertical-align: top;\n",
       "    }\n",
       "\n",
       "    .dataframe thead th {\n",
       "        text-align: right;\n",
       "    }\n",
       "</style>\n",
       "<table border=\"1\" class=\"dataframe\">\n",
       "  <thead>\n",
       "    <tr style=\"text-align: right;\">\n",
       "      <th></th>\n",
       "      <th>fecha_presentacion</th>\n",
       "      <th>colonia_delito</th>\n",
       "      <th>motivo_remision</th>\n",
       "      <th>colonia_detenido</th>\n",
       "    </tr>\n",
       "  </thead>\n",
       "  <tbody>\n",
       "    <tr>\n",
       "      <th>0</th>\n",
       "      <td>01/01/2015 00:39</td>\n",
       "      <td>ALVARO OBREGON (N)</td>\n",
       "      <td>CAUSAR O PROVOCAR ESCANDALO EN LUGARES PUBLICO...</td>\n",
       "      <td>SAHUARO AMPLIACION</td>\n",
       "    </tr>\n",
       "    <tr>\n",
       "      <th>1</th>\n",
       "      <td>01/01/2015 00:39</td>\n",
       "      <td>PALO VERDE INDEUR</td>\n",
       "      <td>CAUSAR O PROVOCAR ESCANDALO EN LUGARES PUBLICO...</td>\n",
       "      <td>PALO VERDE INDEUR</td>\n",
       "    </tr>\n",
       "  </tbody>\n",
       "</table>\n",
       "</div>"
      ],
      "text/plain": [
       "  fecha_presentacion      colonia_delito  \\\n",
       "0   01/01/2015 00:39  ALVARO OBREGON (N)   \n",
       "1   01/01/2015 00:39   PALO VERDE INDEUR   \n",
       "\n",
       "                                     motivo_remision    colonia_detenido  \n",
       "0  CAUSAR O PROVOCAR ESCANDALO EN LUGARES PUBLICO...  SAHUARO AMPLIACION  \n",
       "1  CAUSAR O PROVOCAR ESCANDALO EN LUGARES PUBLICO...   PALO VERDE INDEUR  "
      ]
     },
     "execution_count": 59,
     "metadata": {},
     "output_type": "execute_result"
    }
   ],
   "source": [
    "temp = pd.read_csv(\"data/hmofaltasadministrativas.csv\", encoding=\"latin1\")\n",
    "temp.drop([\"zona\",\"peso\",\"estatura\",\"nacimiento\",\"nacimiento\",\"estatura\",\"sexo\"], axis=1, inplace=True)\n",
    "df = temp.copy()\n",
    "df.head(2)"
   ]
  },
  {
   "cell_type": "markdown",
   "metadata": {},
   "source": [
    " ## Dataset base"
   ]
  },
  {
   "cell_type": "code",
   "execution_count": 60,
   "metadata": {},
   "outputs": [
    {
     "data": {
      "text/html": [
       "<div>\n",
       "<style scoped>\n",
       "    .dataframe tbody tr th:only-of-type {\n",
       "        vertical-align: middle;\n",
       "    }\n",
       "\n",
       "    .dataframe tbody tr th {\n",
       "        vertical-align: top;\n",
       "    }\n",
       "\n",
       "    .dataframe thead th {\n",
       "        text-align: right;\n",
       "    }\n",
       "</style>\n",
       "<table border=\"1\" class=\"dataframe\">\n",
       "  <thead>\n",
       "    <tr style=\"text-align: right;\">\n",
       "      <th></th>\n",
       "      <th>colonia_delito</th>\n",
       "      <th>motivo_remision</th>\n",
       "      <th>colonia_detenido</th>\n",
       "      <th>infractor_local</th>\n",
       "      <th>dia_semana</th>\n",
       "    </tr>\n",
       "  </thead>\n",
       "  <tbody>\n",
       "    <tr>\n",
       "      <th>0</th>\n",
       "      <td>ALVARO OBREGON (N)</td>\n",
       "      <td>CAUSAR O PROVOCAR ESCANDALO EN LUGARES PUBLICO...</td>\n",
       "      <td>SAHUARO AMPLIACION</td>\n",
       "      <td>0</td>\n",
       "      <td>3</td>\n",
       "    </tr>\n",
       "    <tr>\n",
       "      <th>1</th>\n",
       "      <td>PALO VERDE INDEUR</td>\n",
       "      <td>CAUSAR O PROVOCAR ESCANDALO EN LUGARES PUBLICO...</td>\n",
       "      <td>PALO VERDE INDEUR</td>\n",
       "      <td>1</td>\n",
       "      <td>3</td>\n",
       "    </tr>\n",
       "  </tbody>\n",
       "</table>\n",
       "</div>"
      ],
      "text/plain": [
       "       colonia_delito                                    motivo_remision  \\\n",
       "0  ALVARO OBREGON (N)  CAUSAR O PROVOCAR ESCANDALO EN LUGARES PUBLICO...   \n",
       "1   PALO VERDE INDEUR  CAUSAR O PROVOCAR ESCANDALO EN LUGARES PUBLICO...   \n",
       "\n",
       "     colonia_detenido  infractor_local  dia_semana  \n",
       "0  SAHUARO AMPLIACION                0           3  \n",
       "1   PALO VERDE INDEUR                1           3  "
      ]
     },
     "execution_count": 60,
     "metadata": {},
     "output_type": "execute_result"
    }
   ],
   "source": [
    "temp = df[\"colonia_delito\"] == df[\"colonia_detenido\"]\n",
    "one_or_zero = lambda x: 1 if x == True else 0\n",
    "df[\"infractor_local\"] = list(map(one_or_zero, temp))\n",
    "df[\"dia_semana\"] = pd.to_datetime(df[\"fecha_presentacion\"]).apply(lambda x: x.weekday())\n",
    "df.drop([\"fecha_presentacion\"], axis=1, inplace=True)\n",
    "df.head(2)"
   ]
  },
  {
   "cell_type": "code",
   "execution_count": 61,
   "metadata": {},
   "outputs": [
    {
     "name": "stdout",
     "output_type": "stream",
     "text": [
      "<class 'pandas.core.frame.DataFrame'>\n",
      "RangeIndex: 122192 entries, 0 to 122191\n",
      "Data columns (total 5 columns):\n",
      "colonia_delito      122192 non-null object\n",
      "motivo_remision     122192 non-null object\n",
      "colonia_detenido    122192 non-null object\n",
      "infractor_local     122192 non-null int64\n",
      "dia_semana          122192 non-null int64\n",
      "dtypes: int64(2), object(3)\n",
      "memory usage: 4.7+ MB\n"
     ]
    }
   ],
   "source": [
    "df.info()"
   ]
  },
  {
   "cell_type": "markdown",
   "metadata": {},
   "source": [
    "## Grafica de barra locales Vs no locales (totales)"
   ]
  },
  {
   "cell_type": "code",
   "execution_count": 62,
   "metadata": {},
   "outputs": [
    {
     "data": {
      "image/png": "[encoded data removed]",
      "text/plain": [
       "<Figure size 432x432 with 1 Axes>"
      ]
     },
     "metadata": {
      "needs_background": "light"
     },
     "output_type": "display_data"
    }
   ],
   "source": [
    "plt.figure(figsize=(6,6))\n",
    "temp = df[\"infractor_local\"].value_counts()\n",
    "x = list(temp.index)\n",
    "y = temp.values\n",
    "\n",
    "total = np.sum(temp.values)\n",
    "step = (total * 0.5)/100\n",
    "\n",
    "p = sns.barplot(x=\"infractor_local\", y=\"total\", data=pd.DataFrame({\"infractor_local\": x , \"total\": y}));\n",
    "p.set_title(\"Infractores Locales vs No locales\",fontsize=15)\n",
    "p.set_xlabel(\"infractor local\", fontsize=12)\n",
    "p.set_ylabel(\"porcentaje\", fontsize=12)\n",
    "\n",
    "for i in zip(x,y):\n",
    "    p.text(i[0]-.1,i[1]+step,i[1],fontsize=15, color=\"black\")"
   ]
  },
  {
   "cell_type": "markdown",
   "metadata": {},
   "source": [
    "## Grafica de barra locales Vs no locales (porcetajes)"
   ]
  },
  {
   "cell_type": "code",
   "execution_count": 63,
   "metadata": {},
   "outputs": [
    {
     "data": {
      "image/png": "[encoded data removed]",
      "text/plain": [
       "<Figure size 432x432 with 1 Axes>"
      ]
     },
     "metadata": {
      "needs_background": "light"
     },
     "output_type": "display_data"
    }
   ],
   "source": [
    "plt.figure(figsize=(6,6))\n",
    "temp = df[\"infractor_local\"].value_counts()\n",
    "x = list(temp.index)\n",
    "total = np.sum(temp.values)\n",
    "y = np.around((temp.values * 100)/total,2)\n",
    "\n",
    "step = (100 * 0.5)/100\n",
    "\n",
    "p = sns.barplot(x=\"infractor_local\", y=\"porcentaje\", data=pd.DataFrame({\"infractor_local\": x , \"porcentaje\": y}));\n",
    "p.set_title(\"Infractores Locales vs No locales\",fontsize=15)\n",
    "p.set_xlabel(\"infractor local\", fontsize=12)\n",
    "p.set_ylabel(\"porcentaje\", fontsize=12)\n",
    "\n",
    "for i in zip(x,y):\n",
    "    p.text(i[0]-0.1,i[1]+step,str(i[1])+\" %\",fontsize=15, color=\"black\")\n",
    "    "
   ]
  },
  {
   "cell_type": "markdown",
   "metadata": {},
   "source": [
    "## Crear datos dummy"
   ]
  },
  {
   "cell_type": "code",
   "execution_count": 64,
   "metadata": {},
   "outputs": [
    {
     "name": "stdout",
     "output_type": "stream",
     "text": [
      "<class 'pandas.core.frame.DataFrame'>\n",
      "RangeIndex: 122192 entries, 0 to 122191\n",
      "Data columns (total 5 columns):\n",
      "colonia_delito      122192 non-null object\n",
      "motivo_remision     122192 non-null object\n",
      "colonia_detenido    122192 non-null object\n",
      "infractor_local     122192 non-null int64\n",
      "dia_semana          122192 non-null int64\n",
      "dtypes: int64(2), object(3)\n",
      "memory usage: 4.7+ MB\n"
     ]
    }
   ],
   "source": [
    "df.info()"
   ]
  },
  {
   "cell_type": "code",
   "execution_count": 65,
   "metadata": {},
   "outputs": [],
   "source": [
    "temp = df.copy()\n",
    "dummy_colonia_delito = pd.get_dummies(temp[\"colonia_delito\"])\n",
    "dummy_motivo_remision = pd.get_dummies(temp[\"motivo_remision\"])\n",
    "dummy_colonia_detenido = pd.get_dummies(temp[\"colonia_detenido\"])\n",
    "\n",
    "temp.drop([\"colonia_delito\",\"motivo_remision\",\"colonia_detenido\"], axis=1, inplace=True)"
   ]
  },
  {
   "cell_type": "code",
   "execution_count": 67,
   "metadata": {},
   "outputs": [],
   "source": [
    "df = pd.concat([temp, dummy_colonia_delito, dummy_motivo_remision,dummy_colonia_detenido], axis = 1)"
   ]
  },
  {
   "cell_type": "markdown",
   "metadata": {},
   "source": [
    "## Aplicar modelo"
   ]
  },
  {
   "cell_type": "code",
   "execution_count": 76,
   "metadata": {},
   "outputs": [
    {
     "data": {
      "text/plain": [
       "LogisticRegression(C=1.0, class_weight=None, dual=False, fit_intercept=True,\n",
       "                   intercept_scaling=1, l1_ratio=None, max_iter=100,\n",
       "                   multi_class='warn', n_jobs=None, penalty='l2',\n",
       "                   random_state=None, solver='warn', tol=0.0001, verbose=0,\n",
       "                   warm_start=False)"
      ]
     },
     "execution_count": 76,
     "metadata": {},
     "output_type": "execute_result"
    }
   ],
   "source": [
    "all_columns = df.columns.to_list()\n",
    "columns = list(filter(lambda x: x!='infractor_local',all_columns)) \n",
    "\n",
    "X = df[columns]\n",
    "y = df['infractor_local']\n",
    "\n",
    "X_train, X_test, y_train, y_test = train_test_split(X,y,test_size=0.2,random_state=9)\n",
    "\n",
    "model = LogisticRegression()\n",
    "model.fit(X_train, y_train)"
   ]
  },
  {
   "cell_type": "code",
   "execution_count": 87,
   "metadata": {},
   "outputs": [
    {
     "data": {
      "text/plain": [
       "0.7728221285649985"
      ]
     },
     "execution_count": 87,
     "metadata": {},
     "output_type": "execute_result"
    }
   ],
   "source": [
    "model.score(X_test, y_test)"
   ]
  },
  {
   "cell_type": "code",
   "execution_count": 82,
   "metadata": {},
   "outputs": [
    {
     "name": "stdout",
     "output_type": "stream",
     "text": [
      "              precision    recall  f1-score   support\n",
      "\n",
      "           0       0.81      0.90      0.85     17936\n",
      "           1       0.61      0.41      0.49      6503\n",
      "\n",
      "    accuracy                           0.77     24439\n",
      "   macro avg       0.71      0.66      0.67     24439\n",
      "weighted avg       0.76      0.77      0.76     24439\n",
      "\n"
     ]
    }
   ],
   "source": [
    "print(classification_report(y_test, y_predicted))"
   ]
  },
  {
   "cell_type": "markdown",
   "metadata": {},
   "source": [
    "## Cross validation"
   ]
  },
  {
   "cell_type": "code",
   "execution_count": 85,
   "metadata": {},
   "outputs": [
    {
     "name": "stdout",
     "output_type": "stream",
     "text": [
      "tuned hpyerparameters :(best parameters)  {'penalty': 'l1', 'C': 0.1}\n",
      "accuracy : 0.7720683764181151\n"
     ]
    }
   ],
   "source": [
    "grid={\"C\":np.logspace(-3,3,7), \"penalty\":[\"l1\",\"l2\"]}\n",
    "logreg=LogisticRegression()\n",
    "logreg_cv=GridSearchCV(logreg,grid,cv=10)\n",
    "logreg_cv.fit(X_train,y_train)\n",
    "\n",
    "print(\"tuned hpyerparameters :(best parameters) \",logreg_cv.best_params_)\n",
    "print(\"accuracy :\",logreg_cv.best_score_)"
   ]
  }
 ],
 "metadata": {
  "kernelspec": {
   "display_name": "Python 3",
   "language": "python",
   "name": "python3"
  },
  "language_info": {
   "codemirror_mode": {
    "name": "ipython",
    "version": 3
   },
   "file_extension": ".py",
   "mimetype": "text/x-python",
   "name": "python",
   "nbconvert_exporter": "python",
   "pygments_lexer": "ipython3",
   "version": "3.5.2"
  }
 },
 "nbformat": 4,
 "nbformat_minor": 2
}
