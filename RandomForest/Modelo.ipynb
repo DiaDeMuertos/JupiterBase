{
 "cells": [
  {
   "cell_type": "code",
   "execution_count": 93,
   "metadata": {},
   "outputs": [],
   "source": [
    "import pandas as pd\n",
    "import numpy as np\n",
    "import matplotlib.pyplot as plt\n",
    "from sklearn import linear_model\n",
    "from sklearn.datasets import load_digits\n",
    "from sklearn.model_selection import train_test_split\n",
    "from sklearn.ensemble import RandomForestClassifier\n",
    "from sklearn.metrics import confusion_matrix, classification_report\n",
    "import seaborn as sns\n",
    "from datetime import datetime\n",
    "%matplotlib inline"
   ]
  },
  {
   "cell_type": "code",
   "execution_count": 76,
   "metadata": {},
   "outputs": [
    {
     "data": {
      "text/html": [
       "<div>\n",
       "<style scoped>\n",
       "    .dataframe tbody tr th:only-of-type {\n",
       "        vertical-align: middle;\n",
       "    }\n",
       "\n",
       "    .dataframe tbody tr th {\n",
       "        vertical-align: top;\n",
       "    }\n",
       "\n",
       "    .dataframe thead th {\n",
       "        text-align: right;\n",
       "    }\n",
       "</style>\n",
       "<table border=\"1\" class=\"dataframe\">\n",
       "  <thead>\n",
       "    <tr style=\"text-align: right;\">\n",
       "      <th></th>\n",
       "      <th>TIPO</th>\n",
       "      <th>LUGAR</th>\n",
       "      <th>FECHA</th>\n",
       "      <th>CAUSA</th>\n",
       "      <th>COLONIA</th>\n",
       "      <th>ESTACION</th>\n",
       "      <th>TIEMPO TRANSCURRIDO</th>\n",
       "      <th>MES</th>\n",
       "    </tr>\n",
       "  </thead>\n",
       "  <tbody>\n",
       "    <tr>\n",
       "      <th>0</th>\n",
       "      <td>INCENDIO DE ZACATE Y BASURA</td>\n",
       "      <td>COMERCIO</td>\n",
       "      <td>2016-01-01 00:00:00</td>\n",
       "      <td>FUEGO DIRECTO</td>\n",
       "      <td>SIN COLONIA</td>\n",
       "      <td>2.0</td>\n",
       "      <td>9.0</td>\n",
       "      <td>1</td>\n",
       "    </tr>\n",
       "    <tr>\n",
       "      <th>1</th>\n",
       "      <td>INCENDIO DE ZACATE Y BASURA</td>\n",
       "      <td>CASA</td>\n",
       "      <td>2016-01-01 00:00:00</td>\n",
       "      <td>FUEGO DIRECTO</td>\n",
       "      <td>LOMAS DE MADRID</td>\n",
       "      <td>1.0</td>\n",
       "      <td>10.0</td>\n",
       "      <td>1</td>\n",
       "    </tr>\n",
       "  </tbody>\n",
       "</table>\n",
       "</div>"
      ],
      "text/plain": [
       "                          TIPO     LUGAR                FECHA          CAUSA  \\\n",
       "0  INCENDIO DE ZACATE Y BASURA  COMERCIO  2016-01-01 00:00:00  FUEGO DIRECTO   \n",
       "1  INCENDIO DE ZACATE Y BASURA      CASA  2016-01-01 00:00:00  FUEGO DIRECTO   \n",
       "\n",
       "           COLONIA  ESTACION  TIEMPO TRANSCURRIDO  MES  \n",
       "0      SIN COLONIA       2.0                  9.0    1  \n",
       "1  LOMAS DE MADRID       1.0                 10.0    1  "
      ]
     },
     "execution_count": 76,
     "metadata": {},
     "output_type": "execute_result"
    }
   ],
   "source": [
    "df = pd.read_csv('data/df2-final.csv', encoding='latin1')\n",
    "df.drop(['Unnamed: 0','SALIDA','LLEGADA','DIA DE SEMANA'],axis=1, inplace=True)\n",
    "\n",
    "df['TIPO'].fillna('OTROS', inplace=True)\n",
    "\n",
    "df['LUGAR'].replace('-','OTROS',inplace=True)\n",
    "df['LUGAR'].replace('ENDA','OTROS',inplace=True)\n",
    "df['LUGAR'].fillna('OTROS', inplace=True)\n",
    "\n",
    "df['CAUSA'].fillna('OTROS', inplace=True)\n",
    "\n",
    "df['COLONIA'].fillna('SIN COLONIA', inplace=True)\n",
    "\n",
    "df['ESTACION'].fillna(0, inplace=True)\n",
    "\n",
    "df.head(2)"
   ]
  },
  {
   "cell_type": "code",
   "execution_count": 77,
   "metadata": {},
   "outputs": [
    {
     "data": {
      "text/html": [
       "<div>\n",
       "<style scoped>\n",
       "    .dataframe tbody tr th:only-of-type {\n",
       "        vertical-align: middle;\n",
       "    }\n",
       "\n",
       "    .dataframe tbody tr th {\n",
       "        vertical-align: top;\n",
       "    }\n",
       "\n",
       "    .dataframe thead th {\n",
       "        text-align: right;\n",
       "    }\n",
       "</style>\n",
       "<table border=\"1\" class=\"dataframe\">\n",
       "  <thead>\n",
       "    <tr style=\"text-align: right;\">\n",
       "      <th></th>\n",
       "      <th>TIPO</th>\n",
       "      <th>LUGAR</th>\n",
       "      <th>FECHA</th>\n",
       "      <th>CAUSA</th>\n",
       "      <th>COLONIA</th>\n",
       "      <th>ESTACION</th>\n",
       "      <th>TIEMPO TRANSCURRIDO</th>\n",
       "      <th>MES</th>\n",
       "    </tr>\n",
       "  </thead>\n",
       "  <tbody>\n",
       "    <tr>\n",
       "      <th>0</th>\n",
       "      <td>INCENDIO DE ZACATE Y BASURA</td>\n",
       "      <td>COMERCIO</td>\n",
       "      <td>2016-01-01 00:00:00</td>\n",
       "      <td>FUEGO DIRECTO</td>\n",
       "      <td>SIN COLONIA</td>\n",
       "      <td>2.0</td>\n",
       "      <td>9.0</td>\n",
       "      <td>1</td>\n",
       "    </tr>\n",
       "    <tr>\n",
       "      <th>1</th>\n",
       "      <td>INCENDIO DE ZACATE Y BASURA</td>\n",
       "      <td>CASA</td>\n",
       "      <td>2016-01-01 00:00:00</td>\n",
       "      <td>FUEGO DIRECTO</td>\n",
       "      <td>LOMAS DE MADRID</td>\n",
       "      <td>1.0</td>\n",
       "      <td>10.0</td>\n",
       "      <td>1</td>\n",
       "    </tr>\n",
       "  </tbody>\n",
       "</table>\n",
       "</div>"
      ],
      "text/plain": [
       "                          TIPO     LUGAR                FECHA          CAUSA  \\\n",
       "0  INCENDIO DE ZACATE Y BASURA  COMERCIO  2016-01-01 00:00:00  FUEGO DIRECTO   \n",
       "1  INCENDIO DE ZACATE Y BASURA      CASA  2016-01-01 00:00:00  FUEGO DIRECTO   \n",
       "\n",
       "           COLONIA  ESTACION  TIEMPO TRANSCURRIDO  MES  \n",
       "0      SIN COLONIA       2.0                  9.0    1  \n",
       "1  LOMAS DE MADRID       1.0                 10.0    1  "
      ]
     },
     "execution_count": 77,
     "metadata": {},
     "output_type": "execute_result"
    }
   ],
   "source": [
    "df_1 = df[(df['TIEMPO TRANSCURRIDO']>0) & (df['TIEMPO TRANSCURRIDO']<120)].copy()\n",
    "df_1.head(2)"
   ]
  },
  {
   "cell_type": "code",
   "execution_count": 78,
   "metadata": {},
   "outputs": [
    {
     "data": {
      "text/html": [
       "<div>\n",
       "<style scoped>\n",
       "    .dataframe tbody tr th:only-of-type {\n",
       "        vertical-align: middle;\n",
       "    }\n",
       "\n",
       "    .dataframe tbody tr th {\n",
       "        vertical-align: top;\n",
       "    }\n",
       "\n",
       "    .dataframe thead th {\n",
       "        text-align: right;\n",
       "    }\n",
       "</style>\n",
       "<table border=\"1\" class=\"dataframe\">\n",
       "  <thead>\n",
       "    <tr style=\"text-align: right;\">\n",
       "      <th></th>\n",
       "      <th>TIPO</th>\n",
       "      <th>LUGAR</th>\n",
       "      <th>FECHA</th>\n",
       "      <th>CAUSA</th>\n",
       "      <th>COLONIA</th>\n",
       "      <th>ESTACION</th>\n",
       "      <th>TIEMPO TRANSCURRIDO</th>\n",
       "      <th>MES</th>\n",
       "    </tr>\n",
       "  </thead>\n",
       "  <tbody>\n",
       "    <tr>\n",
       "      <th>0</th>\n",
       "      <td>INCENDIO DE ZACATE Y BASURA</td>\n",
       "      <td>COMERCIO</td>\n",
       "      <td>1.451632e+09</td>\n",
       "      <td>FUEGO DIRECTO</td>\n",
       "      <td>SIN COLONIA</td>\n",
       "      <td>2.0</td>\n",
       "      <td>9.0</td>\n",
       "      <td>1</td>\n",
       "    </tr>\n",
       "    <tr>\n",
       "      <th>1</th>\n",
       "      <td>INCENDIO DE ZACATE Y BASURA</td>\n",
       "      <td>CASA</td>\n",
       "      <td>1.451632e+09</td>\n",
       "      <td>FUEGO DIRECTO</td>\n",
       "      <td>LOMAS DE MADRID</td>\n",
       "      <td>1.0</td>\n",
       "      <td>10.0</td>\n",
       "      <td>1</td>\n",
       "    </tr>\n",
       "  </tbody>\n",
       "</table>\n",
       "</div>"
      ],
      "text/plain": [
       "                          TIPO     LUGAR         FECHA          CAUSA  \\\n",
       "0  INCENDIO DE ZACATE Y BASURA  COMERCIO  1.451632e+09  FUEGO DIRECTO   \n",
       "1  INCENDIO DE ZACATE Y BASURA      CASA  1.451632e+09  FUEGO DIRECTO   \n",
       "\n",
       "           COLONIA  ESTACION  TIEMPO TRANSCURRIDO  MES  \n",
       "0      SIN COLONIA       2.0                  9.0    1  \n",
       "1  LOMAS DE MADRID       1.0                 10.0    1  "
      ]
     },
     "execution_count": 78,
     "metadata": {},
     "output_type": "execute_result"
    }
   ],
   "source": [
    "df_1['FECHA'].apply(lambda x: datetime.strptime(x, \"%Y-%m-%d %H:%M:%S\").timestamp())\n",
    "df_2 = df_1.copy()\n",
    "df_2['FECHA'] = df_1['FECHA'].apply(lambda x: datetime.strptime(x, \"%Y-%m-%d %H:%M:%S\").timestamp()).copy()\n",
    "df_2.head(2)"
   ]
  },
  {
   "cell_type": "code",
   "execution_count": 79,
   "metadata": {},
   "outputs": [
    {
     "data": {
      "text/html": [
       "<div>\n",
       "<style scoped>\n",
       "    .dataframe tbody tr th:only-of-type {\n",
       "        vertical-align: middle;\n",
       "    }\n",
       "\n",
       "    .dataframe tbody tr th {\n",
       "        vertical-align: top;\n",
       "    }\n",
       "\n",
       "    .dataframe thead th {\n",
       "        text-align: right;\n",
       "    }\n",
       "</style>\n",
       "<table border=\"1\" class=\"dataframe\">\n",
       "  <thead>\n",
       "    <tr style=\"text-align: right;\">\n",
       "      <th></th>\n",
       "      <th>FECHA</th>\n",
       "      <th>ESTACION</th>\n",
       "      <th>TIEMPO TRANSCURRIDO</th>\n",
       "      <th>MES</th>\n",
       "      <th>TIPO_C</th>\n",
       "      <th>LUGAR_C</th>\n",
       "      <th>CAUSA_C</th>\n",
       "      <th>COLONIA_C</th>\n",
       "    </tr>\n",
       "  </thead>\n",
       "  <tbody>\n",
       "    <tr>\n",
       "      <th>0</th>\n",
       "      <td>1.451632e+09</td>\n",
       "      <td>2.0</td>\n",
       "      <td>9.0</td>\n",
       "      <td>1</td>\n",
       "      <td>18</td>\n",
       "      <td>5</td>\n",
       "      <td>23</td>\n",
       "      <td>576</td>\n",
       "    </tr>\n",
       "    <tr>\n",
       "      <th>1</th>\n",
       "      <td>1.451632e+09</td>\n",
       "      <td>1.0</td>\n",
       "      <td>10.0</td>\n",
       "      <td>1</td>\n",
       "      <td>18</td>\n",
       "      <td>4</td>\n",
       "      <td>23</td>\n",
       "      <td>326</td>\n",
       "    </tr>\n",
       "  </tbody>\n",
       "</table>\n",
       "</div>"
      ],
      "text/plain": [
       "          FECHA  ESTACION  TIEMPO TRANSCURRIDO  MES  TIPO_C  LUGAR_C  CAUSA_C  \\\n",
       "0  1.451632e+09       2.0                  9.0    1      18        5       23   \n",
       "1  1.451632e+09       1.0                 10.0    1      18        4       23   \n",
       "\n",
       "   COLONIA_C  \n",
       "0        576  \n",
       "1        326  "
      ]
     },
     "execution_count": 79,
     "metadata": {},
     "output_type": "execute_result"
    }
   ],
   "source": [
    "df_2['TIPO_C'] = pd.factorize(df_2['TIPO'], sort=True)[0] + 1\n",
    "df_2['LUGAR_C'] = pd.factorize(df_2['LUGAR'], sort=True)[0] + 1\n",
    "df_2['CAUSA_C'] = pd.factorize(df_2['CAUSA'], sort=True)[0] + 1\n",
    "df_2['COLONIA_C'] = pd.factorize(df_2['COLONIA'], sort=True)[0] + 1\n",
    "\n",
    "df_3 = df_2.copy()\n",
    "df_3.drop(['TIPO','LUGAR','CAUSA','COLONIA'],axis=1, inplace=True)\n",
    "df_3.head(2)"
   ]
  },
  {
   "cell_type": "code",
   "execution_count": 80,
   "metadata": {},
   "outputs": [],
   "source": [
    "x = df_3.drop('TIPO_C', axis=1)\n",
    "y = df_3['TIPO_C']\n",
    "\n",
    "x_train, x_test, y_train, y_test = train_test_split(x,y, test_size=0.2, random_state = 100)"
   ]
  },
  {
   "cell_type": "code",
   "execution_count": 81,
   "metadata": {},
   "outputs": [],
   "source": [
    "rfc = RandomForestClassifier(n_estimators=600)"
   ]
  },
  {
   "cell_type": "code",
   "execution_count": 82,
   "metadata": {},
   "outputs": [
    {
     "data": {
      "text/plain": [
       "0.7571003516364619"
      ]
     },
     "execution_count": 82,
     "metadata": {},
     "output_type": "execute_result"
    }
   ],
   "source": [
    "rfc.fit(x_train, y_train)\n",
    "rfc.score(x_test, y_test)"
   ]
  },
  {
   "cell_type": "code",
   "execution_count": 83,
   "metadata": {},
   "outputs": [],
   "source": [
    "pre = rfc.predict(x_test)\n",
    "cm = confusion_matrix(y_test, pre)"
   ]
  },
  {
   "cell_type": "code",
   "execution_count": 92,
   "metadata": {},
   "outputs": [
    {
     "name": "stdout",
     "output_type": "stream",
     "text": [
      "              precision    recall  f1-score   support\n",
      "\n",
      "           1       0.48      0.53      0.50        98\n",
      "           2       0.35      0.37      0.36       150\n",
      "           3       0.00      0.00      0.00        12\n",
      "           4       0.00      0.00      0.00        12\n",
      "           5       0.34      0.34      0.34        47\n",
      "           6       0.00      0.00      0.00         0\n",
      "           7       0.89      0.98      0.93       614\n",
      "           8       1.00      0.20      0.33        10\n",
      "           9       0.65      0.66      0.66       218\n",
      "          10       0.75      0.80      0.78       250\n",
      "          11       1.00      0.33      0.50         3\n",
      "          12       0.32      0.13      0.19        69\n",
      "          13       0.51      0.47      0.49       285\n",
      "          14       0.34      0.33      0.34        33\n",
      "          15       0.00      0.00      0.00         6\n",
      "          16       1.00      0.05      0.09        21\n",
      "          17       0.73      0.83      0.78       155\n",
      "          18       0.86      0.91      0.89      1482\n",
      "          19       0.00      0.00      0.00         2\n",
      "          20       0.00      0.00      0.00         1\n",
      "          21       0.00      0.00      0.00        19\n",
      "          22       0.33      0.11      0.17         9\n",
      "          24       0.49      0.23      0.31        88\n",
      "          25       0.74      0.59      0.66       105\n",
      "          27       0.50      0.62      0.56         8\n",
      "\n",
      "    accuracy                           0.76      3697\n",
      "   macro avg       0.45      0.34      0.35      3697\n",
      "weighted avg       0.74      0.76      0.74      3697\n",
      "\n"
     ]
    }
   ],
   "source": [
    "print(classification_report(y_test, pre))"
   ]
  },
  {
   "cell_type": "code",
   "execution_count": 89,
   "metadata": {},
   "outputs": [
    {
     "data": {
      "text/plain": [
       "[Text(114.0, 0.5, 'Truth'), Text(0.5, 69.0, 'Predicted')]"
      ]
     },
     "execution_count": 89,
     "metadata": {},
     "output_type": "execute_result"
    },
    {
     "data": {
      "image/png": "[encoded data removed]",
      "text/plain": [
       "<Figure size 1080x720 with 2 Axes>"
      ]
     },
     "metadata": {
      "needs_background": "light"
     },
     "output_type": "display_data"
    }
   ],
   "source": [
    "plt.figure(figsize=(15,10))\n",
    "ax = sns.heatmap(cm, annot=True)\n",
    "ax.set(xlabel='Predicted', ylabel='Truth')"
   ]
  }
 ],
 "metadata": {
  "kernelspec": {
   "display_name": "Python 3",
   "language": "python",
   "name": "python3"
  },
  "language_info": {
   "codemirror_mode": {
    "name": "ipython",
    "version": 3
   },
   "file_extension": ".py",
   "mimetype": "text/x-python",
   "name": "python",
   "nbconvert_exporter": "python",
   "pygments_lexer": "ipython3",
   "version": "3.5.2"
  }
 },
 "nbformat": 4,
 "nbformat_minor": 2
}
