{
 "cells": [
  {
   "cell_type": "code",
   "execution_count": 1,
   "metadata": {},
   "outputs": [],
   "source": [
    "import pandas as pd\n",
    "import numpy as np\n",
    "import matplotlib.pyplot as plt\n",
    "from sklearn import linear_model\n",
    "import seaborn as sns\n",
    "import datetime\n",
    "import re\n",
    "%matplotlib inline"
   ]
  },
  {
   "cell_type": "code",
   "execution_count": 704,
   "metadata": {},
   "outputs": [],
   "source": [
    "def create_numeric_category(col_serie):\n",
    "    category_temp = pd.factorize(col_serie.str.lower(), sort=True)[0]\n",
    "    jump = abs(min(category_temp))\n",
    "    return category_temp + jump\n",
    "\n",
    "def to_datetime_format(value):\n",
    "    pattern_1 = r'^\\d+/\\d+/\\d+ \\d+:\\d+$'\n",
    "    pattern_2 = r'^\\d+-\\d+-\\d+ \\d+:\\d+$'\n",
    "    \n",
    "    if re.match(pattern_1, value):\n",
    "        (date, time) = value.split(' ')\n",
    "        (day, month, year) = date.split('/')\n",
    "        (minutes, seconds) = time.split(':')\n",
    "\n",
    "        year = int(year)\n",
    "        month = int(month)\n",
    "        day = int(day)\n",
    "        minutes = int(minutes)\n",
    "        seconds = int(seconds)\n",
    "        \n",
    "    elif re.match(pattern_2, value):\n",
    "        (date, time) = value.split(' ')\n",
    "        (day, month, year) = date.split('-')\n",
    "        (minutes, seconds) = time.split(':')\n",
    "\n",
    "        year = int(year) + 2000\n",
    "        month = int(month)\n",
    "        day = int(day)\n",
    "        minutes = int(minutes)\n",
    "        seconds = int(seconds)\n",
    "    \n",
    "    return datetime.datetime(year,month, day, minutes, seconds)\n",
    "\n",
    "def median_string_datetime(values):\n",
    "    values.sort()\n",
    "    total = len(values)\n",
    "    if total % 2:\n",
    "        index = total // 2 + 1\n",
    "        print(values[index], index)\n",
    "        return datetime.datetime.fromtimestamp(values[index])\n",
    "    else:\n",
    "        index_1 = total // 2\n",
    "        index_2 = index_1 + 1\n",
    "        \n",
    "        print(values[index_1], values[index_2])\n",
    "        \n",
    "        time_mean = (values[index_1] + values[index_2])/2\n",
    "        return datetime.datetime.fromtimestamp(time_mean)"
   ]
  },
  {
   "cell_type": "code",
   "execution_count": 11,
   "metadata": {},
   "outputs": [
    {
     "data": {
      "text/html": [
       "<div>\n",
       "<style scoped>\n",
       "    .dataframe tbody tr th:only-of-type {\n",
       "        vertical-align: middle;\n",
       "    }\n",
       "\n",
       "    .dataframe tbody tr th {\n",
       "        vertical-align: top;\n",
       "    }\n",
       "\n",
       "    .dataframe thead th {\n",
       "        text-align: right;\n",
       "    }\n",
       "</style>\n",
       "<table border=\"1\" class=\"dataframe\">\n",
       "  <thead>\n",
       "    <tr style=\"text-align: right;\">\n",
       "      <th></th>\n",
       "      <th>FOLIO</th>\n",
       "      <th>TIPO</th>\n",
       "      <th>LUGAR</th>\n",
       "      <th>FECHA</th>\n",
       "      <th>SALIDA</th>\n",
       "      <th>LLEGADA</th>\n",
       "      <th>CAUSA</th>\n",
       "      <th>COLONIA</th>\n",
       "      <th>ESTACION</th>\n",
       "    </tr>\n",
       "  </thead>\n",
       "  <tbody>\n",
       "    <tr>\n",
       "      <th>0</th>\n",
       "      <td>01012016-0007-INZB-2A</td>\n",
       "      <td>INCENDIO DE ZACATE Y BASURA</td>\n",
       "      <td>COMERCIO</td>\n",
       "      <td>1/1/2016</td>\n",
       "      <td>1/1/2016 0:07</td>\n",
       "      <td>1/1/2016 0:16</td>\n",
       "      <td>FUEGO DIRECTO</td>\n",
       "      <td>SIN COLONIA</td>\n",
       "      <td>2.0</td>\n",
       "    </tr>\n",
       "    <tr>\n",
       "      <th>1</th>\n",
       "      <td>01012016-0022-INZB-1A</td>\n",
       "      <td>INCENDIO DE ZACATE Y BASURA</td>\n",
       "      <td>CASA</td>\n",
       "      <td>1/1/2016</td>\n",
       "      <td>1/1/2016 0:22</td>\n",
       "      <td>1/1/2016 0:32</td>\n",
       "      <td>FUEGO DIRECTO</td>\n",
       "      <td>LOMAS DE MADRID</td>\n",
       "      <td>1.0</td>\n",
       "    </tr>\n",
       "    <tr>\n",
       "      <th>2</th>\n",
       "      <td>01012016-0029-IDCM-1A</td>\n",
       "      <td>INCENDIO DE CASA DE MATERIAL</td>\n",
       "      <td>CASA</td>\n",
       "      <td>1/1/2016</td>\n",
       "      <td>1/1/2016 0:29</td>\n",
       "      <td>1/1/2016 0:43</td>\n",
       "      <td>OTROS</td>\n",
       "      <td>PUERTA REAL RESIDENCIAL</td>\n",
       "      <td>1.0</td>\n",
       "    </tr>\n",
       "    <tr>\n",
       "      <th>3</th>\n",
       "      <td>01012016-0039-INZB-2A</td>\n",
       "      <td>INCENDIO DE ZACATE Y BASURA</td>\n",
       "      <td>VEHICULO</td>\n",
       "      <td>1/1/2016</td>\n",
       "      <td>1/1/2016 0:39</td>\n",
       "      <td>1/1/2016 0:43</td>\n",
       "      <td>FUEGO DIRECTO</td>\n",
       "      <td>NORBERTO ORTEGA</td>\n",
       "      <td>2.0</td>\n",
       "    </tr>\n",
       "    <tr>\n",
       "      <th>4</th>\n",
       "      <td>01012016-0051-INZB-2A</td>\n",
       "      <td>INCENDIO DE ZACATE Y BASURA</td>\n",
       "      <td>CASA</td>\n",
       "      <td>1/1/2016</td>\n",
       "      <td>1/1/2016 0:51</td>\n",
       "      <td>1/1/2016 0:59</td>\n",
       "      <td>FUEGO DIRECTO</td>\n",
       "      <td>MIGUEL HIDALGO</td>\n",
       "      <td>2.0</td>\n",
       "    </tr>\n",
       "  </tbody>\n",
       "</table>\n",
       "</div>"
      ],
      "text/plain": [
       "                   FOLIO                          TIPO     LUGAR     FECHA  \\\n",
       "0  01012016-0007-INZB-2A   INCENDIO DE ZACATE Y BASURA  COMERCIO  1/1/2016   \n",
       "1  01012016-0022-INZB-1A   INCENDIO DE ZACATE Y BASURA      CASA  1/1/2016   \n",
       "2  01012016-0029-IDCM-1A  INCENDIO DE CASA DE MATERIAL      CASA  1/1/2016   \n",
       "3  01012016-0039-INZB-2A   INCENDIO DE ZACATE Y BASURA  VEHICULO  1/1/2016   \n",
       "4  01012016-0051-INZB-2A   INCENDIO DE ZACATE Y BASURA      CASA  1/1/2016   \n",
       "\n",
       "          SALIDA        LLEGADA          CAUSA                  COLONIA  \\\n",
       "0  1/1/2016 0:07  1/1/2016 0:16  FUEGO DIRECTO              SIN COLONIA   \n",
       "1  1/1/2016 0:22  1/1/2016 0:32  FUEGO DIRECTO          LOMAS DE MADRID   \n",
       "2  1/1/2016 0:29  1/1/2016 0:43          OTROS  PUERTA REAL RESIDENCIAL   \n",
       "3  1/1/2016 0:39  1/1/2016 0:43  FUEGO DIRECTO          NORBERTO ORTEGA   \n",
       "4  1/1/2016 0:51  1/1/2016 0:59  FUEGO DIRECTO           MIGUEL HIDALGO   \n",
       "\n",
       "   ESTACION  \n",
       "0       2.0  \n",
       "1       1.0  \n",
       "2       1.0  \n",
       "3       2.0  \n",
       "4       2.0  "
      ]
     },
     "execution_count": 11,
     "metadata": {},
     "output_type": "execute_result"
    }
   ],
   "source": [
    "df = pd.read_csv('data/serviciosbomberoshmo.csv', encoding='latin1')\n",
    "df.head()"
   ]
  },
  {
   "cell_type": "code",
   "execution_count": 12,
   "metadata": {},
   "outputs": [
    {
     "data": {
      "text/html": [
       "<div>\n",
       "<style scoped>\n",
       "    .dataframe tbody tr th:only-of-type {\n",
       "        vertical-align: middle;\n",
       "    }\n",
       "\n",
       "    .dataframe tbody tr th {\n",
       "        vertical-align: top;\n",
       "    }\n",
       "\n",
       "    .dataframe thead th {\n",
       "        text-align: right;\n",
       "    }\n",
       "</style>\n",
       "<table border=\"1\" class=\"dataframe\">\n",
       "  <thead>\n",
       "    <tr style=\"text-align: right;\">\n",
       "      <th></th>\n",
       "      <th>FOLIO</th>\n",
       "      <th>TIPO</th>\n",
       "      <th>LUGAR</th>\n",
       "      <th>FECHA</th>\n",
       "      <th>SALIDA</th>\n",
       "      <th>LLEGADA</th>\n",
       "      <th>CAUSA</th>\n",
       "      <th>COLONIA</th>\n",
       "      <th>ESTACION</th>\n",
       "      <th>TIPO_ID</th>\n",
       "      <th>LUGAR_ID</th>\n",
       "      <th>CAUSA_ID</th>\n",
       "      <th>COLONIA_ID</th>\n",
       "      <th>AÑO</th>\n",
       "      <th>MES</th>\n",
       "      <th>DIA</th>\n",
       "    </tr>\n",
       "  </thead>\n",
       "  <tbody>\n",
       "    <tr>\n",
       "      <th>0</th>\n",
       "      <td>01012016-0007-INZB-2A</td>\n",
       "      <td>INCENDIO DE ZACATE Y BASURA</td>\n",
       "      <td>COMERCIO</td>\n",
       "      <td>1/1/2016</td>\n",
       "      <td>1/1/2016 0:07</td>\n",
       "      <td>1/1/2016 0:16</td>\n",
       "      <td>FUEGO DIRECTO</td>\n",
       "      <td>SIN COLONIA</td>\n",
       "      <td>2.0</td>\n",
       "      <td>19</td>\n",
       "      <td>6</td>\n",
       "      <td>22</td>\n",
       "      <td>592</td>\n",
       "      <td>2016</td>\n",
       "      <td>1</td>\n",
       "      <td>1</td>\n",
       "    </tr>\n",
       "    <tr>\n",
       "      <th>1</th>\n",
       "      <td>01012016-0022-INZB-1A</td>\n",
       "      <td>INCENDIO DE ZACATE Y BASURA</td>\n",
       "      <td>CASA</td>\n",
       "      <td>1/1/2016</td>\n",
       "      <td>1/1/2016 0:22</td>\n",
       "      <td>1/1/2016 0:32</td>\n",
       "      <td>FUEGO DIRECTO</td>\n",
       "      <td>LOMAS DE MADRID</td>\n",
       "      <td>1.0</td>\n",
       "      <td>19</td>\n",
       "      <td>5</td>\n",
       "      <td>22</td>\n",
       "      <td>333</td>\n",
       "      <td>2016</td>\n",
       "      <td>1</td>\n",
       "      <td>1</td>\n",
       "    </tr>\n",
       "    <tr>\n",
       "      <th>2</th>\n",
       "      <td>01012016-0029-IDCM-1A</td>\n",
       "      <td>INCENDIO DE CASA DE MATERIAL</td>\n",
       "      <td>CASA</td>\n",
       "      <td>1/1/2016</td>\n",
       "      <td>1/1/2016 0:29</td>\n",
       "      <td>1/1/2016 0:43</td>\n",
       "      <td>OTROS</td>\n",
       "      <td>PUERTA REAL RESIDENCIAL</td>\n",
       "      <td>1.0</td>\n",
       "      <td>14</td>\n",
       "      <td>5</td>\n",
       "      <td>38</td>\n",
       "      <td>501</td>\n",
       "      <td>2016</td>\n",
       "      <td>1</td>\n",
       "      <td>1</td>\n",
       "    </tr>\n",
       "    <tr>\n",
       "      <th>3</th>\n",
       "      <td>01012016-0039-INZB-2A</td>\n",
       "      <td>INCENDIO DE ZACATE Y BASURA</td>\n",
       "      <td>VEHICULO</td>\n",
       "      <td>1/1/2016</td>\n",
       "      <td>1/1/2016 0:39</td>\n",
       "      <td>1/1/2016 0:43</td>\n",
       "      <td>FUEGO DIRECTO</td>\n",
       "      <td>NORBERTO ORTEGA</td>\n",
       "      <td>2.0</td>\n",
       "      <td>19</td>\n",
       "      <td>12</td>\n",
       "      <td>22</td>\n",
       "      <td>386</td>\n",
       "      <td>2016</td>\n",
       "      <td>1</td>\n",
       "      <td>1</td>\n",
       "    </tr>\n",
       "    <tr>\n",
       "      <th>4</th>\n",
       "      <td>01012016-0051-INZB-2A</td>\n",
       "      <td>INCENDIO DE ZACATE Y BASURA</td>\n",
       "      <td>CASA</td>\n",
       "      <td>1/1/2016</td>\n",
       "      <td>1/1/2016 0:51</td>\n",
       "      <td>1/1/2016 0:59</td>\n",
       "      <td>FUEGO DIRECTO</td>\n",
       "      <td>MIGUEL HIDALGO</td>\n",
       "      <td>2.0</td>\n",
       "      <td>19</td>\n",
       "      <td>5</td>\n",
       "      <td>22</td>\n",
       "      <td>368</td>\n",
       "      <td>2016</td>\n",
       "      <td>1</td>\n",
       "      <td>1</td>\n",
       "    </tr>\n",
       "  </tbody>\n",
       "</table>\n",
       "</div>"
      ],
      "text/plain": [
       "                   FOLIO                          TIPO     LUGAR     FECHA  \\\n",
       "0  01012016-0007-INZB-2A   INCENDIO DE ZACATE Y BASURA  COMERCIO  1/1/2016   \n",
       "1  01012016-0022-INZB-1A   INCENDIO DE ZACATE Y BASURA      CASA  1/1/2016   \n",
       "2  01012016-0029-IDCM-1A  INCENDIO DE CASA DE MATERIAL      CASA  1/1/2016   \n",
       "3  01012016-0039-INZB-2A   INCENDIO DE ZACATE Y BASURA  VEHICULO  1/1/2016   \n",
       "4  01012016-0051-INZB-2A   INCENDIO DE ZACATE Y BASURA      CASA  1/1/2016   \n",
       "\n",
       "          SALIDA        LLEGADA          CAUSA                  COLONIA  \\\n",
       "0  1/1/2016 0:07  1/1/2016 0:16  FUEGO DIRECTO              SIN COLONIA   \n",
       "1  1/1/2016 0:22  1/1/2016 0:32  FUEGO DIRECTO          LOMAS DE MADRID   \n",
       "2  1/1/2016 0:29  1/1/2016 0:43          OTROS  PUERTA REAL RESIDENCIAL   \n",
       "3  1/1/2016 0:39  1/1/2016 0:43  FUEGO DIRECTO          NORBERTO ORTEGA   \n",
       "4  1/1/2016 0:51  1/1/2016 0:59  FUEGO DIRECTO           MIGUEL HIDALGO   \n",
       "\n",
       "   ESTACION  TIPO_ID  LUGAR_ID  CAUSA_ID  COLONIA_ID   AÑO  MES  DIA  \n",
       "0       2.0       19         6        22         592  2016    1    1  \n",
       "1       1.0       19         5        22         333  2016    1    1  \n",
       "2       1.0       14         5        38         501  2016    1    1  \n",
       "3       2.0       19        12        22         386  2016    1    1  \n",
       "4       2.0       19         5        22         368  2016    1    1  "
      ]
     },
     "execution_count": 12,
     "metadata": {},
     "output_type": "execute_result"
    }
   ],
   "source": [
    "df2 = df.copy()\n",
    "\n",
    "df2['COLONIA'].fillna('SIN COLONIA',inplace=True)   \n",
    "df2['CAUSA'].fillna('OTROS',inplace=True)\n",
    "\n",
    "df2['TIPO_ID'] = create_numeric_category(df2['TIPO'])\n",
    "df2['LUGAR_ID'] = create_numeric_category(df2['LUGAR'])\n",
    "df2['CAUSA_ID'] = create_numeric_category(df2['CAUSA'])\n",
    "df2['COLONIA_ID'] = create_numeric_category(df2['COLONIA'])\n",
    "\n",
    "df2['AÑO'] = pd.DatetimeIndex(df2['FECHA']).year\n",
    "df2['MES'] = pd.DatetimeIndex(df2['FECHA']).month\n",
    "df2['DIA'] = pd.DatetimeIndex(df2['FECHA']).day\n",
    "\n",
    "df2.head()"
   ]
  },
  {
   "cell_type": "code",
   "execution_count": 13,
   "metadata": {},
   "outputs": [
    {
     "data": {
      "text/html": [
       "<div>\n",
       "<style scoped>\n",
       "    .dataframe tbody tr th:only-of-type {\n",
       "        vertical-align: middle;\n",
       "    }\n",
       "\n",
       "    .dataframe tbody tr th {\n",
       "        vertical-align: top;\n",
       "    }\n",
       "\n",
       "    .dataframe thead th {\n",
       "        text-align: right;\n",
       "    }\n",
       "</style>\n",
       "<table border=\"1\" class=\"dataframe\">\n",
       "  <thead>\n",
       "    <tr style=\"text-align: right;\">\n",
       "      <th></th>\n",
       "      <th>FOLIO</th>\n",
       "      <th>TIPO</th>\n",
       "      <th>LUGAR</th>\n",
       "      <th>FECHA</th>\n",
       "      <th>SALIDA</th>\n",
       "      <th>LLEGADA</th>\n",
       "      <th>CAUSA</th>\n",
       "      <th>COLONIA</th>\n",
       "      <th>ESTACION</th>\n",
       "      <th>TIPO_ID</th>\n",
       "      <th>LUGAR_ID</th>\n",
       "      <th>CAUSA_ID</th>\n",
       "      <th>COLONIA_ID</th>\n",
       "      <th>AÑO</th>\n",
       "      <th>MES</th>\n",
       "      <th>DIA</th>\n",
       "    </tr>\n",
       "  </thead>\n",
       "  <tbody>\n",
       "    <tr>\n",
       "      <th>0</th>\n",
       "      <td>01012016-0007-INZB-2A</td>\n",
       "      <td>INCENDIO DE ZACATE Y BASURA</td>\n",
       "      <td>COMERCIO</td>\n",
       "      <td>1/1/2016</td>\n",
       "      <td>1/1/2016 0:07</td>\n",
       "      <td>1/1/2016 0:16</td>\n",
       "      <td>FUEGO DIRECTO</td>\n",
       "      <td>SIN COLONIA</td>\n",
       "      <td>2.0</td>\n",
       "      <td>19</td>\n",
       "      <td>6</td>\n",
       "      <td>22</td>\n",
       "      <td>592</td>\n",
       "      <td>2016</td>\n",
       "      <td>1</td>\n",
       "      <td>1</td>\n",
       "    </tr>\n",
       "    <tr>\n",
       "      <th>1</th>\n",
       "      <td>01012016-0022-INZB-1A</td>\n",
       "      <td>INCENDIO DE ZACATE Y BASURA</td>\n",
       "      <td>CASA</td>\n",
       "      <td>1/1/2016</td>\n",
       "      <td>1/1/2016 0:22</td>\n",
       "      <td>1/1/2016 0:32</td>\n",
       "      <td>FUEGO DIRECTO</td>\n",
       "      <td>LOMAS DE MADRID</td>\n",
       "      <td>1.0</td>\n",
       "      <td>19</td>\n",
       "      <td>5</td>\n",
       "      <td>22</td>\n",
       "      <td>333</td>\n",
       "      <td>2016</td>\n",
       "      <td>1</td>\n",
       "      <td>1</td>\n",
       "    </tr>\n",
       "    <tr>\n",
       "      <th>2</th>\n",
       "      <td>01012016-0029-IDCM-1A</td>\n",
       "      <td>INCENDIO DE CASA DE MATERIAL</td>\n",
       "      <td>CASA</td>\n",
       "      <td>1/1/2016</td>\n",
       "      <td>1/1/2016 0:29</td>\n",
       "      <td>1/1/2016 0:43</td>\n",
       "      <td>OTROS</td>\n",
       "      <td>PUERTA REAL RESIDENCIAL</td>\n",
       "      <td>1.0</td>\n",
       "      <td>14</td>\n",
       "      <td>5</td>\n",
       "      <td>38</td>\n",
       "      <td>501</td>\n",
       "      <td>2016</td>\n",
       "      <td>1</td>\n",
       "      <td>1</td>\n",
       "    </tr>\n",
       "    <tr>\n",
       "      <th>3</th>\n",
       "      <td>01012016-0039-INZB-2A</td>\n",
       "      <td>INCENDIO DE ZACATE Y BASURA</td>\n",
       "      <td>VEHICULO</td>\n",
       "      <td>1/1/2016</td>\n",
       "      <td>1/1/2016 0:39</td>\n",
       "      <td>1/1/2016 0:43</td>\n",
       "      <td>FUEGO DIRECTO</td>\n",
       "      <td>NORBERTO ORTEGA</td>\n",
       "      <td>2.0</td>\n",
       "      <td>19</td>\n",
       "      <td>12</td>\n",
       "      <td>22</td>\n",
       "      <td>386</td>\n",
       "      <td>2016</td>\n",
       "      <td>1</td>\n",
       "      <td>1</td>\n",
       "    </tr>\n",
       "    <tr>\n",
       "      <th>4</th>\n",
       "      <td>01012016-0051-INZB-2A</td>\n",
       "      <td>INCENDIO DE ZACATE Y BASURA</td>\n",
       "      <td>CASA</td>\n",
       "      <td>1/1/2016</td>\n",
       "      <td>1/1/2016 0:51</td>\n",
       "      <td>1/1/2016 0:59</td>\n",
       "      <td>FUEGO DIRECTO</td>\n",
       "      <td>MIGUEL HIDALGO</td>\n",
       "      <td>2.0</td>\n",
       "      <td>19</td>\n",
       "      <td>5</td>\n",
       "      <td>22</td>\n",
       "      <td>368</td>\n",
       "      <td>2016</td>\n",
       "      <td>1</td>\n",
       "      <td>1</td>\n",
       "    </tr>\n",
       "  </tbody>\n",
       "</table>\n",
       "</div>"
      ],
      "text/plain": [
       "                   FOLIO                          TIPO     LUGAR     FECHA  \\\n",
       "0  01012016-0007-INZB-2A   INCENDIO DE ZACATE Y BASURA  COMERCIO  1/1/2016   \n",
       "1  01012016-0022-INZB-1A   INCENDIO DE ZACATE Y BASURA      CASA  1/1/2016   \n",
       "2  01012016-0029-IDCM-1A  INCENDIO DE CASA DE MATERIAL      CASA  1/1/2016   \n",
       "3  01012016-0039-INZB-2A   INCENDIO DE ZACATE Y BASURA  VEHICULO  1/1/2016   \n",
       "4  01012016-0051-INZB-2A   INCENDIO DE ZACATE Y BASURA      CASA  1/1/2016   \n",
       "\n",
       "          SALIDA        LLEGADA          CAUSA                  COLONIA  \\\n",
       "0  1/1/2016 0:07  1/1/2016 0:16  FUEGO DIRECTO              SIN COLONIA   \n",
       "1  1/1/2016 0:22  1/1/2016 0:32  FUEGO DIRECTO          LOMAS DE MADRID   \n",
       "2  1/1/2016 0:29  1/1/2016 0:43          OTROS  PUERTA REAL RESIDENCIAL   \n",
       "3  1/1/2016 0:39  1/1/2016 0:43  FUEGO DIRECTO          NORBERTO ORTEGA   \n",
       "4  1/1/2016 0:51  1/1/2016 0:59  FUEGO DIRECTO           MIGUEL HIDALGO   \n",
       "\n",
       "   ESTACION  TIPO_ID  LUGAR_ID  CAUSA_ID  COLONIA_ID   AÑO  MES  DIA  \n",
       "0       2.0       19         6        22         592  2016    1    1  \n",
       "1       1.0       19         5        22         333  2016    1    1  \n",
       "2       1.0       14         5        38         501  2016    1    1  \n",
       "3       2.0       19        12        22         386  2016    1    1  \n",
       "4       2.0       19         5        22         368  2016    1    1  "
      ]
     },
     "execution_count": 13,
     "metadata": {},
     "output_type": "execute_result"
    }
   ],
   "source": [
    "NO_EXISTE = -1\n",
    "df_incendio = df2[df2['TIPO'].str.find('INCENDIO')!=NO_EXISTE]\n",
    "df_incendio.head()"
   ]
  },
  {
   "cell_type": "code",
   "execution_count": 14,
   "metadata": {},
   "outputs": [
    {
     "data": {
      "text/plain": [
       "COLONIA\n",
       " EL CARMEN      2\n",
       " EL REALITO     2\n",
       " EL SAUCITO    14\n",
       " EL TAZAJAL     8\n",
       " EL TRIUNFO     9\n",
       "Name: COLONIA, dtype: int64"
      ]
     },
     "execution_count": 14,
     "metadata": {},
     "output_type": "execute_result"
    }
   ],
   "source": [
    "df_incendio_totales = df_incendio.groupby(['COLONIA'])['COLONIA'].count()\n",
    "df_incendio_totales.head()"
   ]
  },
  {
   "cell_type": "code",
   "execution_count": 15,
   "metadata": {},
   "outputs": [
    {
     "data": {
      "text/plain": [
       "COLONIA\n",
       "SIN COLONIA          705\n",
       "CENTRO               332\n",
       "PARQUE INDUSTRIAL    274\n",
       "ALTARES              259\n",
       "SOLIDARIDAD          250\n",
       "Name: COLONIA, dtype: int64"
      ]
     },
     "execution_count": 15,
     "metadata": {},
     "output_type": "execute_result"
    }
   ],
   "source": [
    "df_incendio_top = df_incendio_totales.sort_values(ascending=False).head()\n",
    "df_incendio_top"
   ]
  },
  {
   "cell_type": "code",
   "execution_count": 21,
   "metadata": {},
   "outputs": [
    {
     "data": {
      "text/plain": [
       "[Text(0, 0.5, 'TOTAL'), Text(0.5, 0, 'TOP COLONIAS INCENDIOS')]"
      ]
     },
     "execution_count": 21,
     "metadata": {},
     "output_type": "execute_result"
    },
    {
     "data": {
      "image/png": "[encoded data removed]",
      "text/plain": [
       "<Figure size 720x216 with 1 Axes>"
      ]
     },
     "metadata": {
      "needs_background": "light"
     },
     "output_type": "display_data"
    }
   ],
   "source": [
    "x = df_incendio_top.index\n",
    "y = df_incendio_top.values\n",
    "\n",
    "plt.figure(figsize=(10,3))\n",
    "ax= sns.barplot(x,y)\n",
    "ax.set(xlabel='TOP COLONIAS INCENDIOS', ylabel='TOTAL')"
   ]
  },
  {
   "cell_type": "code",
   "execution_count": 22,
   "metadata": {},
   "outputs": [
    {
     "data": {
      "text/plain": [
       "array(['CENTRO', 'PARQUE INDUSTRIAL', 'ALTARES', 'SOLIDARIDAD',\n",
       "       'NUEVO HERMOSILLO', 'SAHUARO', 'PROYECTO RIO SONORA',\n",
       "       'CARRETERA A KINO', '5 DE MAYO', 'LAS LOMAS'], dtype=object)"
      ]
     },
     "execution_count": 22,
     "metadata": {},
     "output_type": "execute_result"
    }
   ],
   "source": [
    "temp_ordenados = df_incendio_totales.sort_values(ascending=False)\n",
    "temp_index = temp_ordenados[temp_ordenados.index!='SIN COLONIA'].head(10)\n",
    "colonia_nombre = np.array(temp_index.index)\n",
    "colonia_nombre"
   ]
  },
  {
   "cell_type": "code",
   "execution_count": 24,
   "metadata": {},
   "outputs": [
    {
     "data": {
      "text/plain": [
       "POSICION  COLONIA            MES\n",
       "1         CENTRO             1      35\n",
       "                             2      39\n",
       "                             3      29\n",
       "                             4      35\n",
       "                             5      30\n",
       "                             6      30\n",
       "                             7      22\n",
       "                             8      14\n",
       "                             9      23\n",
       "                             10     32\n",
       "                             11     26\n",
       "                             12     17\n",
       "2         PARQUE INDUSTRIAL  1      28\n",
       "                             2      24\n",
       "                             3      28\n",
       "                             4      19\n",
       "                             5      60\n",
       "                             6      18\n",
       "                             7       6\n",
       "                             8      19\n",
       "                             9      11\n",
       "                             10     28\n",
       "                             11     20\n",
       "                             12     13\n",
       "3         ALTARES            1      21\n",
       "                             2      21\n",
       "                             3      28\n",
       "                             4      30\n",
       "                             5      24\n",
       "                             6      16\n",
       "                                    ..\n",
       "8         CARRETERA A KINO   7       4\n",
       "                             8       7\n",
       "                             9      12\n",
       "                             10      5\n",
       "                             11     16\n",
       "                             12     16\n",
       "9         5 DE MAYO          1      11\n",
       "                             2      15\n",
       "                             3      23\n",
       "                             4      14\n",
       "                             5      18\n",
       "                             6      16\n",
       "                             7       8\n",
       "                             8       7\n",
       "                             9      15\n",
       "                             10      9\n",
       "                             11     13\n",
       "                             12     16\n",
       "10        LAS LOMAS          1      20\n",
       "                             2      15\n",
       "                             3      17\n",
       "                             4      23\n",
       "                             5      14\n",
       "                             6      15\n",
       "                             7       3\n",
       "                             8      10\n",
       "                             9       8\n",
       "                             10     14\n",
       "                             11      9\n",
       "                             12     16\n",
       "Name: COLONIA, Length: 120, dtype: int64"
      ]
     },
     "execution_count": 24,
     "metadata": {},
     "output_type": "execute_result"
    }
   ],
   "source": [
    "def get_position(col_serie,categories):\n",
    "    temp_array = [list(categories).index(e) + 1 for e in col_serie]\n",
    "    return np.array(temp_array)\n",
    "\n",
    "temp_incendio_top_10 = df_incendio[df_incendio['COLONIA'].isin(colonia_nombre)].copy()\n",
    "\n",
    "posicion = get_position(temp_incendio_top_10['COLONIA'], colonia_nombre)\n",
    "\n",
    "temp_incendio_top_10['POSICION'] = posicion\n",
    "temp_incendio_top_10\n",
    "\n",
    "\n",
    "df_incendio_totales = temp_incendio_top_10.groupby(['POSICION','COLONIA','MES'])['COLONIA'].count()\n",
    "df_incendio_totales\n",
    "\n",
    "# df_incendio_totales = df_incendio.groupby(['COLONIA', 'MES'], as_index=False).count()\n",
    "# df_incendio_totales.rename(columns={\"FOLIO\": \"TOTAL\"},inplace=True)\n",
    "# df_incendio_totales[['COLONIA', 'MES', 'TOTAL']]\n",
    "\n",
    "# temp = pd.MultiIndex.to_frame(df_incendio_totales.index,index=False)\n",
    "# temp['TOTAL'] = df_incendio_totales.values\n",
    "# temp"
   ]
  },
  {
   "cell_type": "code",
   "execution_count": 25,
   "metadata": {},
   "outputs": [
    {
     "data": {
      "text/plain": [
       "CAUSA\n",
       "FUEGO DIRECTO                  11626\n",
       "CORTO CIRCUITO                   523\n",
       "OTROS                            341\n",
       "SOBRECALENTAMIENTO               200\n",
       "INCENDIO DE ZACATE Y BASURA      150\n",
       "Name: CAUSA, dtype: int64"
      ]
     },
     "execution_count": 25,
     "metadata": {},
     "output_type": "execute_result"
    }
   ],
   "source": [
    "df_incendio_causa = df_incendio.groupby(['CAUSA'])['CAUSA'].count().copy()\n",
    "df_incendio_causa = df_incendio_causa.sort_values(ascending=False).head()\n",
    "df_incendio_causa.head()"
   ]
  },
  {
   "cell_type": "code",
   "execution_count": 26,
   "metadata": {},
   "outputs": [
    {
     "data": {
      "text/plain": [
       "[Text(0, 0.5, 'TOTAL'), Text(0.5, 0, 'TOP CAUSAS INCENDIOS')]"
      ]
     },
     "execution_count": 26,
     "metadata": {},
     "output_type": "execute_result"
    },
    {
     "data": {
      "image/png": "[encoded data removed]",
      "text/plain": [
       "<Figure size 1080x216 with 1 Axes>"
      ]
     },
     "metadata": {
      "needs_background": "light"
     },
     "output_type": "display_data"
    }
   ],
   "source": [
    "x = df_incendio_causa.index\n",
    "y = df_incendio_causa.values\n",
    "\n",
    "plt.figure(figsize=(15,3))\n",
    "ax= sns.barplot(x,y)\n",
    "ax.set(xlabel='TOP CAUSAS INCENDIOS', ylabel='TOTAL')"
   ]
  },
  {
   "cell_type": "code",
   "execution_count": 208,
   "metadata": {},
   "outputs": [
    {
     "data": {
      "image/png": "[encoded data removed]",
      "text/plain": [
       "<Figure size 1080x1080 with 10 Axes>"
      ]
     },
     "metadata": {
      "needs_background": "light"
     },
     "output_type": "display_data"
    }
   ],
   "source": [
    "f, axes = plt.subplots(5, 2, figsize=(15, 15))\n",
    "\n",
    "colonias = list(colonia_nombre)\n",
    "colonias.reverse()\n",
    "posicion_contador = 1\n",
    "\n",
    "for r in range(5):\n",
    "    for c in range(2):\n",
    "        title = colonias.pop()\n",
    "        x = df_incendio_totales.loc[(posicion_contador)].loc[(title)].index\n",
    "        y = df_incendio_totales.loc[(posicion_contador)].loc[(title)].values\n",
    "  \n",
    "        ax = sns.barplot(x,y, ax=axes[r, c])\n",
    "        ax.set(xlabel='MES', ylabel='TOTAL',title=title)\n",
    "        \n",
    "        posicion_contador+=1\n",
    "\n",
    "f.tight_layout()"
   ]
  },
  {
   "cell_type": "code",
   "execution_count": 308,
   "metadata": {},
   "outputs": [],
   "source": [
    "temp = (pd.DatetimeIndex(df2['LLEGADA']) - pd.DatetimeIndex(df2['SALIDA']))"
   ]
  },
  {
   "cell_type": "code",
   "execution_count": 336,
   "metadata": {},
   "outputs": [
    {
     "data": {
      "text/plain": [
       "('01', '1/1/2016 0:16')"
      ]
     },
     "execution_count": 336,
     "metadata": {},
     "output_type": "execute_result"
    }
   ],
   "source": [
    "temp[0], df2['LLEGADA'][0]"
   ]
  },
  {
   "cell_type": "code",
   "execution_count": 703,
   "metadata": {},
   "outputs": [
    {
     "name": "stdout",
     "output_type": "stream",
     "text": [
      "1490199240.0 11435\n"
     ]
    },
    {
     "data": {
      "text/plain": [
       "datetime.datetime(2017, 3, 22, 9, 14)"
      ]
     },
     "execution_count": 703,
     "metadata": {},
     "output_type": "execute_result"
    }
   ],
   "source": [
    "temp_a = df2['SALIDA'].apply(to_datetime_format)\n",
    "# temp_b = df2['LLEGADA'].apply(to_datetime_format)\n",
    "\n",
    "temp = datetime.datetime.now()\n",
    "\n",
    "# help(temp)\n",
    "\n",
    "# datetime.datetime.fromtimestamp(1563749035.736113)\n",
    "\n",
    "# , 1563749196.421949\n",
    "times = [1563749138.358699, 1563749112.493369, 1563749144.519458, 1563749151.948219, 1563749162.736264, 1563749174.898651]\n",
    "times.sort()\n",
    "\n",
    "\n",
    "\n",
    "temp = datetime.datetime.now()\n",
    "temp.timestamp()\n",
    "\n",
    "times_string = df2[df2['LLEGADA'].isna()!=True]['LLEGADA'].values\n",
    "timestamps = list(map(lambda x: to_datetime_format(x).timestamp(),times_string))\n",
    "median_string_datetime(timestamps)\n",
    "  "
   ]
  }
 ],
 "metadata": {
  "kernelspec": {
   "display_name": "Python 3",
   "language": "python",
   "name": "python3"
  },
  "language_info": {
   "codemirror_mode": {
    "name": "ipython",
    "version": 3
   },
   "file_extension": ".py",
   "mimetype": "text/x-python",
   "name": "python",
   "nbconvert_exporter": "python",
   "pygments_lexer": "ipython3",
   "version": "3.5.2"
  }
 },
 "nbformat": 4,
 "nbformat_minor": 2
}
