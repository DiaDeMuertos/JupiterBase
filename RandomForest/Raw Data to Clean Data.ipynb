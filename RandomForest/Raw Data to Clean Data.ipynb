{
 "cells": [
  {
   "cell_type": "code",
   "execution_count": 1,
   "metadata": {},
   "outputs": [],
   "source": [
    "import pandas as pd\n",
    "import numpy as np\n",
    "from datetime import datetime, timedelta\n",
    "import re"
   ]
  },
  {
   "cell_type": "code",
   "execution_count": 2,
   "metadata": {},
   "outputs": [],
   "source": [
    "def to_datetime_format(value):\n",
    "    pattern_1 = r'^\\d+/\\d+/\\d+ \\d+:\\d+$'\n",
    "    pattern_2 = r'^\\d+-\\d+-\\d+ \\d+:\\d+$'\n",
    "    pattern_3 = r'^\\d+/\\d+/\\d+$'\n",
    "    pattern_4 = r'^\\d+-\\d+-\\d+$'\n",
    "    \n",
    "    if re.match(pattern_1, value):\n",
    "        (date, time) = value.split(' ')\n",
    "        (day, month, year) = date.split('/')\n",
    "        (minutes, seconds) = time.split(':')\n",
    "\n",
    "        year = int(year) if len(year) == 4 else int(year) + 2000\n",
    "        month = int(month)\n",
    "        day = int(day)\n",
    "        minutes = int(minutes)\n",
    "        seconds = int(seconds)\n",
    "        \n",
    "    elif re.match(pattern_2, value):\n",
    "        (date, time) = value.split(' ')\n",
    "        (day, month, year) = date.split('-')\n",
    "        (minutes, seconds) = time.split(':')\n",
    "\n",
    "        year = int(year) if len(year) == 4 else int(year) + 2000\n",
    "        month = int(month)\n",
    "        day = int(day)\n",
    "        minutes = int(minutes)\n",
    "        seconds = int(seconds)\n",
    "        \n",
    "    elif re.match(pattern_3, value):\n",
    "        (day, month, year) = value.split('/')\n",
    "\n",
    "        year = int(year) if len(year) == 4 else int(year) + 2000\n",
    "        month = int(month)\n",
    "        day = int(day)\n",
    "        minutes = 0\n",
    "        seconds = 0\n",
    "        \n",
    "    elif re.match(pattern_4, value):\n",
    "        (day, month, year) = value.split('-')\n",
    "\n",
    "        year = int(year) if len(year) == 4 else int(year) + 2000\n",
    "        month = int(month)\n",
    "        day = int(day)\n",
    "        minutes = 0\n",
    "        seconds = 0\n",
    "    \n",
    "    return datetime(year, month, day, minutes, seconds)\n",
    "\n",
    "def create_numeric_category(col_serie):\n",
    "    category_temp = pd.factorize(col_serie.str.lower(), sort=True)[0]\n",
    "    jump = abs(min(category_temp))\n",
    "    return category_temp + jump"
   ]
  },
  {
   "cell_type": "code",
   "execution_count": 3,
   "metadata": {},
   "outputs": [
    {
     "data": {
      "text/html": [
       "<div>\n",
       "<style scoped>\n",
       "    .dataframe tbody tr th:only-of-type {\n",
       "        vertical-align: middle;\n",
       "    }\n",
       "\n",
       "    .dataframe tbody tr th {\n",
       "        vertical-align: top;\n",
       "    }\n",
       "\n",
       "    .dataframe thead th {\n",
       "        text-align: right;\n",
       "    }\n",
       "</style>\n",
       "<table border=\"1\" class=\"dataframe\">\n",
       "  <thead>\n",
       "    <tr style=\"text-align: right;\">\n",
       "      <th></th>\n",
       "      <th>FOLIO</th>\n",
       "      <th>TIPO</th>\n",
       "      <th>LUGAR</th>\n",
       "      <th>FECHA</th>\n",
       "      <th>SALIDA</th>\n",
       "      <th>LLEGADA</th>\n",
       "      <th>CAUSA</th>\n",
       "      <th>COLONIA</th>\n",
       "      <th>ESTACION</th>\n",
       "    </tr>\n",
       "  </thead>\n",
       "  <tbody>\n",
       "    <tr>\n",
       "      <th>0</th>\n",
       "      <td>01012016-0007-INZB-2A</td>\n",
       "      <td>INCENDIO DE ZACATE Y BASURA</td>\n",
       "      <td>COMERCIO</td>\n",
       "      <td>1/1/2016</td>\n",
       "      <td>1/1/2016 0:07</td>\n",
       "      <td>1/1/2016 0:16</td>\n",
       "      <td>FUEGO DIRECTO</td>\n",
       "      <td>SIN COLONIA</td>\n",
       "      <td>2.0</td>\n",
       "    </tr>\n",
       "    <tr>\n",
       "      <th>1</th>\n",
       "      <td>01012016-0022-INZB-1A</td>\n",
       "      <td>INCENDIO DE ZACATE Y BASURA</td>\n",
       "      <td>CASA</td>\n",
       "      <td>1/1/2016</td>\n",
       "      <td>1/1/2016 0:22</td>\n",
       "      <td>1/1/2016 0:32</td>\n",
       "      <td>FUEGO DIRECTO</td>\n",
       "      <td>LOMAS DE MADRID</td>\n",
       "      <td>1.0</td>\n",
       "    </tr>\n",
       "  </tbody>\n",
       "</table>\n",
       "</div>"
      ],
      "text/plain": [
       "                   FOLIO                         TIPO     LUGAR     FECHA  \\\n",
       "0  01012016-0007-INZB-2A  INCENDIO DE ZACATE Y BASURA  COMERCIO  1/1/2016   \n",
       "1  01012016-0022-INZB-1A  INCENDIO DE ZACATE Y BASURA      CASA  1/1/2016   \n",
       "\n",
       "          SALIDA        LLEGADA          CAUSA          COLONIA  ESTACION  \n",
       "0  1/1/2016 0:07  1/1/2016 0:16  FUEGO DIRECTO      SIN COLONIA       2.0  \n",
       "1  1/1/2016 0:22  1/1/2016 0:32  FUEGO DIRECTO  LOMAS DE MADRID       1.0  "
      ]
     },
     "execution_count": 3,
     "metadata": {},
     "output_type": "execute_result"
    }
   ],
   "source": [
    "df = pd.read_csv('data/serviciosbomberoshmo.csv', encoding='latin1')\n",
    "df.head(2)"
   ]
  },
  {
   "cell_type": "code",
   "execution_count": 4,
   "metadata": {},
   "outputs": [
    {
     "name": "stdout",
     "output_type": "stream",
     "text": [
      "Faltan datos en:\n",
      "\n",
      "TIPO\n",
      "LUGAR\n",
      "LLEGADA\n",
      "CAUSA\n",
      "COLONIA\n",
      "ESTACION\n"
     ]
    }
   ],
   "source": [
    "columns = df.columns\n",
    "\n",
    "print('Faltan datos en:\\n')\n",
    "for col in columns:\n",
    "    if df[(df[col].isna()) | (df[col].isnull())].size != 0:\n",
    "        print(col)"
   ]
  },
  {
   "cell_type": "code",
   "execution_count": 5,
   "metadata": {},
   "outputs": [],
   "source": [
    "# col = 'ESTACION';\n",
    "# df[(df[col].isna()) | (df[col].isnull())]\n",
    "# df[col].unique()\n",
    "# df[df[col] == 'ENDA']\n",
    "# df[col].replace('-','',inplace=True)\n",
    "\n",
    "df['TIPO'].fillna('OTROS', inplace=True)\n",
    "\n",
    "df['LUGAR'].replace('-','OTROS',inplace=True)\n",
    "df['LUGAR'].replace('ENDA','OTROS',inplace=True)\n",
    "df['LUGAR'].fillna('OTROS', inplace=True)\n",
    "\n",
    "df['CAUSA'].fillna('OTROS', inplace=True)\n",
    "\n",
    "df['COLONIA'].fillna('SIN COLONIA', inplace=True)\n",
    "\n",
    "df['ESTACION'].fillna(0, inplace=True)\n"
   ]
  },
  {
   "cell_type": "code",
   "execution_count": 6,
   "metadata": {},
   "outputs": [
    {
     "data": {
      "text/plain": [
       "Timedelta('0 days 00:08:00')"
      ]
     },
     "execution_count": 6,
     "metadata": {},
     "output_type": "execute_result"
    }
   ],
   "source": [
    "df_salida_llegada = df[df['LLEGADA'].isna()!=True][['SALIDA','LLEGADA']].copy()\n",
    "\n",
    "salida = df_salida_llegada['SALIDA'].apply(to_datetime_format)\n",
    "llegada = df_salida_llegada['LLEGADA'].apply(to_datetime_format)\n",
    "\n",
    "timepo_de_llegada = llegada - salida\n",
    "\n",
    "timepo_de_llegada.median()"
   ]
  },
  {
   "cell_type": "code",
   "execution_count": 7,
   "metadata": {},
   "outputs": [],
   "source": [
    "llegada_nueva = df[df['LLEGADA'].isna()]['SALIDA'].apply(to_datetime_format) + timepo_de_llegada.median()\n",
    "\n",
    "df.loc[df['LLEGADA'].isna(),'LLEGADA'] = llegada_nueva.apply(lambda x: x.strftime('%d-%m-%Y %H:%M'))"
   ]
  },
  {
   "cell_type": "code",
   "execution_count": 8,
   "metadata": {},
   "outputs": [
    {
     "data": {
      "text/plain": [
       "0    1\n",
       "1    1\n",
       "Name: SALIDA, dtype: int64"
      ]
     },
     "execution_count": 8,
     "metadata": {},
     "output_type": "execute_result"
    }
   ],
   "source": [
    "temp = df['SALIDA'].apply(to_datetime_format).apply(lambda x: x.day)\n",
    "temp.head(2)"
   ]
  },
  {
   "cell_type": "code",
   "execution_count": 9,
   "metadata": {},
   "outputs": [],
   "source": [
    "df['TIPO_ID'] = create_numeric_category(df['TIPO'])\n",
    "df['LUGAR_ID'] = create_numeric_category(df['LUGAR'])\n",
    "df['CAUSA_ID'] = create_numeric_category(df['CAUSA'])\n",
    "df['COLONIA_ID'] = create_numeric_category(df['COLONIA'])"
   ]
  },
  {
   "cell_type": "code",
   "execution_count": 10,
   "metadata": {},
   "outputs": [],
   "source": [
    "df['SALIDA_AÑO'] = df['SALIDA'].apply(to_datetime_format).apply(lambda x: x.year)\n",
    "df['SALIDA_MES'] = df['SALIDA'].apply(to_datetime_format).apply(lambda x: x.month)\n",
    "df['SALIDA_DIA'] = df['SALIDA'].apply(to_datetime_format).apply(lambda x: x.day)\n",
    "\n",
    "df['LLEGADA_AÑO'] = df['LLEGADA'].apply(to_datetime_format).apply(lambda x: x.year)\n",
    "df['LLEGADA_MES'] = df['LLEGADA'].apply(to_datetime_format).apply(lambda x: x.month)\n",
    "df['LLEGADA_DIA'] = df['LLEGADA'].apply(to_datetime_format).apply(lambda x: x.day)"
   ]
  },
  {
   "cell_type": "code",
   "execution_count": 11,
   "metadata": {},
   "outputs": [],
   "source": [
    "df['FECHA_AÑO'] = df['FECHA'].apply(to_datetime_format).apply(lambda x: x.year)\n",
    "df['FECHA_MES'] = df['FECHA'].apply(to_datetime_format).apply(lambda x: x.month)\n",
    "df['FECHA_DIA'] = df['FECHA'].apply(to_datetime_format).apply(lambda x: x.day)\n",
    "df['FECHA_DIA_SEMANA'] = df['FECHA'].apply(to_datetime_format).apply(lambda x: x.weekday())"
   ]
  },
  {
   "cell_type": "code",
   "execution_count": 16,
   "metadata": {},
   "outputs": [],
   "source": [
    "salida = df['SALIDA'].apply(to_datetime_format)\n",
    "llegada = df['LLEGADA'].apply(to_datetime_format)\n",
    "\n",
    "tiempo_de_llegada = llegada - salida\n",
    "\n",
    "df['TIEMPO_DE_LLEGADA_MINUTOS'] = tiempo_de_llegada.apply(lambda x: x.seconds // 60)"
   ]
  },
  {
   "cell_type": "code",
   "execution_count": 13,
   "metadata": {},
   "outputs": [],
   "source": [
    "df.to_csv('data/serviciosbomberoshmo_ready.csv', encoding='latin1',index = None)"
   ]
  }
 ],
 "metadata": {
  "kernelspec": {
   "display_name": "Python 3",
   "language": "python",
   "name": "python3"
  },
  "language_info": {
   "codemirror_mode": {
    "name": "ipython",
    "version": 3
   },
   "file_extension": ".py",
   "mimetype": "text/x-python",
   "name": "python",
   "nbconvert_exporter": "python",
   "pygments_lexer": "ipython3",
   "version": "3.5.2"
  }
 },
 "nbformat": 4,
 "nbformat_minor": 2
}
